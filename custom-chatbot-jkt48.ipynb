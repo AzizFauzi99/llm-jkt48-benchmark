{
  "cells": [
    {
      "cell_type": "markdown",
      "metadata": {
        "id": "LVzGbRsVYXfS"
      },
      "source": [
        "#**1: Install All the Required Packages**"
      ]
    },
    {
      "cell_type": "code",
      "execution_count": 48,
      "metadata": {
        "colab": {
          "base_uri": "https://localhost:8080/"
        },
        "id": "0xs5mGElXeRW",
        "outputId": "a8b162e4-4082-4f07-a22c-44118896ff64"
      },
      "outputs": [
        {
          "name": "stdout",
          "output_type": "stream",
          "text": [
            "Requirement already satisfied: openai in /usr/local/lib/python3.10/dist-packages (1.51.1)\n",
            "Requirement already satisfied: anyio<5,>=3.5.0 in /usr/local/lib/python3.10/dist-packages (from openai) (3.7.1)\n",
            "Requirement already satisfied: distro<2,>=1.7.0 in /usr/lib/python3/dist-packages (from openai) (1.7.0)\n",
            "Requirement already satisfied: httpx<1,>=0.23.0 in /usr/local/lib/python3.10/dist-packages (from openai) (0.27.2)\n",
            "Requirement already satisfied: jiter<1,>=0.4.0 in /usr/local/lib/python3.10/dist-packages (from openai) (0.6.0)\n",
            "Requirement already satisfied: pydantic<3,>=1.9.0 in /usr/local/lib/python3.10/dist-packages (from openai) (2.9.2)\n",
            "Requirement already satisfied: sniffio in /usr/local/lib/python3.10/dist-packages (from openai) (1.3.1)\n",
            "Requirement already satisfied: tqdm>4 in /usr/local/lib/python3.10/dist-packages (from openai) (4.66.5)\n",
            "Requirement already satisfied: typing-extensions<5,>=4.11 in /usr/local/lib/python3.10/dist-packages (from openai) (4.12.2)\n",
            "Requirement already satisfied: idna>=2.8 in /usr/local/lib/python3.10/dist-packages (from anyio<5,>=3.5.0->openai) (3.10)\n",
            "Requirement already satisfied: exceptiongroup in /usr/local/lib/python3.10/dist-packages (from anyio<5,>=3.5.0->openai) (1.2.2)\n",
            "Requirement already satisfied: certifi in /usr/local/lib/python3.10/dist-packages (from httpx<1,>=0.23.0->openai) (2024.8.30)\n",
            "Requirement already satisfied: httpcore==1.* in /usr/local/lib/python3.10/dist-packages (from httpx<1,>=0.23.0->openai) (1.0.6)\n",
            "Requirement already satisfied: h11<0.15,>=0.13 in /usr/local/lib/python3.10/dist-packages (from httpcore==1.*->httpx<1,>=0.23.0->openai) (0.14.0)\n",
            "Requirement already satisfied: annotated-types>=0.6.0 in /usr/local/lib/python3.10/dist-packages (from pydantic<3,>=1.9.0->openai) (0.7.0)\n",
            "Requirement already satisfied: pydantic-core==2.23.4 in /usr/local/lib/python3.10/dist-packages (from pydantic<3,>=1.9.0->openai) (2.23.4)\n",
            "Requirement already satisfied: tiktoken in /usr/local/lib/python3.10/dist-packages (0.8.0)\n",
            "Requirement already satisfied: regex>=2022.1.18 in /usr/local/lib/python3.10/dist-packages (from tiktoken) (2024.9.11)\n",
            "Requirement already satisfied: requests>=2.26.0 in /usr/local/lib/python3.10/dist-packages (from tiktoken) (2.32.3)\n",
            "Requirement already satisfied: charset-normalizer<4,>=2 in /usr/local/lib/python3.10/dist-packages (from requests>=2.26.0->tiktoken) (3.3.2)\n",
            "Requirement already satisfied: idna<4,>=2.5 in /usr/local/lib/python3.10/dist-packages (from requests>=2.26.0->tiktoken) (3.10)\n",
            "Requirement already satisfied: urllib3<3,>=1.21.1 in /usr/local/lib/python3.10/dist-packages (from requests>=2.26.0->tiktoken) (2.2.3)\n",
            "Requirement already satisfied: certifi>=2017.4.17 in /usr/local/lib/python3.10/dist-packages (from requests>=2.26.0->tiktoken) (2024.8.30)\n"
          ]
        }
      ],
      "source": [
        "!pip -q install langchain langchain-community\n",
        "!pip -q install pypdf\n",
        "!pip -q install sentence_transformers\n",
        "!pip install openai\n",
        "!pip install tiktoken"
      ]
    },
    {
      "cell_type": "code",
      "execution_count": 49,
      "metadata": {
        "colab": {
          "base_uri": "https://localhost:8080/"
        },
        "id": "2wTAq_eEdYXJ",
        "outputId": "8962e29a-8db2-4617-9503-2400216e04d3"
      },
      "outputs": [
        {
          "name": "stdout",
          "output_type": "stream",
          "text": [
            "Requirement already satisfied: tokenizers in /usr/local/lib/python3.10/dist-packages (0.19.1)\n",
            "Requirement already satisfied: huggingface-hub<1.0,>=0.16.4 in /usr/local/lib/python3.10/dist-packages (from tokenizers) (0.24.7)\n",
            "Requirement already satisfied: filelock in /usr/local/lib/python3.10/dist-packages (from huggingface-hub<1.0,>=0.16.4->tokenizers) (3.16.1)\n",
            "Requirement already satisfied: fsspec>=2023.5.0 in /usr/local/lib/python3.10/dist-packages (from huggingface-hub<1.0,>=0.16.4->tokenizers) (2024.6.1)\n",
            "Requirement already satisfied: packaging>=20.9 in /usr/local/lib/python3.10/dist-packages (from huggingface-hub<1.0,>=0.16.4->tokenizers) (24.1)\n",
            "Requirement already satisfied: pyyaml>=5.1 in /usr/local/lib/python3.10/dist-packages (from huggingface-hub<1.0,>=0.16.4->tokenizers) (6.0.2)\n",
            "Requirement already satisfied: requests in /usr/local/lib/python3.10/dist-packages (from huggingface-hub<1.0,>=0.16.4->tokenizers) (2.32.3)\n",
            "Requirement already satisfied: tqdm>=4.42.1 in /usr/local/lib/python3.10/dist-packages (from huggingface-hub<1.0,>=0.16.4->tokenizers) (4.66.5)\n",
            "Requirement already satisfied: typing-extensions>=3.7.4.3 in /usr/local/lib/python3.10/dist-packages (from huggingface-hub<1.0,>=0.16.4->tokenizers) (4.12.2)\n",
            "Requirement already satisfied: charset-normalizer<4,>=2 in /usr/local/lib/python3.10/dist-packages (from requests->huggingface-hub<1.0,>=0.16.4->tokenizers) (3.3.2)\n",
            "Requirement already satisfied: idna<4,>=2.5 in /usr/local/lib/python3.10/dist-packages (from requests->huggingface-hub<1.0,>=0.16.4->tokenizers) (3.10)\n",
            "Requirement already satisfied: urllib3<3,>=1.21.1 in /usr/local/lib/python3.10/dist-packages (from requests->huggingface-hub<1.0,>=0.16.4->tokenizers) (2.2.3)\n",
            "Requirement already satisfied: certifi>=2017.4.17 in /usr/local/lib/python3.10/dist-packages (from requests->huggingface-hub<1.0,>=0.16.4->tokenizers) (2024.8.30)\n",
            "Collecting faiss-cpu\n",
            "  Downloading faiss_cpu-1.8.0.post1-cp310-cp310-manylinux_2_17_x86_64.manylinux2014_x86_64.whl.metadata (3.7 kB)\n",
            "Requirement already satisfied: numpy<2.0,>=1.0 in /usr/local/lib/python3.10/dist-packages (from faiss-cpu) (1.24.4)\n",
            "Requirement already satisfied: packaging in /usr/local/lib/python3.10/dist-packages (from faiss-cpu) (24.1)\n",
            "Downloading faiss_cpu-1.8.0.post1-cp310-cp310-manylinux_2_17_x86_64.manylinux2014_x86_64.whl (27.0 MB)\n",
            "\u001b[2K   \u001b[90m━━━━━━━━━━━━━━━━━━━━━━━━━━━━━━━━━━━━━━━━\u001b[0m \u001b[32m27.0/27.0 MB\u001b[0m \u001b[31m40.8 MB/s\u001b[0m eta \u001b[36m0:00:00\u001b[0m\n",
            "\u001b[?25hInstalling collected packages: faiss-cpu\n",
            "Successfully installed faiss-cpu-1.8.0.post1\n"
          ]
        }
      ],
      "source": [
        "!pip install tokenizers\n",
        "!pip install faiss-cpu\n",
        "!pip -q install unstructured"
      ]
    },
    {
      "cell_type": "code",
      "execution_count": null,
      "metadata": {
        "colab": {
          "base_uri": "https://localhost:8080/",
          "height": 357
        },
        "id": "_SHyZ27I3Wmz",
        "outputId": "be04dc9c-bf9a-4198-fe73-3e2eaa6370cd"
      },
      "outputs": [],
      "source": [
        "!pip install numpy==1.24.4\n",
        "!pip install nltk==3.9.1"
      ]
    },
    {
      "cell_type": "markdown",
      "metadata": {
        "id": "qmOAmLPKaBxX"
      },
      "source": [
        "#**2: Import All the Required Libraries**"
      ]
    },
    {
      "cell_type": "code",
      "execution_count": 1,
      "metadata": {
        "id": "XqJ9GkdXZ0qm"
      },
      "outputs": [],
      "source": [
        "import sys\n",
        "import os\n",
        "import torch\n",
        "import textwrap\n",
        "from langchain.document_loaders import UnstructuredURLLoader\n",
        "from langchain.text_splitter import CharacterTextSplitter\n",
        "from langchain.embeddings import OpenAIEmbeddings\n",
        "from langchain.chat_models import ChatOpenAI\n",
        "from langchain.vectorstores import FAISS\n",
        "from langchain.chains import RetrievalQAWithSourcesChain"
      ]
    },
    {
      "cell_type": "code",
      "execution_count": 2,
      "metadata": {
        "colab": {
          "base_uri": "https://localhost:8080/"
        },
        "id": "HaR-PGkn-GlD",
        "outputId": "4aa54c49-abb3-4939-8155-bc15a6a5c51d"
      },
      "outputs": [
        {
          "name": "stderr",
          "output_type": "stream",
          "text": [
            "[nltk_data] Downloading package punkt to /usr/share/nltk_data...\n",
            "[nltk_data]   Package punkt is already up-to-date!\n",
            "[nltk_data] Downloading package averaged_perceptron_tagger to\n",
            "[nltk_data]     /usr/share/nltk_data...\n",
            "[nltk_data]   Unzipping taggers/averaged_perceptron_tagger.zip.\n"
          ]
        },
        {
          "data": {
            "text/plain": [
              "True"
            ]
          },
          "execution_count": 2,
          "metadata": {},
          "output_type": "execute_result"
        }
      ],
      "source": [
        "import nltk\n",
        "nltk.download('punkt')\n",
        "nltk.download('averaged_perceptron_tagger')"
      ]
    },
    {
      "cell_type": "markdown",
      "metadata": {
        "id": "zGm8wNIslUpw"
      },
      "source": [
        "#Create an Environment"
      ]
    },
    {
      "cell_type": "code",
      "execution_count": 4,
      "metadata": {
        "id": "t2YBjadKlXd1"
      },
      "outputs": [],
      "source": [
        "os.environ['OPENAI_API_KEY'] = API_KEY"
      ]
    },
    {
      "cell_type": "markdown",
      "metadata": {
        "id": "3XtIoO7kayKZ"
      },
      "source": [
        "#**3: Pass the URLs and extract the data from these URLs**"
      ]
    },
    {
      "cell_type": "code",
      "execution_count": 5,
      "metadata": {
        "id": "5zz-5MxbavYJ"
      },
      "outputs": [],
      "source": [
        "URLs=[\n",
        "    'https://id.wikipedia.org/wiki/JKT48'\n",
        "]"
      ]
    },
    {
      "cell_type": "code",
      "execution_count": 6,
      "metadata": {
        "id": "FMwp2mEHbjfI"
      },
      "outputs": [],
      "source": [
        "loaders = UnstructuredURLLoader(urls=URLs)\n",
        "data = loaders.load()"
      ]
    },
    {
      "cell_type": "code",
      "execution_count": 7,
      "metadata": {
        "colab": {
          "base_uri": "https://localhost:8080/"
        },
        "id": "ieqoWS2wbv0g",
        "outputId": "8fd0741f-953a-42ee-8fb2-09eb89105f6e"
      },
      "outputs": [
        {
          "data": {
            "text/plain": [
              "[Document(metadata={'source': 'https://id.wikipedia.org/wiki/JKT48'}, page_content='JKT48\\n\\nBasa Bali\\n\\nBanjar\\n\\nCebuano\\n\\nEnglish\\n\\nEspañol\\n\\nFrançais\\n\\nItaliano\\n\\n日本語\\n\\nJawa\\n\\n한국어\\n\\nBahasa Melayu\\n\\nPolski\\n\\nPortuguês\\n\\nRomână\\n\\nไทย\\n\\nTagalog\\n\\nTiếng Việt\\n\\nWinaray\\n\\n中文\\n\\n文言\\n\\nSunting pranala\\n\\nDari Wikipedia bahasa Indonesia, ensiklopedia bebas\\n\\nJKT48 Logo JKT48 (sejak 2011) Informasi latar belakang Asal Jakarta , Indonesia Genre Indo pop J-pop pop pop remaja bubblegum pop pop rock dangdut jazz ska Tahun aktif ( 2011-12-17 ) 17 Desember 2011 – sekarang (12 tahun) Label Studio rekaman Dentsu Inter Admark (2011–2022) HITS Records (label fisik, 2012–2020) [ a ] Indonesia Musik Nusantara (2022–) AKA Virtual (khusus JKT48V , 2023–) Lisensi Vernalossom (2011–) Superball (2023–) Distributor (Publisher) Sony Music Entertainment Indonesia (2013–2018, uncredited ) Universal Music Indonesia (2015–2020, uncredited ) Massive Music Entertainment (2019-2021, uncredited ) INSIDE (distributor digital, 2016-2022) Believe Music (distributor digital, sejak pertengahan 2010an) Jagonya Musik & Sport Indonesia (distributor khusus milik KFC , 2017) Artis terkait AKB48 Group Sub-Grup (bubar) 4 Gulali JKT48 Dangdut JKT48 Band JKT48 Dance Project JKT48 Acoustic Tim Olahraga Elektronik Valkyrie48 Idola Virtual JKT48V (bersama AKA Virtual) Unit Internasional Quadlips (bersama Superball Situs web jkt48 .com  Anggota lihat anggota saat ini  Mantan anggota lihat mantan anggota\\n\\nLogo JKT48 NEW ERA (sejak Juni 2022) Nama dagang JKT48 Sebelumnya PT Dentsu Inter Admark Media Group Indonesia (2011–2022) (melalui JKT48 Project (2011–2018) dan DentsuX Entertainment (2018–2022) ) Jenis Perseroan terbatas Industri musik dan hiburan Genre musik , tari , dan hiburan Didirikan 11 September 2011 ; 13 tahun lalu ( 2011-09-11 ) (pertama kali diumumkan) 2 November 2011 ; 12 tahun lalu ( 2011-11-02 ) (generasi pertama diumumkan) 17 Desember 2011 ; 12 tahun lalu ( 2011-12-17 ) (debut secara perdana) 8 September 2012 ; 12 tahun lalu ( 2012-09-08 ) ( Teater JKT48 ) Pendiri Yasushi Akimoto Harris Thajeb Reino Barack [ a ] Kantor pusat JKT48 Office @ IDN HQ Lantai 3 Menara Global , Jl. Jenderal Gatot Subroto Kav. 27, Kuningan Timur , Setiabudi , Jakarta Selatan 12950, Jakarta , Indonesia Cabang JKT48 Theater Lantai 4 fX Sudirman , Jl. Jenderal Sudirman No. 1, RT .1/ RW .3, Gelora , Tanah Abang , Jakarta Pusat , DKI Jakarta , Indonesia Wilayah operasi Indonesia dan Global Tokoh kunci Nariaki Terada ( CEO Superball ) Winston Utomo (CEO IDN) William Utomo ( COO IDN) Ryo Kenjo (Kepala JKT48) Fritz Fernandez (Manajer Umum JKT48) Melody Nurramdhani Laksani (Manajer Umum Teater JKT48 ) Shani Indira Natio (Wakil Manajer Umum Teater JKT48) Toshiaki Gomi (Direktur Kreatif JKT48) Aokuri (Produser Kreatif JKT48) Shania Gracia (Kapten JKT48) Produk JKT48 Official Merchandise Pemilik Dentsu Inter Admark Media Group Indonesia ( Dentsu International ) (2011-2022) Global Mediacom ( MNC Asia Holding ) (2011-2021, secara tidak langsung) [ a ] IDN (2022-sekarang) Anggota 52 anggota JKT48 (26 Agustus 2024) Induk Dentsu Inter Admark Media Group Indonesia ( Dentsu International ) (2011-2022) Global Mediacom ( MNC Asia Holding ) (2011-2021, secara tidak langsung) [ a ] IDN (2022-sekarang) (melalui Indonesia Creators Economy (2022-sekarang) ) Lisensi: Vernalossom (2011-sekarang) (melalui Superball (2023-sekarang) ) Divisi Teater JKT48 (2012-sekarang) JKT48 Tim J (2012-2021) JKT48 Tim KIII (2013-2021) JKT48 Tim T (2015-2019, 2020-2021) D Talent Management (2016-sekarang) [ b ] JKT48 Akademi (2018-2021) [ c ] Situs web jkt48 .com\\n\\nJKT48 Foto profil JKT48 sejak 2023 Asal Jakarta, Indonesia Informasi YouTube Kanal JKT48 JKT48 TV Lokasi Indonesia Tahun\\xa0aktif ( 2011-12-03 ) 3 Desember 2011 – sekarang (12 tahun) Genre musik (utama) tarian blog video acara realitas gelar wicara acara varietas olahraga serial web permainan daring Vtuber ( JKT48V ) Pelanggan 2,57 juta [ 1 ] (1 September 2024) Total\\xa0tayang 386.727.681 [ 1 ] (1 September 2024) Jaringan Dentsu Inter Admark (2011–2022) Indonesia Musik Nusantara (2022–sekarang) Penghargaan Kreator 100.000 pelanggan N/A 1.000.000 pelanggan 2023   Diperbarui: 1 September 2024\\n\\nJKT48 adalah grup idola asal Indonesia dan grup saudari AKB48 yang pertama di luar Jepang.[2] Mengadopsi konsep AKB48, \"idol you can meet\",[3] grup ini mengadakan pertunjukan rutin di Teater JKT48 yang terletak di Lantai 4 fX Sudirman, Jakarta Pusat, DKI Jakarta.\\n\\nPer 26 Agustus 2024 tengah malam, JKT48 memiliki 52 anggota, terdiri dari 26 anggota tetap dan 26 siswi pelatihan.[4] Album studio pertama mereka, Heavy Rotation dirilis pada 16 Februari 2013 melalui HITS Records, sebuah divisi dari anak perusahaan Media Nusantara Citra (MNC), Star Media Nusantara.[a] Grup ini biasanya membawakan lagu-lagu AKB48 dan grup saudari lainnya dari AKB48 Group yang diterjemahkan ke dalam bahasa Indonesia.[5] Singel pertama mereka, River dirilis pada 11 Mei 2013. Album studio kedua mereka, Mahagita dirilis pada 23 Maret 2016 dan berhasil mencapai peringkat 5 dalam penjualan di iTunes. Album kompilasi pertama mereka, \"JKT48 Festival Greatest Hits\" dirilis pada 22 Februari 2017. Singel asli pertama mereka, Rapsodi diirlis pada 22 Januari 2020.[6] Album mini pertama mereka, \"THIS IS JKT48 NEW ERA\" dirilis secara digital pada 14 Maret 2023.[7]\\n\\nSejarah\\n\\nPendirian\\n\\nMengenai pemilihan anggota, ciri-ciri khas lokal tidak dijadikan bahan pertimbangan. Kami berpendapat bahwa pesona dari anak perempuan yang dapat kami rasakan, di negara mana pun memiliki kesamaan. (Kami) memilih dengan lebih mementingkan kepribadian, sambil juga mempertimbangkan, kalau saja ada teman sekelas seperti anak ini, alangkah bagusnya.[8]\\n\\n— Yasushi Akimoto (produser AKB48) mengenai standar seleksi\\n\\nPembentukan JKT48 pertama kali diumumkan pada 11 September 2011 di sebuah acara AKB48 yang diadakan di Makuhari Messe di Chiba.[3] Wawancara untuk peserta berlangsung pada akhir bulan September, dengan audisi final untuk finalis pada 8 Oktober 2011-9 Oktober 2011.[2]\\n\\nDari 1.200 orang pelamar yang diwawancara, 51 pelamar lolos seleksi tahap kedua.[8] Audisi tahap akhir berlangsung pada 2 November 2011. Setelah disaring kembali melalui tes menari Heavy Rotation dan menyanyikan lagu favorit, 28 orang peserta dinyatakan diterima.[8] Produser Yasushi Akimoto datang ke Jakarta untuk melakukan seleksi.\\n\\nGenerasi pertama diperkenalkan pada tanggal 2 November 2011.[9] dan diperkenalkan di situs web resmi JKT48 pada tanggal 3 November 2011. Di antara 28 anggota, ada satu anggota yang berasal dari Jepang yang bernama Rena Nozawa yang tinggal di Jakarta.[9] Produser Yasushi Akimoto mengatakan JKT48 akan menjadi \"jembatan persahabatan antara Indonesia dan Jepang\".[9]\\n\\nPenampilan dan Perjalanan Karier di Indonesia\\n\\nTahun 2011\\n\\nJKT48 tampil untuk pertama kalinya di televisi pada konser program musik televisi 100% Ampuh, tayangan langsung Global TV dari Bekasi Square, 17 Desember 2011. Lagu yang pertama kali mereka bawakan adalah Heavy Rotation dengan lirik bahasa Indonesia. Kostum JKT48 serupa dengan seragam sekolah Jepang yang menjadi ciri khas AKB48. Pada hari berikutnya, 18 Desember 2011, JKT48 untuk pertama kalinya berinteraksi dengan penggemar lewat acara bersalaman Meet & Greet JKT48 di fX Center Jakarta, dan menyanyikan Heavy Rotation.[10]\\n\\nTahun 2012\\n\\nPeluncuran video musik Heavy Rotation versi JKT48 dilakukan pada acara bersalaman 14 Januari 2012 di atrium fX Center. Video musik ini bertemakan acara penerimaan siswa baru di sekolah menengah atas.[11] Lagu ini sebelumnya dipakai untuk iklan televisi Pocari Sweat yang dibintangi anggota JKT48.[12] Setelah peluncuran Heavy Rotation, JKT48 mulai sering tampil di program musik televisi. Di SCTV, JKT48 tampil di acara Inbox dan iPop. Mereka juga tampil di 100% Ampuh dan Lampion 100% Cinta dari Global TV, serta Dahsyat di RCTI. Di Indosiar, mereka tampil di Hitzteria.[13] Lagu yang mereka bawakan adalah Heavy Rotation atau Aitakatta versi bahasa Indonesia.\\n\\nDimulai oleh Otsuka Indonesia dengan Pocari Sweat, perusahaan-perusahaan Jepang di Indonesia memakai JKT48 sebagai bintang iklan produk dan layanan mereka. Rakuten bekerja sama dengan MNC Media memakai JKT48 untuk iklan Rakuten Belanja Online,[14] Kao memakai mereka untuk iklan Laurier, dan Yamaha untuk iklan sepeda motor Mio J.[15] Sharp Electronics Indonesia memakai JKT48 untuk kegiatan promosi.[16] JKT48 menyanyikan dua lagu di acara galeri produk Sharp (Sharp Koten) di Best Denki, Senayan City, 4 Maret 2012.[17]\\n\\nJKT48 tampil bersama AKB48 dalam konser J-Pop Culture Festival 2012 di Balai Kartini, Jakarta, 25 Februari 2012. Festival ini merupakan hasil kerja sama Kedutaan Besar Jepang di Jakarta dengan Japan Foundation Jakarta, Kementerian Pariwisata dan Ekonomi Kreatif Indonesia, Komunitas Alumni Jepang di Indonesia, dan Universitas Al Azhar Indonesia.[18] Konser mereka dihadiri sekitar 3.000 penonton,[19] termasuk sebagian besar wota yang menyerukan mix dalam bahasa Jepang.[20]\\n\\nMulai 3 Maret 2012, anggota JKT48 memiliki akun di jaringan sosial AKB48 Now on Google+. Anggota keluarga besar AKB48 sudah memiliki akun Google+ sejak 8 Desember 2011. Rekaman konser bersama JKT48 dan AKB48 di Japan Pop Culture Festival 2012 ditayangkan di YouTube dan Google+ untuk memperingati pembukaan akun JKT48 di Google+.[21]\\n\\nPada 17-20 Mei 2012, JKT48 melakukan debut mereka di teater sementara, Gedung Nyi Ageng Serang, Pasar Festival, Kuningan Jakarta Selatan. JKT48 membawakan repertoar Tim B AKB48 Pajama Drive dalam versi bahasa Indonesia.\\n\\nPada tanggal 17 Juli 2012, JKT48 tampil live di acara televisi bertajuk Mega Konser JKT48 yang ditayangkan RCTI. Tidak kurang dari 10 lagu dibawakan di konser ini.\\n\\nTeater permanen JKT48 dibuka 8 September 2012 di lantai 4 mal fX Lifestyle X\\'nter, Jalan Sudirman, Jakarta. Mereka melanjutkan pementasan Pajama Drive yang sebelumnya pernah dibawakan dalam tiga rangkaian pertunjukan (17–20 Mei, 14–17 Juni, dan 13–15 Juli 2012) di dua tempat sementara, Gedung Nyi Ageng Serang Kuningan dan Pasaraya Grande, Blok M.\\n\\nPerayaan ulang tahun pertama JKT48 diadakan di Teater JKT48, 23 Desember 2012, dan ditayangkan langsung oleh RCTI dalam acara Dahsyat. Acara dimulai dengan diumumkannya setlist Aturan Anti Cinta (Renai Kinshi Jourei) sebagai judul pertunjukan teater berikutnya di Teater JKT48 mulai 26 Desember 2012. Penonton konser tersebut mendapat secara gratis 4 CD promo lagu berbahasa Indonesia dari JKT48: Heavy Rotation, Baby! Baby! Baby!, Ponytail to Chou Chou (Ponytail dan Shu-shu), serta Kimi no Koto ga Suki Dakara (Karena Kusuka Dirimu) yang masing-masing hanya berisi sebuah lagu. Keempat CD tersebut merupakan bagian dari promosi CD album debut JKT48.\\n\\nKonser JKT48 First Anniversary Event digelar Gedung Bulutangkis Senayan, juga pada 23 Desember 2012. Pada konser tersebut diumumkan pembentukan Tim J sekaligus pengangkatan 22 angggota Generasi Pertama berikut Aki Takajo dan Haruka Nakagawa sebagai anggota Tim J. Devi Kinal Putri diangkat sebagai kapten Tim J. Pada konser itu, JKT48 untuk pertama kalinya menampilkan lagu Hikouki Gumo dari setlist Aturan Anti Cinta. Aki Takajo menempati posisi sentral untuk lagu Karena Kusuka Dirimu yang dibawakan oleh Tim J,[22] dan Generasi 2 JKT48 membawakan lagu Aitakatta.\\n\\nTahun 2013\\n\\nUntuk meresmikan penjualan album perdana JKT48 Heavy Rotation, JKT48 menyelenggarakan konser JKT48 atau Mega Konser JKT48 ke-2 Warnai Harimu di studio RCTI dan disiarkan live di RCTI, 17 Februari 2013. JKT48 membawakan 7 dari 10 lagu yang ada di album perdana JKT48 di konser ini. Selain dipandu Ajun Perwira dan Denny Cagur, acara ini juga dimeriahkan oleh Motion, Ran, The Finest Tree, dan pesulap Bow Vernon.\\n\\nJKT48 mengadakan sebuah konser virtual dengan jumlah kru 5218 orang, pengumpulan kru dimulai sejak 17 April 2013. Konser yang bertajuk Demi Konser JKT48 diusung oleh Indosat IM3 selaku brand ambassador JKT48. Konser itu merupakan Konser Digital Pertama Dengan Kru Terbanyak dan masuk ke dalam Museum Rekor Indonesia (MURI). Konser yang diadakan pada tanggal 24 Mei 2013 ini disaksikan 100 orang terbaik dari kru yang ikut serta dan ditampilkan di theater JKT48 dengan menyanyikan 10 Lagu, termasuk singel terbaru mereka berjudul RIVER.[23]\\n\\nDari 23 Juni hingga 4 Juli 2013, JKT48 mengadakan konser di 5 kota besar di Indonesia dengan tajuk Perkenalkan, Nama Kami JKT48. Konser dimulai di Makassar (23 Juni), dilanjutkan dengan di Solo (27 Juni), Balikpapan (28 Juni), Surabaya (30 Juni), dan ditutup dengan tiga kali pertunjukan selama dua hari di Tennis Indoor Senayan, Jakarta (3-4 Juli).[24][25]\\n\\nDari 29 September 2013 hingga 8 Desember 2013, JKT48 mengadakan konser di 5 kota besar lainnya di Indonesia dengan tajuk JKT48 Sparkling Concert Tour. Konser dimulai di Banjarmasin (29 September 2013) bertajuk JKT48 Datang!!!, dilanjutkan Batam (13 Oktober 2013) bertajuk JKT48 Action, Medan (19 Oktober 2013) bertajuk JKT48 Horas!!!, Bandung (2 November 2013) bertajuk JKT48 Geulis!!!, dan penutup di Malang (8 Desember 2013) bertajuk JKT48 OYI!.\\n\\nJKT48 juga menggelar konser di Bogor (5 Oktober 2013) bertajuk Indosat IM3 From Bogor With Love dan Palangkaraya (26 Oktober 2013) bertajuk JKT48 Live in Palangkaraya.\\n\\nTanggal 12 Desember 2013, JKT48 tampil di dalam sebuah acara tahunan MarkPlus Conference 2014, di dalam acara tersebut JKT48 mendapatkan sebuah penghargaan yaitu \"MarkPlus New Wave Marketing Recognition Awards 2013\" dari MArkPlus, Inc.\\n\\nPada tanggal 21 Desember 2013, JKT48 mengadakan konser 2nd Anniversary Performing All Out! Terima Kasih Telah Menjadi Temanku!! di Plenary Hall, Jakarta Convention Center, Jakarta. Konser yang digelar dua kali sehari ini (show 1: 13:00 WIB dan show 2: 19:00 WIB) mengumumkan bahwa Melody Nurramdhani Laksani didaulat sebagai Kapten JKT48.Dan di konser ini official mengumumkan setlist baru untuk Team J yaitu Dareka no Tame ni. Di konser ini juga JKT48 menyanyikan lagu New Ship dan Shoujotachi Yo untuk pertama kalinya. Konser ini juga dimeriahkan oleh Cowcow, komedian dari Jepang.\\n\\nTahun 2014\\n\\nPada tanggal 7 Maret 2014, JKT48 menggelar konser di Trans Studio Bandung bertajuk A Night With JKT48 The Exclusive Concert. Dengan membawa 22 member dan menyanyikan hingga 20 lagu termasuk unit song, encore dan overture. Yang spesial dari konser ini adalah pemutaran video klip Flying Get dan Malu – Malu Lollypop di luar theater JKT48 untuk pertama kali.[26]\\n\\nPada 15 Maret 2014, JKT48 menggelar konser untuk merayakan dirilisnya singel kelima JKT48 Flying Get. Konser yang bertajuk JKT48 5th Single CD Flying Get Launching Concert ini digelar di Balai Kartini Nusa Indah Theatre. Terhitung member JKT48 menyanyikan sedikitnya 21 lagu. Di konser ini juga member memerankan sebuah sketsa dengan tema pemilihan caleg (sosialisasi pemilihan umum). Tak hanya sampai di situ, kejutan selanjutnya adalah JKT48 memperkenalkan 32 member generasi ketiganya. Mereka untuk pertama kali perform dengan membawakan lagu Aitakatta. Pada konser ini juga diumumkan hasil voting sementara senbatsu sousenkyo untuk singel ke-6 JKT48.[27]\\n\\nPada 26 April 2014, untuk pertama kalinya JKT48 melakukan pemilihan member untuk singel ke-6 JKT48. Pengumuman sementara telah dilakukan sebanyak 2 kali, dan puncak pengumuman pemilihannya dilaksanakan pada tanggal 26 April 2014 dengan 2 sesi. Sesi 1 disiarkan melalui live streaming di situs Visi Media Asia pukul 14:00-15:00 WIB dan sesi 2 disiarkan secara live di ANTV pukul 19:00-20:30 WIB. Acara dengan judul HONDA Presents The Power of Dreams Pemilihan Member Single Ke-6 JKT48 dipandu oleh Irgy Ahmad Fahrezy dan Christie Julia. Pengumuman akhir bisa dilihat di situs resmi JKT48 Pemilihan Member Pilihan Single Ke-6 Diarsipkan 2016-03-13 di Wayback Machine. [28]\\n\\nPada 13 Mei 2014, dalam acara penutupan Jakarta Marketing Week 2014 selain menyanyikan 3 lagu, JKT48 juga mendapat penghargaan Certificate of Appreciation JKT48 in Appreciation of Outstanding Contribution. Acara tersebut rencananya dihadiri oleh Wakil Gubernur DKI Jakarta, Bpk. Basuki Tjahaja Purnama. Namun karena ia berhalangan hadir, kehadirannya digantikan oleh Kepala Dinas Pariwisata DKI Jakarta, Bpk. Ari Budiman. Turut hadir Menteri Pariwisata dan Ekonomi Kreatif (Parekraf) Indonesia, Ibu Mari Elka Pangestu dan sejumlah tokoh-tokoh dari lintas industri.\\n\\nPada 8 Agustus 2014, untuk pertama kalinya JKT48 bisa sepanggung dengan girlband asal korea SISTAR dalam konser yang bertajuk Shinzu\\'i White Concert yang digelar di Istoran Senayan Jakarta. Dalam konser tersebut JKT48 menyanyikan lima lagu, dilanjutkan oleh penampilan A Pink, Soomin dan Crispy Crunch.[29]\\n\\nPada 23 Agustus 2014, JKT48 tampil all member dengan total 70 member di konser mahakarya 25 tahun RCTI yang digelar di stadion utama Gelora Bung Karno, Jakarta. Dengan menampilkan total 7 lagu, di pengujung acara JKT48 membentuk sebuah formasi bertuliskan RCTI. Konser ini juga dimeriahkan oleh Super Junior-M Agnez Mo, NOAH, Kotak, Ungu, Mahadewa, Ayu Ting Ting, Repvblik, Al El Dul, Fatin, Regina, Novita Dewi, Nowela, Virzha, Husein DLL [30][31]\\n\\nPada 10 September 2014, JKT48 tampil di Press Conference dari sebuah Anime dan Video Game Aikatsu! yang digelar di theater JKT48. Animenya sendiri tayang di RCTI mulai September ini. Melody, Haruka, Nabilah, Viny, Yuvia dan Hanna menjadi enam member yang menjadi perwakilan JKT48 sebagai duta Aikatsu!.\\n\\nSoundtrack opening Aikatsu! Signalize! dinyanyikan oleh Yupi, Hanna dan Viny, ending song Calendar Girl dinyanyikan oleh Yuvia.[32][33][34]\\n\\nPada 8 Oktober 2014, Pemerintah Provinsi DKI Jakarta melalui Dinas Pariwisata dan Kebudayaan DKI Jakarta menggandeng grup musik JKT48 sebagai duta Enjoy Jakarta untuk menarik wisatawan domestik datang ke Jakarta.[35] JKT48 juga diharapkan agar bisa menggandeng grup saudarinya yang ada di Tokyo, yakni AKB48 untuk bersama-sama mempromosikan pariwisata Jakarta di Jepang.[36]\\n\\nPada 11 Desember 2014, JKT48 bersama dengan Slank dinobatkan oleh Badan Narkotika Nasional (BNN) sebagai duta anti narkoba dalam acara Konser Indonesia WOW! di Jakarta.[37]\\n\\nTahun 2018\\n\\nJKT48 RE:BOOST\\n\\nPada tanggal 8 April 2018, Melody Nurramdhani Laksani (Bertindak sebagai General Manager untuk JKT48 Operation Team) mengumumkan beberapa pengumuman penting di Teater JKT48 sekitar pukul 19.00. Beberapa dari pengumuman tersebut adalah:\\n\\nJKT48 akan menggunakan tagline baru \"JKT48 RE:BOOST\" dengan moto bukan lagi \"Idol You Can Meet\" tetapi \"Idol Who Will Come to Meet You\"\\n\\nJKT48 akan meluncurkan rangkaian kegiatan baru untuk memenuhi moto Idol who will come to meet you yaitu \"JKT48 Circus\" dengan rangkaian kegiatan di luar kota yang bisa meliputi: Theater Performance, Handshake Event, OFC Event, 2 Shot, dan kegiatan lainnya.\\n\\nRenovasi JKT48 Theater akan dilakukan selama bulan puasa dan akan dibuka kembali pada Lebaran dengan beberapa perbaikan yaitu: Perbaikan LED dan AC Theater.\\n\\nJKT48 akan menerapkan sistem team baru yang dibagi menjadi dua kelas: Team dan Akademi. Team akan terdiri atas Team J, Team KIII, Team T yang masing-masing berjumlah 16 orang dan sistem Akademi dengan 2 kelas: Kelas A dan Kelas B. Pergantian anggota akan diumumkan setiap Handshake Event dengan kemungkinan masing-masing, baik dari Team ataupun Akademi dapat dipromosikan maupun di demosi berdasarkan nilai performa mereka. Kepala Sekolah JKT48 Academy sendiri akan dipimpin langsung oleh Devi Kinal Putri sebagai Kepala Sekolah. Kelas A akan diisi oleh Member Siswi Pelatihan (Trainee), sementara Kelas B akan diisi oleh member Generasi 6. JKT48 Academy secara resmi diluncurkan pada 16 April 2018.\\n\\nJKT48 akan mendapatkan dua agenda acara besar tahunan, yaitu JKT48 Senbatsu Sousenkyo (kemungkinan untuk single ke-21) dan perayaan 7th Anniversary Concert yang akan dibarengkan pelaksanaannya. Pengumuman mengenai tempat, tiketing, dan lain sebagainya akan diumumkan kemudian (Melody Nurramdhani membocorkan secara sepintas kemungkinan bahwa acara ini akan dilaksanakan di luar Jakarta).\\n\\nJKT48 pada Juni 2018 akan mendapatkan double single dari lagu legendaris AKB48, yaitu Everyday, Kachuusha dan UZA!. Keduanya akan diluncurkan secara bersamaan di bulan Juni 2018.\\n\\nTahun 2019\\n\\nJKT48 \"ONE\"\\n\\nPada tanggal 22 Desember 2019, JKT48 8th Anniversary Concert \"ONE\" telah dilaksanakan di Surabaya. Bersamaan dengan itu, di akhir acara Melody Nurramdhani Laksani selaku General Manager JKT48 menjelaskan program dari project baru yaitu “ONE”. “ONE” adalah singkatan dari “One for All” yang bermakna member bersama fans menjadi satu untuk melangkah menuju masa depan.\\n\\nTahun 2021\\n\\nJKT48 NEW ERA\\n\\nPada tanggal 18 Desember 2021, JKT48 10th Anniversary Kick-Off Conference telah dilaksanakan di Balai Sarbini, Jakarta Selatan, DKI Jakarta. Konser ini untuk pertama kalinya menampilkan 31 anggota yang aktif di JKT48, sebagai Era Baru JKT48 sejak 16 Maret 2021, pasca restrukturisasi. Pada konser ini juga diumumkan singel selanjutnya dari JKT48 akan diproduksi oleh Matt Rad dan August Rigo.\\n\\nTahun 2022\\n\\nSejak JKT48 memasuki era proyek NEW ERA (Era Baru) pada 8 Januari 2022, grup ini diakuisisi dari Dentsu Inter Admark Media Group Indonesia oleh IDN (sebelumnya: IDN Media) pada 7 April 2022.[38] IDN merupakan sebuah perusahaan di bidang media bagi generasi muda di Indonesia yang didirikan oleh 2 bersaudara Winston Utomo (CEO) dan William Utomo (COO) sejak 8 Juni 2014. Namun, proses tersebut sempat dikabarkan rumor yang tengah diperbincangkan mengenai hal ini, walaupun telah dikonfirmasi oleh akun Instagram startup Indonesia @ecommurz.[39] Pada 27 Juni 2022, JKT48 resmi menjadi bagian dari IDN Media, yang ditengahi oleh Reisman Sabaru & Partners Strategic (RSPS) (salah satu firma hukum yang berbasis di Jakarta), dengan nama perusahaan grup ini yang baru adalah PT Indonesia Musik Nusantara,[40] dan dibawah lisensi dari Vernalossom Co. Ltd. (melalui Superball Inc., sejak 2 April 2023) dari Jepang.[41][42]\\n\\nKonser pertama JKT48 di bawah IDN Media adalah \"Anteraja Presents: JKT48 10th Anniversary Concert \"HEAVEN\" & Gaby Graduation Ceremony\" yang merupakan konser spesial lebih dari 10 tahun JKT48 yang menampilkan seluruh anggota JKT48, dan beberapa sebagian mantan anggota JKT48 lintas generasi (dari generasi pertama hingga ke-9), sekaligus upacara kelulusan untuk Gaby yang merupakan anggota generasi pertama yang terakhir, telah berlangsung di Istora Senayan, Jakarta Pusat, DKI Jakarta pada 6 Agustus 2022.[43]\\n\\nTahun 2023\\n\\nPasca pandemi Covid-19, JKT48 kembali menggelar acara festival berupa bertemu dan menyapa bersama anggota JKT48 (sebagai pengganti acara jabat tangan bersama anggota JKT48) dengan bertajuk \"Nice to See You!\" yang berlangsung di BRP Smesco Convention Hall, Smesco Indonesia, Jakarta Selatan, DKI Jakarta pada 7 Mei 2023, di antaranya adalah 7 anggota generasi kesepuluh (Amanda, Callie, Ella, Indira, Lia, Lyn, dan Raisha) yang ditetapkan dari status siswi pelatihan menjadi anggota tetap JKT48 dan secara efektif mulai 8 Mei 2023.[44]\\n\\nPada 2 Juli 2023, JKT48 mulai menggelar acara konser festival musim panas pertamnya dengan bertajuk \"JKT48 Summer Festival 2023\" yang berlangsung di Tennis Outdoor Senayan, Jakarta Pusat, DKI Jakarta. Di antara momen kemeriahan konser tersebut adalah: pada pertunjukan pertama atau (Nami), 13 siswi pelatihan dari generasi kesebelas bersama manajer umum Teater JKT48 Melody membawakan lagu \"Kitagawa Kenji\" dengan versi baru dan diberi judul ulang sebagai \"Melody Nurramdhani\"; dan pada pertunjukan kedua atau (Hanabi), Shani (anggota generasi ketiga dan Kapten JKT48) mengumumkan akan segera lulus dari JKT48 pada waktu yang akan datang, setelah 9,5 tahun berkarier di JKT48.[45][46]\\n\\nSetelah 5 triwulan, tepatnya pada 6 Oktober 2023, IDN Media (selaku perusahaan induk JKT48) telah meresmikan kantor baru JKT48 yang terletak di lantai 3 Menara Global, Jakarta Selatan, DKI Jakarta. Hal ini telah disambut baik oleh Winston Utomo (CEO IDN), William Utomo (COO IDN), Fritz (Manajer Umum JKT48), dan Shani (Kapten JKT48). Kantor baru ini merupakan pindahan dari sebuah rumah mewah sewaan yang ada di Jakarta, untuk dijadikan sebagai kantor dan tempat latihan khusus JKT48. Walaupun jarak antara fX Sudirman (melalui Teater JKT48 yang terletak di lantai 4) dengan Menara Global (melalui kantor baru JKT48 yang terletak di lantai 3) sekitar 3 km.[47] Ada 5 fasilitas baru yang diberikan untuk JKT48 melalui kantor barunya, yaitu:[48][49][50][51][52]\\n\\nFlying High: ruang dansa khusus yang dirancang untuk anggota JKT48, lengkap dengan lantai khusus dan sistem suara.\\n\\nLaboratorium Rekaman: studio lengkap dengan teknologi perekam audio, cocok untuk membuat musik dan konten.\\n\\nBeauty Parlor: area khusus untuk tata rias dan persiapan kostum anggota JKT48.\\n\\nRuang Kerja JKT48: arena kerja khusus untuk Timmy atau staf JKT48 (kadang biasanya disebut sebagai \"Tim Operasional JKT48\" atau \"JOT\").\\n\\nJKT48 Lounge: Lounge yang nyaman dimana anggota JKT48 dapat bersantai, bersosialisasi, dan memulihkan tenaga.\\n\\nSebelum kantor ini diresmikan, Muhammad Sadad (pendiri dari perusahaan pakaian asal Indonesia, Erigo) telah berkesempatan untuk mengunjungi kantor ini pada 21 September 2023.[53] Kemudian, pada 5 Oktober 2023, Menteri Luar Negeri Republik Indonesia Retno Marsudi beserta 60 pimpinan humas instansi swasta dan pemerintah serta pimpinan media (termasuk dari Astra International), telah menghadiri acara \"IDN Times Leadership Forum\" (dari media berita daring IDN Times, oleh COO IDN Media William Utomo dan editor-in-chief sekaligus pemimpin redaksi IDN Times Uni Lubis) di IDN Media HQ, salah satu kesempatan untuk mengunjungi di IDN Media HQ adalah kantor baru JKT48 yang berencana untuk diresmikan pada keesokan harinya.[54][50]\\n\\nPenampilan di Jepang\\n\\nTahun 2011\\n\\nJKT48 tampil pertama kali di Jepang dalam konser AKB48 Kōhaku Taikō Uta Gassen, 20 Desember 2011 di Tokyo Dome City Hall. Enam belas anggota JKT48 tampil di konser keluarga besar AKB48, SKE48, NMB48, dan HKT48. Selain ditonton oleh sekitar 2.000 orang penonton di Tokyo Dome City Hall, konser ini juga ditayangkan secara langsung di 113 layar gedung bioskop di seluruh Jepang, serta di YouTube dan Google+.[55] Dalam konser ini, keluarga besar AKB48 yang keseluruhan berjumlah 155 orang dibagi menjadi dua tim, tim merah dan tim putih yang masing-masing berusaha memperlihatkan penampilan terbaik mereka.[56] JKT48 dimasukkan ke dalam tim merah. Enam belas anggota JKT48 tampil di panggung sebagai bintang tamu sekaligus kejutan untuk penonton.[55] Sebagai wakil tim merah, JKT48 membawakan lagu Aitakatta dalam bahasa Indonesia, melawan HKT48 dari tim putih dengan Te o Tsunaginagara.[57]\\n\\nPada 21 Desember 2011, JKT48 muncul dalam acara televisi Waratte Iitomo! di Fuji TV menyanyikan Aitakatta yang liriknya diteruskan dalam bahasa Indonesia \"Denganmu...\".[58] Enam anggota JKT48, Shania, Cleopatra, Rena, Nabilah, Melody, dan Ayana tampil dalam acara promosi pariwisata Indonesia yang diadakan Garuda Indonesia di Bandar Udara Internasional Narita, 24 Desember 2011.[59]\\n\\nPada acara malam tahun baru Kōhaku Uta Gassen di televisi NHK Jepang, 31 Desember 2011, JKT48 tampil satu panggung bersama-sama AKB48, SKE48, NMB48, SDN48, dan HKT48 hingga mereka seluruhnya berjumlah 210 orang. Dalam pertunjukan berjudul Kouhaku 2011 AKB48 Special MAX \"Gambarou Nippon!\", keluarga besar AKB48 membawakan Kaze wa Fuiteiru, Flying Get, dan Everyday, Katyusha secara medley. Pada akhir lagu, anggota JKT48 ikut membentuk huruf hiragana N sebagai bagian dari seruan Ganbarou Nippon (がんばろう日本！！code: ja is deprecated , \"Terus berjuang, Jepang!\") yang dibentuk dari formasi anggota di atas panggung. Pada akhir penampilan mereka, JKT48 mendapat pujian dari kapten AKB48 Minami Takahashi untuk kepandaian mereka membentuk formasi huruf.[60]\\n\\nTahun 2012\\n\\nPada 20 Januari 2012, dua belas anggota JKT48 tampil sebagai ancora pada malam kedua konser AKB48 Request Hour Setlist Request 100, 2012.[61] Konser ini berlangsung selama 4 malam di Tokyo Dome City Hall, mulai 19 Januari hingga 22 Januari 2012, menggelar 100 lagu pilihan hasil pilihan penggemar, 25 lagu setiap malamnya.\\n\\nMelody dari JKT48 terpilih sebagai anggota Special Girls A yang menyanyikan lagu New Ship dalam singel AKB48, Give Me Five!. Lagu New Ship adalah lagu ketiga pada singel Tipe A.[62] Singel tersebut juga disertai DVD yang di antaranya berisi video musik New Ship. Melody berperan sebagai siswi pindahan di sekolah menengah atas Jepang. Posisinya sebagai double center, menyanyi di tengah depan bersama Jurina Matsui dari SKE48.\\n\\nDari 23 Maret hingga 25 Maret 2012, JKT48 tampil selama tiga malam berturut-turut di Saitama Super Arena, Prefektur Saitama. Mereka pentas bersama keluarga besar AKB48, SKE48, NMB48, HKT48, dan SDN48 dalam konser Gyoumu Renraku, Tanomu Zo, Katayama Buchou!. Total 239 anggota keluarga besar AKB48 tampil dalam konser ini, termasuk 16 anggota JKT48. Setiap malamnya, konser ini disaksikan oleh sekitar 25.000 orang penonton yang memenuhi kapasitas arena. Pada konser malam pertama, JKT48 membawakan Heavy Rotation. Pada malam kedua, mereka membawakan Aitakatta. Melody bersama Special Girls A tampil sebagai encore membawakan lagu New Ship. Mereka pada malam terakhir membawakan lagu Karena Kusuka Dirimu/Kimi no Koto ga Suki Dakara.[63][64] Selain tampil sebagai grup, JKT48 juga menyanyikan lagu berbahasa Jepang secara massal bersama saudara-saudara kembar mereka.\\n\\nJKT48 tampil pertama kalinya dalam iklan televisi di Jepang untuk produk kosmetik Nameraka Honpo Whitening Series dari Tokiwa Pharmaceuticals. Dua belas anggotanya tampil dalam acara peluncuran iklan Nameraka Honpo di Tokyo, 16 April 2012. Anggota JKT48 berlarian di pantai mengejar karakter bernama Mochimochi-kun diiringi lagu Heavy Rotation versi bahasa Indonesia.[65]\\n\\nJKT48 tampil tiga malam berturut-turut pada konser AKB48 in Tokyo Dome, 1830m no Yume, 24-26 Agustus 2012. Setiap malamnya JKT48 membawakan lagu Baby! Baby! Baby! versi bahasa Indonesia.[66] Melody bersama Jurina Matsui menempati posisi sentral Special Girls A, menyanyikan lagu New Ship.[66] Pada malam pertama, JKT48 bersama SKE48, NMB48, dan HKT48 membawakan lagu Namida Surprise!.[67] Konser tersebut setiap malamnya ditonton oleh 48.000 orang penonton, total 144.000 penonton selama tiga malam.[68]\\n\\nTanggal 3 November 2012 empat anggota JKT48, Shania, Rena, Melody dan Ayana bertolak menuju Jepang untuk menghadiri Special Event with JKT48 di AKB48 Cafe & Shop Akihabara, menandai kepindahan Aki Takajo dan Haruka Nakagawa dari AKB48 ke JKT48. Acara diisi dengan adu talenta serta sesi tanya jawab dengan peserta. Di akhir acara, keenam anggota JKT48 diminta menyanyikan Heavy Rotation versi bahasa Indonesia secara a capella.[69]\\n\\nEnam belas anggota JKT48 termasuk Takajo dan Nakagawa tampil pada konser AKB48 Kouhaku Taikou Uta Gassen ke-2 di Tokyo Dome City Hall, 17 Desember 2012. Konser ini diikuti oleh 146 anggota grup AKB48 yang dibagi menjadi dua tim, Tim Merah dan Tim Putih.[70] Pada konser yang disaksikan oleh dua ribu orang penonton tersebut, JKT48 bergabung dengan Tim Putih, membawakan lagu Kitagawa Kenji. Lawannya dari Tim Merah adalah HKT48 yang membawakan lagu Takeuchi Senpai. Tim Merah yang dipimpin kapten Mariko Shinoda tampil sebagai pemenang.[71]\\n\\nLima anggota JKT48 (Melody, Rica, Diasta, Takajo, dan Nakagawa) diundang tampil bersama AKB48 dalam konser malam tahun baru NHK Kouhaku Uta Gassen ke-63 di NHK Hall, Tokyo, 31 Desember 2012. Kelimanya tampil sebagai bagian dari AKB48 dalam segmen kolaborasi dengan Disney, Uta de Aitai: Dream Stage (Bertemu Lewat Lagu: Panggung Impian) yang dibuat untuk memperingati 110 tahun Walt Disney. Pada segmen ini, AKB48 ditampilkan satu panggung bersama Arashi, Kanjani 8, dan Perfume.[72] Kelimanya menjadi bagian dari 171 anggota grup AKB48 yang membawakan medley yang disebut Kouhaku 2012 Special: Second Chapter untuk menandai era baru AKB48 tanpa Atsuko Maeda. Penampilan mereka diakhiri dengan berbaris membentuk kata \"Nippon Ra Ra Ra\" (日本ラララcode: ja is deprecated ) dan \"Ganbarou\" (がんばろうcode: ja is deprecated ).[73]\\n\\nTahun 2013\\n\\nJKT48 diwakili oleh Aki Takajo dan Haruka Nakagawa pada konser AKB48 Unit Matsuri dan AKB48 Request Hour Setlist Best 100 2013 yang berlangsung 23 Januari-27 Januari 2013 di Tokyo Dome City Hall, Tokyo. Selama konser lima hari yang ditayangkan secara langsung melalui YouTube, keduanya ikut serta membawakan lagu-lagu dari AKB48 serta unit-unit darinya.[74] Keduanya ikut menyanyikan Heavy Rotation bersama anggota grup AKB48 yang semuanya ber-cosplay. Takajo mengenakan kostum burung kakatua dan Nakagawa mengenakan kostum monyet.[75][76]\\n\\nTahun 2014\\n\\nSebagai bagian dari program pengembangan sumber daya global manusia, Departemen Pendidikan, Kebudayaan, dan Olahraga Jepang melakukan program studi di luar negeri sebagai kampanye untuk mempromosikan Tobitate! Ryuugaku JAPAN (Studi luar negeri Jepang) dalam rangka mendorong momentum untuk mengambil langkah penuh tantangan baru dari studi di luar negeri. Dalam acara bertajuk \"Ryuugaku shiyou! Talk live ~ katsuyaku no field wa sekai da! ~\" (Ayo belajar di luar negeri! Acara bincang-bincang live ~ bidang kegiatannya adalah dunia!~), JKT48 tampil membawakan lagu Fortune Cookie In Love, Jumat, 28 Maret 2014. Acara ini berlangsung di Universitas Meiji Liberty Hall, Jepang. Para member JKT48 yang menghadiri acara ini yaitu Haruka Nakagawa, Melody Nurramdhani Laksani, Devi Kinal Putri, Cindy Yuvia dan member baru JKT48 yang merupakan member transfer dari AKB48 yaitu Rina Chikano. Selain itu acara ini juga dihadiri oleh Hirofumi Shimomura (Menteri Pendidikan, Kebudayaan, dan Olahraga Jepang), Caroline Kennedy (Dubes AS) dan Riyo Mori (Miss Universe 2007).[77]\\n\\nPada 31 Agustus 2014, JKT48 ikut memeriahkan @JAM EXPO 2014 di Yokohama Arena, Kanagawa, Jepang. Acara yang merupakan salah satu sebuah pameran idol terbesar yang diselenggarakan oleh JAM ini menampilkan 84 artis, @JAM EXPO 2014 ini menjadi acara pertama yang diikuti oleh JKT48 tanpa adanya 48 Group lain. JKT48 sendiri tampil di 2 stage, blueberry stage dan strawberry stage.[78]\\n\\nPada 3 September 2014, JKT48 dan Yasushi Akimoto diundang di acara Ulang Tahun ke-65 Junior Chamber International Tokyo. Selain diundang JKT48 juga menyanyikan beberapa lagu JKT48 sebagai ending dari acara tersebut [79]\\n\\nTransfer anggota AKB48\\n\\nTahun 2012\\n\\nPerombakan besar dalam susunan anggota AKB48 diumumkan pada malam pertama konser grup AKB48 di Tokyo Dome, 24 Agustus 2012. Anggota AKB48 ditransfer ke grup-grup saudari atau ke luar negeri. Haruka Nakagawa dan Aki Takajo ditransfer sebagai anggota JKT48.[80] Keduanya berasal dari Tim A, Nakagawa dari generasi ke-3 dan Takajo dari generasi ke-6. Haruka Nakagawa memiliki unit bernama Watarirouka Hashiritai 7, dan berpengalaman sebagai anggota senbatsu pada singel Heavy Rotation dan Chance no Junban. Aki Takajo memiliki unit bernama French Kiss, dan telah berulang kali menjadi anggota senbatsu. Pada pemilihan umum senbatsu untuk singel ke-27 yang diadakan tahun 2012, namanya berada di urutan ke-17.[81]\\n\\nAki Takajo dan Haruka Nakagawa tampil untuk pertama kalinya bersama para anggota JKT48 dalam siaran langsung di televisi Indonesia pada 17 November 2012 dalam acara Dahsyat di RCTI. Meski demikian, kedua personel asal Jepang ini hanya tampil dalam segmen obrolan, sebagai bentuk perkenalan kepada publik Indonesia. Pada kesempatan itu, JKT48 membawakan dua buah lagu, yaitu Baby! Baby! Baby! dan lagu baru berjudul Gomen ne, Summer yang merupakan daur ulang dari singel grup saudari mereka SKE48. Lagu Gomen ne, Summer ini baru ditampilkan kepada publik untuk pertama kalinya.\\n\\nAcara Dahsyat di RCTI 9 Desember 2012 merupakan penampilan pertama Takajo dan Nakagawa sebagai anggota JKT48. Keduanya membawakan lagu Gomen ne, Summer dalam formasi 7 orang. Dalam acara tersebut juga diumumkan tanggal 26 Desember 2012 sebagai pertunjukan teater hari pertama Takajo dan Nakagawa di Teater JKT48.[82] Dalam konser The 1st JKT48 Anniversary Event, di Senayan 23 Desember 2012 diumumkan bahwa Aki Takajo dan Haruka Nakagawa bergabung bersama 22 anggota JKT48 Generasi Pertama dalam Tim J JKT48. Takajo tampil sebagai center dalam lagu Karena Kusuka Dirimu (Kimi no Koto ga Suki Dakara), seperti posisinya ketika bersama Under Girls membawakan Kimi no Koto ga Suki Dakara, lagu sisi B singel AKB48 River (2009).\\n\\nTahun 2014\\n\\nPada tanggal 24 Februari 2014, AKB48 dan seluruh grup saudarinya mengumumkan perombakan tim besar-besaran dalam ajang bertajuk \\'AKB48 Group Dai Sokaku Matsuri\\' yang berlangsung di Zepp DiverCity, Tokyo. Aki Takajo dan Rena Nozawa resmi meninggalkan JKT48 dan bergabung bersama tim B di AKB48. Ini adalah pertama kalinya dalam sejarah JKT48, anggota asli dari hasil audisi pertama mereka, yaitu Rena Nozawa bergabung dengan AKB48. Sebagai pengganti mereka, diumumkan bahwa Rina Chikano dari Team K AKB48 akan bergabung dengan JKT48.[83]\\n\\nPada saat Gingham Check Launching Concert diumumkan bahwa Rena Nozawa Resmi keluar dari JKT48 dan sekarang berstatus member AKB48, diumumkan juga bahwa Rina Chikano resmi menjadi member JKT48 team KIII.\\n\\nSingel dan album\\n\\nPada tanggal 16 Februari 2013 JKT48 merilis album pertama yang berjudul Heavy Rotation dalam 2 tipe, yaitu tipe a yang berisi 10 lagu plus dvd yang berisi music video Heavy Rotation dan video memori mengenang kembali JKT48 pada saat terbentuk hingga saat ulang tahun JKT48 yang pertama dan tipe b yang juga berisi 10 lagu namun tidak berbonus dvd. Pada 10 Mei 2013, JKT48 meluncurkan singel perdana berjudul River.[84] CD singel perdana JKT48 terdiri dari dua versi, yaitu versi teater dan versi reguler. CD versi teater berisi 3 lagu: River, Mirai no Kajitsu (Buah Masa Depan), dan Sakura no Shiori (Pembatas Buku Sakura). Untuk pembelian versi teater secara langsung di Teater JKT48 dan acara \\'JKT48 Keliling-Keliling\\', penggemar berkesempatan untuk berpartisipasi dalam acara bersalaman JKT48 Individual Handshake. CD versi reguler berisi tiga buah lagu di atas ditambah sebuah lagu berjudul \\'Kimi ni Autabi Koi Wo Suru (Jatuh Cinta Setiap Bertemu denganmu) yang merupakan bagian dari pertunjukan teater Renai Kinshi Jourei (Aturan Anti Cinta).[85]\\n\\nLagu Mirai no Kajitsu Dijadikan Lagu Penutup Pokemon Movie: Genesect and the Legend Awakened khusus negara Indonesia yang dirilis pada 6 November 2013 dan akan ditayangkan oleh BLITZ MEGAPLEX.\\n\\nPengumuman dirilisnya singel kedua Yuuhi wo Miteiruka? (Apakah Kau Melihat Mentari Senja?) disampaikan di Teater JKT48, 2 Juli 2013. Pada kesempatan itu pula, lagu tersebut dibawakan untuk pertama kalinya oleh 10 anggota terpilih dari Tim J dan Tim KIII.[86]\\n\\nPada show penutup tur \\'Perkenalkan, Nama Kami JKT48\\' yang berlangsung di Tennis Indoor Senayan pada tanggal 4 Juli 2013, diumumkan bahwa JKT48 akan merilis CD singel ketiga mereka \\'Koisuru Fortune Cookie\\' pada 21 Agustus 2013, bersamaan dengan singel ke-32 AKB48 yang berjudul sama. Lagu Fortune Cookie ini dipakai sebagai soundtrack dari sinetron Fortune Cookies yang dibintangi oleh Yuki Kato, Stefan William, Nasya Marcella, Giorgino Abraham, Natasha Wilona dll. Sinetron ini tayang di RCTI. Lagu ini sendiri kembali viral di awal tahun 2022 karena dijadikan backsound di berbagai medsos seperti TikTok maupun Instagram Reels.\\n\\nPada tanggal 26 November 2013, situs web resmi JKT48 mengumumkan bahwa perilisan singel ke empat JKT48 berjudul Musim Panas Sounds Good!. Singel dibawakan oleh 16 anggota terpilih dari Tim J dan Tim KIII.\\n\\nPengumuman dirilisnya singel kelima Flying Get\" disampaikan pada saat handshake festival Musim Panas Sounds Good!\" pada tanggal 23 Februari di Balai Kartini.Lagu Flying Get itu sendiri ditampilkan untuk pertama kali di WAKUWAKU JAPAN MUSIC FESTIVAL. Acara tersebut juga menampilkan Flumpool Bunga Citra Lestari dan Afgan Syahreza. Acara tersebut berlangsung pada tanggal 15 Februari 2014 di Jakarta Convention Center.[87]\\n\\nUntuk pertama kalinya JKT48 menggelar pemilihan umum member senbatsu yang akan dipilih oleh fans untuk membawakan singel JKT48 ke-6. 16 member terpilih yang membawakan singel ke-6 JKT48 akan dipilih berdasarkan pemungutan suara dari fans. Periode pemilihan mulai dari tanggal 5 Maret 2014 – 22 April 2014.\\n\\nJudul singel ke-6 JKT48 Gingham Check diumumkan pada saat Flying Get Handshake Festival tanggal 18 Mei 2014, Singel Gingham Check sendiri rilis pada tanggal 11 Juni 2014 dan pertama kali dibawakan off air pada saat Flying Get Handshake Festival 18 Mei 2014, dan on air pada acara Sarah Sechan di NET. 16 Juli 2014.[88]\\n\\n27 Agustus 2014, singel ke-7 JKT48 berjudul Kokoro no Placard atau papan penanda isi hati resmi dirilis, seperti video klip Fortune Cookie, Kokoro no Placard juga melibatkan fans JKT48 di dalam video klipnya. Lagu Kokoro no Placard ditampilkan perdana on air di acara dahsyat bersamaan dengan lagu Iiwakei Maybe yang merupakan cooping song di singel ke-7 JKT48. Sehari dirilis singel Kokoro no Placard ini langsung menempati posisi ke-3 di Chart iTunes. Dalam seminggu, singel Kokoro no Placard menempati peringkat 1 di situs web resmi CD DVD online shop AKB48.\\n\\n24 Desember 2014, JKT48 merilis single ke-8 mereka yang berjudul Kaze wa Fuiteiru atau Angin Sedang Berhembus. CD mereka berisi: Kaze wa Fuiteiru (Angin Yang Sedang Berhembus), Kiss Datte Hidarikiki (Kidal Bahkan Ciuman), Juuryoku Sympathy (Simpati Gravitasi), Eien Pressure, dan Wink wa Sankai (Kedipan 3 Kali).\\n\\n27 Maret 2015, JKT48 merilis single ke-9 mereka yang berjudul Pareo wa Emerald atau Pareo adalah Emerald. CD mereka berisi: Pareo wa Emerald (Pareo adalah Emerald), Bara no Kajitsu (Buah Mawar), Takane no Ringo (Apel Yang Ada Di Puncak), Escape, Kinou Yori Motto Suki (Dibanding Kemarin Semakin Suka), dan Pareo is Your Emerald.\\n\\n27 Mei 2015, JKT48 merilis single ke-10 mereka yang berjudul Kibouteki Refrain atau Refrain yang penuh Harapan. Single ini merupakan single di mana seluruh penampil untuk side-A dan side-B nya dipilih langsung oleh fans melalui mekanisme yang disebut sebagai senbatsu sousenkyo. Peringkat 1-16 dari pemilihan ini berhak untuk tampil dalam single ke-10 ini, sementara peringkat 17-32 berhak untuk mengisi posisi undergirls yang merupakan lagu side-B. Rilisan kali ini menggunakan sistem music card yang berisi: Kibouteki Refrain (Refrain yang Penuh Harapan), Boku Dake no Value (Value Milikku Saja), dan Refrain Full of Hope. Sementara versi CD+DVD dari single ini berisi: Kibouteki Refrain (Refrain yang Penuh Harapan), Boku Dake no Value (Value Milikku Saja), Theater no Megami (Dewi Theater), Saishuu Bell ga Naru (Bel Terakhir Berbunyi), Te Wo Tsunaginagara (Sambil Menggandeng Erat Tanganku), dan Refrain Full of Hope dari versi CD, sementara pada DVDnya berisi Kibouteki Refrain MV, Boku Dake no Value MV, dan Kibouteki Refrain+Boku Dake no Value Behind the Scene.\\n\\n26 Agustus 2015,JKT48 merilis single ke-11 mereka yang berjudul Halloween Night. Single tersebut merupakan single ke-3 yang dirilis bersamaan antara AKB48 dan seluruh sister groupnya, termasuk JKT48 di negara masing-masing setelah single Koisuru Fortune Cookie dan Kokoro no Placard. Mirip dengan single ke-10, kali ini pihak managemen menggunakan sistem music card dan CD+DVD untuk penjualannya. Versi music cardnya berisi: Halloween Night, dan Halloween Night (English Version) sementara pada versi CD+DVDnya berisi: Halloween Night, Halloween Night (Dangdut Version), Idol no Oujya (Ratu Para Idol), Don\\'t Look Back, Teppen Tottande (Ingin Meraih Puncak), dan Halloween Night (English Version). DVDnya sendiri berisi: Halloween Night MV, dan Halloween Night Behind The Scene\\n\\nSementara pada soft release yang dilaksanakan pada tanggal 17 Desember 2015, mereka meluncurkan single ke-12 mereka Beginner dengan tanggal penjualan dimulai sejak 1 Januari 2016. Pada versi music cardnya berisi: Beginner dan Beginner (English Version). Sementara versi CD+DVDnya berisi: Beginner, Kimi no Senaka (Punggung Milikmu), Punkish, Kyusen Kyoutei (Kesepakatan Gencatan Senjata), Suki! Suki! Skip!, dan Beginner (English Version).\\n\\nPada pengumuman yang disampaikan di JKT48 Top 30 Request Hour 2016, disampaikan bahwa JKT48 akan merilis album mereka yang kedua dengan judul Kamikyoutachi atau dalam bahasa Indonesia ditranslasikan sebagai Mahagita. Album kedua ini akan dirilis tanggal 23 Maret 2016 dan akan menyertai kartu vote untuk pemilihan member single ke-13. Sementara untuk single ke-13 yang berjudul Hanya Lihat ke Depan di-release 1 Juni 2016 kembali diluncurkan dengan versi music card dan CD+DVD. Pada single ini lagu yang dibawakan terdiri atas: Mae Shika Mukanee (Hanya Lihat ke Depan), Dakishimecha Ikenai (Tidak Boleh Pelukan), Kataomoi Finally (Cinta Tidak Berbalas Finally), Migi e Magare (Beloklah ke Kanan), Hashire Penguin! (Larilah, Penguin!), dan Mae Shika Mukanee (English Version).\\n\\nSeperti yang sudah disampaikan oleh JKT48 Project, pemenang 16 besar pada acara JKT48 Janken Competition akan membawakan single terbaru dari JKT48 yang berjudul \"LOVE TRIP\".[89] Lagu ini di-released pada tanggal 21 September 2016 dengan versi music card dan CD+DVD. Pada single ini lagu yang dibawakan terdiri atas: Love Trip (Love Trip), Pioneer, How Come!, Aozora Soba ni Ite (Tetaplah Ada di Langit Biru), serta Love Trip (English Version).\\n\\nSaat ini seluruh single JKT48 dapat diakses dan dibeli secara online di iTunes Store. Akses baru untuk menikmati lagu juga dapat dilakukan dengan mengganti CD fisik menjadi sebuah music card yang terdapat sebuah kode unik untuk mengunduh secara online melalui official website JKT48. Sistem music card ini dimulai sejak perilisan single ke-10 JKT48 dengan alasan untuk mengurangi tingkat pembajakan lagu.\\n\\nAnggota\\n\\nInformasi lebih lanjut: Daftar anggota JKT48\\n\\nPer tanggal 26 Agustus 2024 tengah malam, JKT48 memiliki 52 orang anggota, terdiri dari 26 anggota tetap dan 26 siswi pelatihan. Sebanyak 10 siswi pelatihan berasal dari generasi ke-11 dan 16 dari generasi ke-12.[4]\\n\\nTeater JKT48\\n\\nArtikel utama: Teater JKT48\\n\\nTeater JKT48 di fX Sudirman pada 2012 (atas), 2020 (tengah), dan 2023 (bawah)\\n\\nTeater JKT48 adalah teater eksklusif untuk pertunjukan JKT48 dan grup-grup saudarinya. Teater ini berada di lantai 4 mal fX Sudirman Jakarta. Pembukaan teater ini dilakukan pada 8 September 2012 dengan pementasan setlist Pajama Drive yang dimulai pukul 14.00. Seluruhnya ada 16 lagu yang dibawakan pada pembukaan theater tersebut, termasuk encore. Pada konferensi pers setelah selesainya pertunjukan, dua anggota AKB48, Aki Takajo dan Haruka Nakagawa tampil di atas panggung untuk memperkenalkan diri dengan bahasa Indonesia.[90] Kedatangan keduanya dimaksudkan sebagai kejutan pada acara peresmian teater dan tidak tampil dalam pertunjukan hari itu.[90] Keduanya datang untuk pertama kalinya di Jakarta setelah pengumuman ditransfernya mereka menjadi anggota JKT48.[90]\\n\\nPembukaan Teater JKT48 sempat ditunda dari rencana sebelumnya pada 1 September 2012. Teater JKT48 berkapasitas sekitar 400 orang, dengan asumsi kasar 260 kursi untuk penonton, dan 140 penonton berdiri.[91] Luas panggung teater kira-kira 30 m2[92] JKT48 hanya tampil sekali sehari pada hari kerja, pada pertunjukan malam pukul 19.00. Dua pertunjukan digelar setiap harinya pada hari Sabtu/Minggu dan hari libur. Pada hari Sabtu pertunjukan siang dimulai pukul 14.00 dan pertunjukan malam pukul 19.00. Sementara pada hari Minggu pertunjukan siang dimulai pukul 12.00 dan pertunjukan sore dimulai pukul 16:00.\\n\\nDaftar pertunjukan teater JKT48\\n\\nSetlist ( Digarisbawahi berarti setlist lain JKT48, dicetak tebal berarti setlist tersebut masih digunakan sampai sekarang) Nama setlist Tim yang membawakan (dan urutan setlist ) Masa pementasan Jumlah pementasan Tanggal perilisan DVD Tanggal perilisan rekaman studio Pajama Drive Siswi pelatihan generasi pertama (1) 17 Mei 2012 ( 2012-05-17 ) – 13 Desember 2012 ( 2012-12-13 ) 67 6 Juli 2013 ( 2013-07-06 ) 20 April 2020 ( 2020-04-20 ) ( Streaming digital) Siswi pelatihan generasi ke-2 (1) 11 Januari 2013 ( 2013-01-11 ) – 12 Mei 2013 ( 2013-5-12 ) 69 – Siswi pelatihan generasi ke-3, dari Akagumi (Tim Merah) vs Shirogumi (Tim Putih) hingga Nakabi (Gabungan) (1) 24 Mei 2014 ( 2014-05-24 ) – 28 Januari 2015 ( 2015-1-28 ) 88 – Tim T (penantian) 31 Januari 2015 ( 2015-01-31 ) – 6 Maret 2015 ( 2015-3-6 ) + 22 November 2016 ( 2016-11-22 ) 10 Tim KIII (penantian) 31 Maret 2015 ( 2015-03-31 ) – 29 April 2015 ( 2015-4-29 ) 9 Gabungan antara siswi pelatihan generasi ke-4 dengan calon siswi pelatihan generasi ke-5 (1) 7 Agustus 2016 ( 2016-08-07 ) – 19 November 2016 ( 2016-11-19 ) 37 Akademi Kelas A maksimal generasi ke-9 (1) 23 Maret 2019 ( 2019-03-23 ) – 11 Maret 2021 ( 2021-03-11 ) 94 Siswi pelatihan generasi ke-10 (pemula) 19 November 2022 ( 2022-11-19 ) – 04 Mei 2023 ( 2023-05-04 ) (pertunjukan terakhir tidak resmi) 9 Generasi ke-10 (lanjutan) 20 Mei 2023 ( 2023-05-20 ) – 3 Februari 2024 ( 2024-2-3 ) 4 (13) Gabungan siswi pelatihan antara generasi ke-11 dengan ke-12 (2) 30 Mei 2024 ( 2024-05-30 ) – sekarang 27 (6 Oktober 2024) Renai Kinshi Jourei ( Aturan Anti Cinta ) Tim J (1) 26 Desember 2012 ( 2012-12-26 ) – 28 Desember 2013 ( 2013-12-28 ) + 23 November 2016 ( 2016-11-23 ) 132 21 Desember 2013 ( 2013-12-21 ) 7 Desember 2014 ( 2014-12-07 ) (CD) Tim KIII (Kehormatan)* * Hanya untuk penonton khusus OFC 26 – 28 Desember 2013 3 – Tim T (2) 7 Desember 2016 ( 2016-12-07 ) – 22 Mei 2017 ( 2017-5-22 ) 55 Era Baru JKT48 (1) 20 Maret 2021 ( 2021-03-20 ) – sekarang 132 (25 September 2024) (termasuk di Surabaya dan Yogyakarta ) Boku no Taiyou ( Matahari Milikku ) Siswi pelatihan generasi ke-2 (2) 17 Mei 2013 ( 2013-05-17 ) – 25 Juni 2013 ( 2013-6-25 ) 27 Tim KIII (1) 28 Juni 2013 ( 2013-06-28 ) – 22 Februari 2014 ( 2014-2-22 ) + 24 November 2016 ( 2016-11-24 ) 111 21 Desember 2013 ( 2013-12-21 ) 7 Desember 2014 ( 2014-12-07 ) (CD) 6 Mei 2015 ( 2015-05-06 ) – 29 Juli 2015 ( 2015-7-29 ) 13 – Tim J (Kejutan) 13 Februari 2015 ( 2015-02-13 ) – 13 Maret 2015 ( 2015-3-13 ) 11 Tim T (3) 8 Juli 2017 ( 2017-07-08 ) – 9 Desember 2017 ( 2017-12-9 ) 56 Akademi Kelas A maksimal generasi ke-8 (2) 28 Februari 2020 ( 2020-02-28 ) – 15 Agustus 2020 ( 2020-08-15 ) (pertunjukan terakhir tidak resmi) 6 Dareka no Tame ni ( Demi Seseorang ) Tim J (2) 18 Januari 2014 ( 2014-01-18 ) – 26 April 2015 ( 2015-4-26 ) + 25 November 2016 ( 2016-11-25 ) 118 8 November 2014 ( 2014-11-08 ) 8 November 2014 ( 2014-11-08 ) (CD) 27 April 2020 ( 2020-04-27 ) ( Streaming digital) Tim T (4) 20 Desember 2017 ( 2017-12-20 ) – 18 April 2018 ( 2018-4-18 ) 41 – Seishun Girls ( Gadis-gadis Remaja ) Tim KIII (2) 8 Maret 2014 ( 2014-03-08 ) – 14 Maret 2015 ( 2015-3-14 ) + 26 November 2016 ( 2016-11-26 ) 114 8 November 2014 ( 2014-11-08 ) 8 November 2014 ( 2014-11-08 ) (CD) 4 Mei 2020 ( 2020-05-04 ) ( Streaming digital) Tim T (5) 20 April 2018 ( 2018-04-20 ) – 25 Agustus 2018 ( 2018-8-25 ) 32 – Era Baru JKT48 (2) 27 Maret 2021 ( 2021-03-27 ) - 22 Desember 2022 ( 2022-12-22 ) 71 Te wo Tsunaginagara ( Sambil Menggandeng Erat Tanganku ) Tim T (1) 15 Maret 2015 ( 2015-03-15 ) – 26 November 2016 ( 2016-11-26 ) 190 (termasuk di Surabaya ) 12 Agustus 2015 ( 2015-08-12 ) 9 Maret 2016 ( 2016-03-09 ) (CD) 30 September 2020 ( 2020-09-30 ) ( Streaming digital) 23 Februari 2019 ( 2019-02-23 ) – 30 Agustus 2019 ( 2019-8-30 ) 43 – Era Baru JKT48 (5) Mulai awal 2025 Segera Theater no Megami ( Dewi Theater ) Tim J (3) 17 Mei 2015 ( 2015-05-17 ) – 27 November 2016 ( 2016-11-27 ) 140 (termasuk di Surabaya ) 9 Maret 2016 ( 2016-03-09 ) 9 Maret 2016 ( 2016-03-09 ) (CD) 30 September 2020 ( 2020-09-30 ) ( Streaming digital) Tim T (6) 2 September 2018 ( 2018-09-02 ) – 17 Februari 2019 ( 2019-2-17 ) 57 – Saishuu Bell ga Naru ( Bel Terakhir Berbunyi ) Tim KIII (3) 1 Agustus 2015 ( 2015-08-01 ) – 27 November 2016 ( 2016-11-27 ) 132 (termasuk di Surabaya ) 20 November 2016 ( 2016-11-20 ) 20 November 2016 ( 2016-11-20 ) (CD) 28 September 2020 ( 2020-09-28 ) ( Streaming digital, Live Version ) Bunga Matahari Himawarigumi / Tim Bunga Matahari 8 April 2016 ( 2016-04-08 ) – 21 Oktober 2016 ( 2016-10-21 ) (pertunjukan terakhir tidak resmi) 16 – B•E•L•I•E•V•E Tim J (spesial) 9 Desember 2016 ( 2016-12-09 ) – 14 Mei 2017 ( 2017-5-14 ) (pertunjukan terakhir tidak resmi) 41 Tim KIII (spesial) 8 Desember 2016 ( 2016-12-08 ) – 27 Februari 2018 ( 2018-2-27 ) 130 Tadaima Renaichuu ( Sekarang Sedang Jatuh Cinta ) Tim J (4) 19 Mei 2017 ( 2017-05-19 ) – 1 Maret 2019 ( 2019-3-1 ) 181 – 15 April 2018 ( 2018-04-15 ) (kartu musik) 16 Oktober 2020 ( 2020-10-16 ) ( Streaming digital) Saka Agari ( Back Hip Circle ) Tim KIII (4) 4 Maret 2018 ( 2018-03-04 ) – 13 November 2020 207 14 Oktober 2018 ( 2018-10-14 ) (kartu musik) 23 Oktober 2023 ( Streaming digital) Idol no Yoake ( Fajar Sang Idola ) Tim J (5) 3 Maret 2019 ( 2019-03-03 ) – 14 Maret 2021 ( 2021-3-14 ) 129 9 Agustus 2019 ( 2019-08-09 ) (kartu musik) 20 Oktober 2023 ( Streaming digital) Romansa Sang Gadis Tim KIII ( Produce ) 13 April 2019 ( 2019-04-13 ) – 21 Juni 2019 ( 2019-6-21 ) 10 – Seifuku no Me ( Tunas di Balik Seragam ) Tim T (7) 1 September 2019 ( 2019-09-01 ) – 29 Desember 2019 ( 2019-12-29 ) 32 Era Baru JKT48 (3) 29 Mei 2021 ( 2021-05-29 ) – akhir 2024 73 (29 September 2024) Fly! Team T Tim T (penantian) 22 Agustus 2020 ( 2020-08-22 ) – 12 Maret 2021 ( 2021-3-12 ) 26 Ramune no Nomikata ( Cara Meminum Ramune ) Tim KIII (5) 15 November 2020 ( 2020-11-15 ) – 13 Maret 2021 ( 2021-3-13 ) 23 12 Januari 2024 ( YouTube Music ) Era Baru JKT48 (4) 15 Januari 2023 ( 2023-01-15 ) – sekarang 57 (2 Oktober 2024) (termasuk di Surabaya dan Yogyakarta ) – Banzai JKT48 Era Baru JKT48 (spesial 10 tahun) 12 Maret 2022 ( 2022-03-12 ) – 10 Maret 2024 ( 2024-3-10 ) 15 19 Maret 2024 ( Streaming digital) Aitakatta ( Ingin Bertemu ) Siswi pelatihan generasi ke-11 (pemula) 30 April 2023 ( 2023-04-30 ) – 9 Februari 2024 ( 2024-2-9 ) 43 – Gabungan siswi pelatihan antara generasi ke-11 dengan ke-12 (lanjutan / 1) 16 Februari 2024 ( 2024-02-16 ) – sekarang 34 (77) (3 Oktober 2024) 1st Original Stage Era Baru JKT48 (6) Mulai pertengahan 2025 Segera Jumlah Pementasan secara Keseluruhan 17 Mei 2012 ( 2012-05-17 ) – sekarang 2915 (6 Oktober 2024) –\\n\\nDiskografi\\n\\nArtikel utama: Daftar lagu yang direkam oleh JKT48\\n\\nArtikel utama: Daftar diskografi, filmografi, dan bibliografi JKT48 § Diskografi\\n\\nAcara Spesial JKT48\\n\\nLihat pula: Daftar konser dan acara JKT48\\n\\nPemilihan Member\\n\\n[2014.04.26] Pemilihan Member Single ke-6 JKT48 (antv)\\n\\n[2015.05.02] Pemilihan Member Single ke-10 JKT48 (NET.)\\n\\n[2016.05.07] Pemilihan Member Single ke-13 JKT48 (RTV)\\n\\n[2017.04.22] Pemilihan Member Single ke-17 JKT48 (RTV)\\n\\n[2018.11.17] Pemilihan Member Single ke-20 JKT48 (Streaming melalui Upme)\\n\\n[2019.11.30] Pemilihan Member Single Original JKT48 (Streaming melalui RCTI+)\\n\\nTurnamen Suit\\n\\n[2016.08.19] JKT48 Janken Competition 2016\\n\\n[2020.bb.hh] JKT48 Janken Competition 2020 (dibatalkan)\\n\\nPerombakan\\n\\n[2016.09.11] Perombakan Besar-Besaran Anggota JKT48 2016\\n\\n[2018.05.27] JKT48 Re:BOOST Cumulative Shuffle\\n\\n[2019.12.22] Pengumuman Konsep Project Baru JKT48 \"ONE\"\\n\\n[2021.12.18] Pengumuman Perubahan Konsep Project dari \"ONE\" menjadi NEW ERA\\n\\nKompetisi Olahraga\\n\\n[2018.09.16] JKT48 Sports Competition 2018\\n\\nPerayaan Ulang Tahun\\n\\n[2012.12.23] JKT48 1st Anniversary Event\\n\\n[2013.12.21] JKT48 2nd Anniversary Live in Concert (Antv)\\n\\n[2014.12.27] JKT48 3rd Anniversary Live in Concert \"Saya Masih Anak Kecil\" (Indosiar)\\n\\n[2015.12.31/2016.01.01] JKT48 4th Anniversary Countdown Festival\\n\\n[2016.12.17] JKT48 5th Anniversary (Haruka Graduation Ceremony) (RTV)\\n\\n[2017.12.23] JKT48 6th Birthday Party\\n\\n[2018.12.22] JKT48 7th Anniversary Live in Concert\\n\\n[2018.12.08] Road to JKT48 7th Anniversary\\n\\n[2019.12.22] JKT48 8th Anniversary Concert \"ONE\"\\n\\n[2020.12.18] JKT48 9th Anniversary Concert \"SOL/LUNA\" (Bagian 1) (Streaming melalui RCTI+)\\n\\n[2021.12.18] JKT48 10th Anniversary Kick-Off Conference (Streaming)\\n\\n[2022.08.06] JKT48 10th Anniversary Concert \"HEAVEN\" (Bagian 1) (Streaming)\\n\\n[2022.12.17] JKT48 11th Anniversary Concert \"Flying High\" (Streaming)\\n\\n[2023.12.17] FLOWERFUL - JKT48 12th Anniversary Concert (Streaming)\\n\\nKonser\\n\\nArtikel utama: Daftar konser dan acara JKT48 § Konser atau Acara JKT48\\n\\nKonser Kelulusan\\n\\n[2016.12.17] Haruka Graduation Ceremony\\n\\n[2017.04.22] Veranda Graduation Ceremony\\n\\n[2018.03.24] Melody Graduation Concert - Dirimu Melody\\n\\n[2018.06.27] Kinal Graduation Event - Forever Jeanne D\\'Arc\\n\\n[2018.12.22] Ikha, Naomi, Devi Graduation Ceremony - JKT48 7th Anniversary Live in Concert (Bagian 2)\\n\\n[2019.04.27] Shania Graduation Ceremony\\n\\n[2019.07.21] Cindy Yuvia Graduation Concert - Idol\\'s Decision\\n\\n[2019.11.30] Ayana, Sonia, Rachel, Vanka, Vienny, Yona, Angel, Michelle, Zara Graduation Event - Wisuda Kelopak-Kelopak Bunga Sakura (Streaming tunda melalui RCTI+)\\n\\n[2020.12.18] Beby, Frieska, Nadila, Rona, Desy Graduation Ceremony - JKT48 9th Anniversary Concert \"SOL/LUNA\" (Bagian 2) (Streaming melalui RCTI+)\\n\\n[2021.02.28] Upacara Kelulusan Khusus JKT48, “Thank You for The Memories” (Streaming)\\n\\n[2022.08.06] Gaby Graduation Ceremony - JKT48 10th Anniversary Concert \"HEAVEN\" (Bagian 2) (Streaming)\\n\\n[2023.08.27] Sisca JKT48 Mini Concert: The Beginning\\n\\n[2024.04.27] Shani Graduation Concert “Last Voyage” (Streaming)\\n\\nAcara Spesial Tim\\n\\nAcara Spesial Tim J\\n\\n[2015.04.18] JKT48 Team J Event/Concert \"Mulai Sekarang Sungguh-Sunggguh\"\\n\\n[2015.06.13] JKT48 Team J Event/Concert \"Ratu Para Idola\"\\n\\n[2019.07.21] Konser Tunggal JKT48 Tim J \"J Paradise\"\\n\\nAcara Spesial Tim KIII\\n\\n[2015.11.14] JKT48 Team KIII Event/Concert \"Mulai Sekarang Sungguh-Sunggguh\"\\n\\n[2015.06.13] JKT48 Team KIII Event/Concert \"Don\\'t Look Back!\"\\n\\n[2017.07.29] Konser Tunggal JKT48 Tim KIII \"Jangan Kasih K3ndor\"\\n\\n[2020.02.14] Konser Tunggal JKT48 Tim KIII \"KIII vs KIII\"\\n\\nAcara Spesial Tim T\\n\\n[2015.06.13] JKT48 Team T Event/Concert \"Ingin Meraih Puncak\"\\n\\n[2017.04.15] JKT48 Team T Event/Concert \"Mulai Sekarang Sungguh-Sungguh, Mohon Bantuannya, Tolong Lihat Aku!\"\\n\\nAcara Spesial Siswi Pelatihan Generasi Ke-3\\n\\n[2014.11.22-23] JKT48 3rd Generation Trainee Event/Concert \"Mulai Sekarang Sungguh-Sungguh Part 1\"\\n\\n[2015.01.24] JKT48 3rd Generation Trainee Event/Concert \"Mulai Sekarang Sungguh-Sungguh Part 2\"\\n\\nPertunjukan di AKB48 Theater\\n\\n[2016.10.15 - 2016.10.16] Pertunjukan JKT48 di Teater AKB48: ~Balas Budi Haruka Nakagawa untuk JKT48~\\n\\n[2016.10.30] Pertunjukan JKT48 di Teater AKB48: “Matahari Milikku” ~Indonesia Encore~\\n\\nPertunjukan Reuni\\n\\n[2022.11.12] JKT48 First Generation Special Stage: Forever Idol (Streaming)\\n\\nRequest Hour\\n\\n[2016.02.27] JKT48 Request Hour Setlist Best 30 2016 (Streaming)\\n\\n[2017.11.04] JKT48 Request Hour Setlist Best 30 2017 (Streaming)\\n\\n[2019.04.27] JKT48 Request Hour Setlist Best 30 2019\\n\\n[2021.09.04] JKT48 Request Hour 2021 Setlist Best 30 (Streaming)\\n\\nAcara keliling Indonesia\\n\\nJKT48 Circus\\n\\nPart 1 (Pulau Jawa)\\n\\n[2018.07.01] Surabaya (Tim J)\\n\\n[2018.07.03] Jember (Tim J)\\n\\n[2018.07.05] Malang (Tim J)\\n\\n[2018.07.07] Semarang (Tim KIII)\\n\\n[2018.07.08] Yogyakarta (Tim KIII)\\n\\n[2018.07.10] Solo (Tim KIII)\\n\\n[2018.07.12] Purwokerto (Tim T)\\n\\n[2018.07.13] Cirebon (Tim T)\\n\\n[2018.07.15] Bandung (Tim T)\\n\\nPart 2 (Luar Pulau Jawa)\\n\\n[2018.10.07] Balikpapan (Tim T)\\n\\n[2018.10.13] Makassar (Tim J)\\n\\n[2018.10.20] Banjarmasin (Tim KIII)\\n\\n[2018.11.04] Medan (Tim KIII)\\n\\n[2019.01.13] Samarinda (Tim T)\\n\\nPart 3 (Pulau Jawa)\\n\\n[2019.06.29] Bandung (Tim T)\\n\\n[2019.06.30] Tasikmalaya (Tim T)\\n\\n[2019.07.02] Purwokerto (Tim T)\\n\\n[2019.07.04] Tegal (Tim J)\\n\\n[2019.07.06] Yogyakarta (Tim J)\\n\\n[2019.07.07] Solo (Tim J)\\n\\n[2019.07.08] Semarang (Tim J)\\n\\n[2019.07.10] Ponorogo (Tim KIII)\\n\\n[2019.07.11] Malang (Tim KIII)\\n\\n[2019.07.13] Surabaya (Tim KIII)\\n\\nPart 4 (Luar Pulau Jawa)\\n\\n[2019.09.21] Palembang (Tim J)\\n\\n[2019.10.13] Banjarbaru (Tim J)\\n\\n[2019.10.19] Makassar (Tim KIII)\\n\\n[2019.10.27] Balikpapan (Tim KIII)\\n\\n[2019.11.02] Medan (Tim T)\\n\\nJKT48 10th Anniversary Tour (Pulau Jawa)\\n\\n[2022.06.25] Surabaya (Tim A)\\n\\n[2022.06.26] Batu (Tim A)\\n\\n[2022.06.28] Solo (Tim A)\\n\\n[2022.06.30] Yogyakarta (Tim B)\\n\\n[2022.07.01] Semarang (Tim B)\\n\\n[2022.07.03] Bandung (Tim B) (dibatalkan)\\n\\nJKT48 Summer Tour 2023 (Pulau Jawa)\\n\\n[2023.07.09] Bandung (Team Vitamin Sea)\\n\\n[2023.07.10] Yogyakarta (Team Sunkiss)\\n\\n[2023.07.11] Semarang (Team Vitamin Sea)\\n\\n[2023.07.13] Batu (Team Sunkiss)\\n\\n[2023.07.14] Solo (Team Vitamin Sea)\\n\\n[2023.07.15] Surabaya (Team Sunkiss)\\n\\nAcara Spesial Ramadan\\n\\n[2012.08.09] 1433 H / 2012 M\\n\\n[2013.07.18 - 2013.08.04] 1434 H / 2013 M\\n\\n[2014.07.01 - 2014.07.25] 1435 H / 2014 M\\n\\n[2015.06.19 - 2015.07.14] 1436 H / 2015 M\\n\\n[2016.06.08 - 2016.07.01] 1437 H / 2016 M\\n\\n[2017.05.30 - 2017.06.22] 1438 H / 2017 M\\n\\n[2018.05.17 - 2018.06.10] 1439 H / 2018 M\\n\\n[2019.05.08 - 2019.06.01] 1440 H / 2019 M\\n\\n[2020.05.11 - 2020.06.19] 1441 H / 2020 M (acara kegiatan di Teater ditiadakan dan dilakukan secara daring akibat terjadinya lockdown pada awal dampak Pandemi COVID-19, dari pertengahan Bulan Suci Ramadhan 1441 H hingga setelah Lebaran Idul Fitri 1441 H)\\n\\n[2021.04.14 - 2021.05.09] 1442 H / 2021 M (Streaming; dilakukan sesuai dengan protokol kesehatan di masa Pandemi COVID-19)\\n\\n[2022.04.07 - 2022.04.29] 1443 H / 2022 M (Streaming; dilakukan sesuai dengan protokol kesehatan di masa Pandemi COVID-19)\\n\\n[2023.03.25 - 2023.04.18] 1444 H / 2023 M (Streaming)\\n\\n[2024.03.15 - 2024.04.07] 1445 H / 2024 M (Streaming)\\n\\nAcara Varietas\\n\\n[2021.10.16 -] JKT48 Variety Show (Streaming)\\n\\nAcara Televisi\\n\\nJKT48 School (Global TV, 2012/04/15~2012/06/03)\\n\\nJKT48 Missions (Trans 7, 2013/06/23~2013/09/22, Hiatus)\\n\\nJKT48 Story (RCTI, 2013/08/31~2013/11/16, Hiatus)\\n\\niClub48 (NET., 2014/10/11~2015/03/08)\\n\\nYokoso JKT48 (Antv, 2014/12/14~2015/03/8; RTV (sebagai \"The Best of Yokoso JKT48\", 2015/11/15~2015/12/06)\\n\\nThe Ichiban (RTV, 2015/12/13~2016/02/14)\\n\\nTokyo Trip: Luxury or Ordinary (RTV, 2016/09/17~2016/09/25)\\n\\nJapanTry!: Study Tour Kilat JKT48 ke Jepang (2017, Jak TV)\\n\\nSerial\\n\\nSerial TV\\n\\nArtikel utama: Daftar diskografi, filmografi, dan bibliografi JKT48 § Serial TV\\n\\nSerial Web\\n\\nArtikel utama: Daftar diskografi, filmografi, dan bibliografi JKT48 § Serial Web / Film Pendek\\n\\nAcara Radio\\n\\nJKT48 di OZ Radio (2014~2015)\\n\\nObrolan Luar Biasa @starhits.id (2017)\\n\\nYuhu! Sore Rabu bersama Devil\\'s Attack di Yuhu! Radio Network (2017)\\n\\nKOPAJA48 (dalam KOPAJA) di Gen FM (2019~2021)\\n\\nDJ Sore 48 (dalam DJ Sore) di Gen FM (Mei 2024)\\n\\nGEN48: Senbatsu Sousenkyo Single ke-26 JKT48 (dalam Semangat Pagi, DJ Sore, dan OTW Malam) di Gen FM (September 2024~)\\n\\nFilmografi\\n\\nArtikel utama: Daftar diskografi, filmografi, dan bibliografi JKT48 § Filmografi\\n\\nBuku/Majalah dan Media\\n\\nArtikel utama: Daftar diskografi, filmografi, dan bibliografi JKT48 § Bibilografi\\n\\nIklan\\n\\nArtikel utama: Daftar diskografi, filmografi, dan bibliografi JKT48 § Iklan\\n\\nPenghargaan dan Nominasi\\n\\nLihat pula: Daftar penghargaan dan nominasi yang diterima oleh JKT48\\n\\nGrup\\n\\nTahun Acara Nominasi Karya Hasil 2012 Yahoo! OMG Awards Indonesia 2012 Best Group Menang HAI Readers Music Awards 2012 [ 93 ] Best Single Heavy Rotation Menang Best Costume Menang Best Stage Performance Menang Best Freshmeat Menang Best of The Best (non-nominasi) Menang JPop Asia Music Awards 2012 Best Single Heavy Rotation Nominasi Best MV Heavy Rotation Nominasi 2013 100% Ampuh Awards 2013 Co Cuit (Best Female Group) Menang Dahsyatnya Awards 2013 Pendatang Baru Terdahsyat Menang Aksi Panggung Terdahsyat Nominasi Selebrita Awards 2013 New Comer of the Year Menang SCTV Music Awards 2013 Girlband Paling Ngetop Nominasi KLIK! Awards 2013 Pendatang Baru Terfavorit Menang Indonesia Kids\\' Choice Awards 2013 Boyband/Girlband Favorit Menang AMI Awards 2013 Grup Vokal Terbaik Nominasi Pendatang Baru Terbaik Nominasi Yahoo! OMG Awards Indonesia 2013 Best Group Menang Celeb with Most Die-Hard Fans Menang SCTV Awards 2013 Boy/Girl Band Paling Ngetop Nominasi HAI Readers Music Awards 2013 Best Stage Act Nominasi Best Concert Perkenalkan, Nama Kami JKT48 Menang Best Costume Menang Best Single Fortune Cookie yang Mencinta Menang Best Fresh Meat Menang 2014 Dahsyatnya Awards 2014 Duo/Grup Kolaborasi TerdahSyat Menang Aksi Panggung TerdahSyat Menang Lagu TerdahSyat RIVER Menang SCTV Music Awards 2014 Boy/Girlband Paling Ngetop Nominasi Global Seru Awards 2014 Aksi Panggung Paling Seru Menang Lagu Paling Seru Fortune Cookie yang Mencinta Menang World Music Awards 2014 Best Live Act Nominasi Best Group Nominasi Best Video Fortune Cookie yang Mencinta Nominasi Indonesia Kids\\' Choice Awards 2014 Group Favorit Menang AMI Awards 2014 Karya Produksi Grup Vokal Terbaik RIVER Menang Produser Terbaik Yasushi Akimoto Menang Grup Vokal Pop Terbaik RIVER Nominasi Showbiz Indonesia Award 2014 Band/Group of The Year Menang HAI Readers Music Awards 2014 The Best Single Papan Penanda Isi Hati Nominasi World Music Awards 2014 Best Indonesian Group Menang Best Indonesian Live Act Menang Best Indonesian Video Fortune Cookie yang Mencinta Menang 2015 Dahsyatnya Awards 2015 Duo/Grup TerdahSyat Menang Nickelodeon Kids\\' Choice Awards 2015 Favorite Asian Act Menang SCTV Music Awards 2015 Boy/Girlband Paling Ngetop Nominasi Nickelodeon Indonesia Kids\\' Choice Awards 2015 Grup/Band/Duo Favorit Menang AMI Awards 2015 Grup Vokal Pop Terbaik Papan Penanda Isi Hati Menang Karya Produksi Grup Vokal Terbaik Nominasi Social Media Awards 2015 Grup Vokal Sentimen Positif di Media Sosial Menang WebTVAsia Awards 2015 Indonesia Most Popular Channel 2015 Nominasi Anugerah Dangdut Indonesia 2015 Sahabat Dangdut Terpopuler Menang Mom and Kids Awards 2015 Group/Duo/Band Kesayangan Menang HAI Readers Music Awards 2015 Single Terbaik Halloween Night Nominasi 2016 Jawa Pos Group Award 2016 Group/Duo Terbaik 2016 Menang Dahsyatnya Awards 2016 Duo/Grup TerdahSyat Menang AMI Awards 2016 Grup Vokal Pop Terbaik Hanya Lihat ke Depan Nominasi Karya Produksi Grup Vokal Terbaik Nominasi Panasonic Gobel Awards 2016 Special Event JKT48 Ada Banyak Rasa ( RTV ) Nominasi Mom and Kids Awards 2016 Penyanyi Idola Kesayangan Kesayangan Menang 2017 JawaPos.com Readers Choice Award 2017 Grup/Band Favorit Menang AMI Awards 2017 Grup Vokal Pop Terbaik JKT48 Festival Greatest Hits Nominasi Karya Produksi Grup Vokal Terbaik Nominasi 2018 OZ Radio Friendly Music Awards 2018 Duo/Grup Ter-Friendly Dibatalkan 2020 RCTI+ Indonesian Digital Awards 2020 Most Favourite Live Chat Plus Seleb Beby , Feni , dan Shani Menang Frieska , Gaby , dan Celine Nominasi AMI Awards 2020 Karya Produksi Grup Vokal Terbaik Rapsodi Nominasi 2021 RCTI+ Indonesian Digital Awards 2021 Most Favourite Live Chat Plus Live Chat Plus Special JKT48 Nominasi AMI Awards 2021 Karya Produksi Grup Vokal Terbaik Cara Ceroboh untuk Mencinta - Darashinai Aishikata Nominasi 2022 AMI Awards 2022 Flying High Nominasi Indonesian Music Awards 2022 Duo/Group/Band of the Year Menang 2023 AMI Awards 2023 Karya Produksi Grup Vokal Terbaik Ponytail dan Shu-shu (versi 2023) Nominasi Amazing Kids Favorite Awards 2023 Penyanyi/Grup Musik Indonesia Favorit Menang 2024 Fortune Indonesia Summit 2024 Fortune Indonesia 40 Under 40 Melody (perwakilan dari JKT48) Penerima Telkomsel Awards 2024: 29th Anniversary Favorite Group / Duo Menang Amazing Kids Favorite Awards 2024 Penyanyi/Grup Musik Indonesia Favorit Menang\\n\\nAnggota\\n\\nTahun Acara Nominasi Diraih oleh Hasil 2014 Yahoo! Celebrity Awards Indonesia 2014 Most Wanted Female Melody Nominasi Teenage Idol Girl Nabilah Nominasi 2018 Piala Maya 2018 Aktor/Aktris Cilik/Remaja Terpilih Zara (pemeran \"Euis\" dari film \" Keluarga Cemara \" ) Menang 2019 Indonesian Movie Actors Awards 2019 Pemeran Anak-Anak Terbaik Menang Festival Film Bandung 2019 Pemeran Utama Wanita Terpuji Film Bioskop Zara (pemeran \"Dara Yunika\" dari film \" Dua Garis Biru \" ) Nominasi 2020 RCTI+ Indonesian Digital Awards 2020 Digital Darling Female Beby Nominasi Shani Nominasi Gracia Nominasi 2021 Festival Film Indonesia 2021 Kategori Aktris Favorit Pilihan Penonton Sisca (pemeran \"Anjani\" dari film \" Sobat Ambyar \" ) Tidak ada hasil Indonesian Movie Actors Awards 2021 Pemeran Pendatang Baru Terfavorit Menang Pemeran Pendatang Baru Terbaik Nominasi 2022 Piala Maya 2021 Nominasi Aktris Pendatang Baru Terpilih Nominasi 2023 Piala Maya 2022 Nominasi Aktris Pendatang Baru Terpilih (Piala Tuti Indra Malaon ) Zee (pemeran \"Dini / Windy\" dari film \" Kalian Pantas Mati \" ) Nominasi 2024 Amazing Kids Favorite Awards 2024 Aktris Indonesia Favorit Zee Menang Dunia Games Awards 2024 DG Cheat Guest Star of the Year Marsha Belum diputuskan\\n\\nPenghargaan Lain\\n\\nRekor MURI - Konser digital dengan kru terbanyak (24 Mei 2013)\\n\\nRekor MURI - Pemakaian kostum Halloween terbanyak (31 Oktober 2015)\\n\\nPermainan video\\n\\nLINE Let\\'s Get Rich x JKT48 (sejak 2015)\\n\\nJKT48 Puzzle Stage (dihentikan sejak 1 Agustus 2016)\\n\\nFree Fire x JKT48 In-Game Collaboration (sejak 4 November 2022)\\n\\nLogo\\n\\nLogo JKT48 versi horizontal (sejak 2011)\\n\\nLogo JKT48 dengan tulisan \"JAKARTA\" yang berputar ke kiri 90 derajat di samping kanannya (sejak 2011)\\n\\nLogo JKT48 versi horizontal dengan latar belakang merah (sejak 2011)\\n\\nLogo pertama Teater JKT48 dengan nama \"JAKARTA JKT48 THEATER\" (September 2012 - 26 Mei 2024), namun masih digunakan sebagai logo papan penandanya (sejak September 2012)\\n\\nLogo Kanal YouTube JKT48 TV (sejak 21 Agustus 2018)\\n\\nLogo Teater JKT48 khusus jalur siaran live streaming dengan nama \"JAKARTA JKT48 THEATER LIVE STREAMING\" (akhir Juli 2020 - 26 Mei 2024)\\n\\nLogo sekunder Teater JKT48 tanpa menyediakan siaran live streaming dengan nama \"JAKARTA JKT48 THEATER\" (1 dan 3 Desember 2023)\\n\\nLogo kedua Teater JKT48 dengan nama \"JAKARTA JKT48 THEATER\" dan juga digunakan sebagai jalur siaran live streaming (sejak 30 Mei 2024)\\n\\nLihat pula\\n\\nDaftar anggota JKT48\\n\\nTeater JKT48\\n\\nDaftar penampilan JKT48\\n\\nCatatan\\n\\n^ a b c d e JKT48 yang saat itu menjadi bagian dari Dentsu Inter Admark Media Group Indonesia pada tahun 2011 hingga tahun 2022. Namun, secara tidak langsung, JKT48 juga pernah terafiliasi dengan Global Mediacom/MNC Media (perusahaan media bagian dari MNC Asia Holding), melalui HITS Records (divisi khusus label musik bergenre pop dan sejenisnya dari Star Media Nusantara). Walaupun label musik tersebut hanya tercantum di setiap diskografi JKT48 dalam bentuk musik fisik baik CD maupun DVD, dari CD Promo yang bekerjasama dengan Hai (2012) hingga singel ke-21 \"Rapsodi\" (2020). Kerjasama afiliasi tersebut aktif pada tahun 2011 hingga tahun 2021.\\n\\n^ D Talent Manajement (sebelumnya: DentsuX Talent Management, sub-bagian dari Dentsu Inter Admark Media Group Indonesia) merupakan sebuah agensi manajemen artis di bawah naungan manajemen JKT48, baik hanya untuk staf JKT48 maupun mantan anggota JKT48. Hanya Haruka (mantan anggota JKT48 generasi 1,5 (2012-2016)), Melody (mantan anggota JKT48 generasi pertama (2011-2018) dan Manajer Umum Teater JKT48 (2015-sekarang)), Chika (mantan anggota JKT48 generasi ke-7 (2018-2024)), dan Shani (mantan anggota JKT48 generasi ke-3 (2014-2024) dan Wakil Manajer Umum Teater JKT48 (2024-sekarang)) yang saat ini tetap berada di agensi ini.\\n\\n^ JKT48 Akademi (JKT48 Academy) merupakan formasi pemula sebagai anggota baru JKT48 setelah lolos audisi, dibina oleh Sang Kepala Sekolah Kinal (mantan anggota JKT48 generasi pertama (2011-2018)), sebagai pengganti Siswi Pelatihan JKT48 (2012-2018 dan 2021-sekarang), serta aktif pada 8 April 2018 hingga 11 Maret 2021 (telah dibubarkan karena dampak Pandemi Covid-19 yang masih terjadi dengan melakukan restrukturisasi).\\n\\nReferensi\\n\\n^ a b \"About JKT48\". YouTube.\\n\\n^ a b \"インドネシア・ジャカルタで「JKT48」始動！ AKB48海外初の姉妹グループ誕生へ\". Oricon, Inc. 2011-05-11. Diarsipkan dari versi asli tanggal 2012-10-24. Diakses tanggal 2011-09-13.\\n\\n^ a b \"AKB48 Idol Group to Spawn JKT48 Spinoff in Indonesia\". Anime News Network. 2011-05-11. Diarsipkan dari versi asli tanggal 2012-11-07. Diakses tanggal 2011-09-12.\\n\\n^ a b \"Profil Anggota\". JKT48.com. JKT48 Operation Team. Diakses tanggal 26 Agustus 2024.\\n\\n^ Winn, Patrick (4 April 2019). \"How a Japanese girl-group empire is conquering Asian pop\". Public Radio International (dalam bahasa Inggris). Diarsipkan dari versi asli tanggal 2021-09-20. Diakses tanggal 24 April 2020.\\n\\n^ Dhaifurrakhman Abas (23 Januari 2020). \"JKT48 Rilis Lagu Orisinil Perdana, Rapsodi\". Medcom.id. Diarsipkan dari versi asli tanggal 2022-11-05. Diakses tanggal 24 April 2020.\\n\\n^ Sekar Aqillah Indraswari (14 Maret 2023). \"JKT48 Merilis Mini Album \\'THIS IS JKT48 NEW ERA\\' dengan 7 Lagu Baru\". Radar Bogor (via RBG.id). Diarsipkan dari versi asli tanggal 2023-03-25. Diakses tanggal 19 Maret 2023.\\n\\n^ a b c \"ＡＫＢ初の海外姉妹グループ、ＪＫＴ４８の可能性\". Nikkei. 2012-2-14. Diakses tanggal 2012-03-29. Periksa nilai tanggal di: |date= (bantuan)\\n\\n^ a b c \"AKB48 Indonesian sister group JKT48 introduces first 28 members\". Manichi Shimbun. 2011-11-03. Diarsipkan dari versi asli tanggal 2011-11-03. Diakses tanggal 2011-11-03.\\n\\n^ \"JKT48、母国で「ヘビロテ」初パフォーマンス＆初握手会\". Natalie. 2011-12-20. Diarsipkan dari versi asli tanggal 2022-11-05. Diakses tanggal 2012-03-29.\\n\\n^ \"AKB48の海外初姉妹グループ・JKT48、初MV完成 キュートなメイキングカット公開\". Modelpress. 2012-01-17. Diarsipkan dari versi asli tanggal 2015-07-23. Diakses tanggal 2012-03-29.\\n\\n^ \"JKT48『Heavy Rotation』のミュージックビデオが完成\". The Real Live Web. 2012-01-18. Diarsipkan dari versi asli tanggal 2017-12-01. Diakses tanggal 2012-03-29.\\n\\n^ \"Berita Terbaru\". Situs resmi JKT48. Diarsipkan dari versi asli tanggal 2012-03-19. Diakses tanggal 2012-03-29.\\n\\n^ \"JKT48が楽天のインドネシアECモールのCMに登場！\". RBB Today. 2012-01-27. Diarsipkan dari versi asli tanggal 2012-01-31. Diakses tanggal 2012-03-29.\\n\\n^ \"東南アジアに製品研究開発の拠点を ヤマハ発・柳社長にインタビュー\". Chunichi Shimbun. 2012-2-29. Diakses tanggal 2012-03-29. Periksa nilai tanggal di: |date= (bantuan)[pranala nonaktif permanen]\\n\\n^ \"Sharp Indonesia Gandeng JKT48\". Sumut Post. 2012-03-07. Diarsipkan dari versi asli tanggal 2012-03-12. Diakses tanggal 2012-03-29.\\n\\n^ \"JKT48起用！ シャープがインドネシアでシェア拡大狙う\". 大河原克行. Nikkei Trendy net. Diarsipkan dari versi asli tanggal 2019-06-17. Diakses tanggal 2012-03-29.\\n\\n^ \"Japan Pop Culture Festival (25 - 26 Februari 2012)\". Kedutaan Besar Jepang di Indonesia. 2012-01-31. Diarsipkan dari versi asli tanggal 2022-10-27. Diakses tanggal 2012-03-29.\\n\\n^ \"ＡＫＢ４８、ジャカルタで公演 Ｊポップ紹介イベント\". 47 News. 2012-02-25. Diarsipkan dari versi asli tanggal 2015-07-21. Diakses tanggal 2012-03-29.\\n\\n^ \"ＡＫＢ４８：インドネシアでＪＫＴと\"合体\"ライブ！\". Mainichi Shimbun. Diarsipkan dari versi asli tanggal 2012-03-01. Diakses tanggal 2012-03-29.\\n\\n^ \"JKT48、Google+に個人アカウント開設 AKBとの海外初合同ライブを限定配信\". Oricon Style. 2012-3-3. Diarsipkan dari versi asli tanggal 2023-10-09. Diakses tanggal 2012-03-29. Periksa nilai tanggal di: |date= (bantuan)\\n\\n^ \"JKT48:1月に初のCD発売決定 高城&仲川も公演デビューへ\". Mainichi jp. 2012-12-24. Diarsipkan dari versi asli tanggal 2013-04-23. Diakses tanggal 2012-12-24.\\n\\n^ Dyama Khazim (2013-05-26). \"Berkat \"Demi Konser JKT48\", JKT48 Turut Pecahkan Rekor MURI\". Japanesestation. Diarsipkan dari versi asli tanggal 2016-04-18. Diakses tanggal 2014-06-03.\\n\\n^ \"Ada Jabat Tangan Juga di Konser JKT48\". Gatra. 2013-6-19. Diakses tanggal 2013-07-08. Periksa nilai tanggal di: |date= (bantuan)[pranala nonaktif permanen]\\n\\n^ \"Perkenalkan, nama kami JKT48\". JKT48. Diarsipkan dari versi asli tanggal 2013-10-14. Diakses tanggal 2013-07-08.\\n\\n^ \"Konser Eksklusif \\'A Night with JKT48\\' di Trans Studio Bandung\". detikcom. Detik. 2014-03-06. Diarsipkan dari versi asli tanggal 2016-01-22. Diakses tanggal 2014-04-03.\\n\\n^ \"JKT48 5th Single CD Flying Get Launching Concert\". JKT48 Official Web Site. 2014-10-03. Diarsipkan dari versi asli tanggal 2023-09-04. Diakses tanggal 2014-04-03.\\n\\n^ \"\"Pengumuman Akhir PEMILIHAN MEMBER SINGLE KE-6 JKT48 dipersembahkan oleh Honda The Power of Dreams\"\". JKT48 Official Web Site. 2014-04-10. Diarsipkan dari versi asli tanggal 2023-07-15. Diakses tanggal 2014-04-28.\\n\\n^ \"SHINZU\\'I White Concert Sukses Menghibur Fans A Pink, SISTAR, Crispy Crunch, Soomin dan JKT48\". Today Idol. 2014-08-09. Diarsipkan dari versi asli tanggal 2016-03-14. Diakses tanggal 2014-08-26.\\n\\n^ \"Tampil Di Mahakarya RCTI 25, JKT48 Bentuk Formasi Tulisan RCTI\". Okejoss. 2014-08-24. Diarsipkan dari versi asli tanggal 2014-08-26. Diakses tanggal 2014-08-26.\\n\\n^ \"Sepanggung dengan SuJu-M, JKT48 akan Tampil Full Team di \\'Mahakarya RCTI 25\\'!\". Dreamersradio. 2014-08-16. Diarsipkan dari versi asli tanggal 2014-10-31. Diakses tanggal 2014-08-26.\\n\\n^ \"JKT48 Jadi Duta Aikatsu\". JPNN.com. Jpnn. 2014-09-11. Diarsipkan dari versi asli tanggal 2014-10-06. Diakses tanggal 2014-10-14.\\n\\n^ Purnomo, Sapto (2014-09-11). Noviandi, Ferry, ed. \"Pencinta JKT48 Akan Dihibur dengan Game dan Film Animasi Aikatsu!\". Liputan6.com. Liputan6. Diarsipkan dari versi asli tanggal 2015-07-21. Diakses tanggal 2014-10-14.\\n\\n^ \"JKT48 Ditunjuk Jadi Special Partner Aikatsu!\". JKT48Fans. 2014-09-11. Diarsipkan dari versi asli tanggal 2015-04-03. Diakses tanggal 2014-10-14.\\n\\n^ \"Ini alasan DKI gandeng JKT48 jadi duta Enjoy Jakarta\". Diarsipkan dari versi asli tanggal 2023-09-04. Diakses tanggal 2014-11-25.\\n\\n^ \"JKT48 diharapkan gandeng AKB48 untuk promosikan pariwisata Jakarta\". Diarsipkan dari versi asli tanggal 2023-09-04. Diakses tanggal 2014-11-25.\\n\\n^ \"Slank dan JKT48 jadi duta anti narkoba\". Diarsipkan dari versi asli tanggal 2023-09-04. Diakses tanggal 2014-12-12.\\n\\n^ \"The Dentsu Group Invests in IDN Media, a Media Platform Company for Millennials and Generation Z in Indonesia\". Dentsu Group Inc. (dalam bahasa Inggris). Diarsipkan dari versi asli tanggal 2022-08-12. Diakses tanggal 2022-12-07.\\n\\n^ Haris R N (12 April 2022). \"IDN Media Dirumorkan Sudah Mengakuisisi JKT48 dari Dentsu Media Group\". OverseasIdol.com. Diarsipkan dari versi asli tanggal 2023-03-29. Diakses tanggal 7 Desember 2022.\\n\\n^ 48TIME (27 Juni 2022). \"IDN Media welcomes JKT48 as part of its media group\" (dalam bahasa Inggris). Diarsipkan dari versi asli tanggal 2023-09-06. Diakses tanggal 6 September 2023 – via Instagram.\\n\\n^ 株式会社Vernalossom (dalam bahasa Jepang), 2023-04-01, diarsipkan dari versi asli tanggal 2023-04-01\\n\\n^ Haris R N (2 April 2023). \"Vernalossom, Agensi AKB48 Grup Overseas Kini Pindahkan Bisnis kepada Superball Inc\". OverseasIdol.com. Diarsipkan dari versi asli tanggal 2023-05-04. Diakses tanggal 4 Mei 2023.\\n\\n^ IDN Media (8 Agustus 2022). \"I want you... I need you... I love you... Lagu \\'Heavy Rotation\\' yang dibawakan 122 member dan ex-member @JKT48 dengan meriah membuka…\". Diarsipkan dari versi asli tanggal 2023-10-09. Diakses tanggal 27 September 2023 – via Instagram.\\n\\n^ Rafifa Shabira (8 Mei 2023). Zahrotustianah, ed. \"7 Momen Meet & Greet Nice to See You JKT48, Gen 10 Fix Member Inti\". IDN Times. Diarsipkan dari versi asli tanggal 2023-05-11. Diakses tanggal 8 Mei 2023.\\n\\n^ Rahayu L. Susilo (4 Juli 2023). \"Intip Momen Kemeriahan JKT48 Summer Festival 2023, Penuh Kejutan!\". Popmama.com. Diarsipkan dari versi asli tanggal 2023-09-27. Diakses tanggal 27 September 2023.\\n\\n^ IDN Media (3 Juli 2023). \"JKT48 SUMMER FESTIVAL 2023\". Diarsipkan dari versi asli tanggal 2023-07-04. Diakses tanggal 4 Juli 2023 – via Instagram.\\n\\n^ JKT48 Fanbase Madiun (6 Oktober 2023). \"[INFO] JKT48 Theater tidak pindah ke Menara...\" Diarsipkan dari versi asli tanggal 2023-10-09. Diakses tanggal 8 Oktober 2023 – via Facebook.\\n\\n^ JKT48 Fanbase Madiun (6 Oktober 2023). \"[INFO] Fasilitas JKT48 di IDN Media HQ\". Diarsipkan dari versi asli tanggal 2023-10-09. Diakses tanggal 8 Oktober 2023 – via Facebook.\\n\\n^ Winston Utomo (6 Oktober 2023). \"Welcoming JKT48 to IDN Media HQ\" (dalam bahasa Inggris). Diakses tanggal 7 Oktober 2023 – via Instagram.\\n\\n^ a b Es Krim Ngidol (6 Oktober 2023). \"HQ adalah singkatan dari headquarter dan untuk HO merupakan singkatan dari head office, kedua istilah ini merupakan istilah dalam dunia…\". Diakses tanggal 7 Oktober 2023 – via Instagram.\\n\\n^ Jeketian (6 Oktober 2023). \"IDN Media & JKT48\". Diakses tanggal 7 Oktober 2023 – via Instagram.\\n\\n^ JKT48 INFORMATION (7 Oktober 2023). \"IDN Times has just inaugurated the new headquarters to support JKT48 activities!\" (dalam bahasa Inggris). Diakses tanggal 7 Oktober 2023 – via Instagram.\\n\\n^ Muhammad Sadad (21 September 2023). \"Mampir ke kantor baru @idnmedia @jkt48 yang baru ditempati 3 hari ini. Congrats bro @williamputrautomo @winstonutomo. Terimakasih @jkt48…\". Diakses tanggal 7 Oktober 2023 – via Instagram.\\n\\n^ Vanny El Rahman (5 Oktober 2023). Rochmanudin, ed. \"Sukses! IDN Times Leadership Forum Hadirkan Menlu RI Retno Marsudi\". IDN Times. Diarsipkan dari versi asli tanggal 2023-10-09. Diakses tanggal 7 Oktober 2023.\\n\\n^ a b \"AKB48、初の紅白歌合戦イベントは大島優子率いる白組優勝\". Natalie. 2011-12-21. Diarsipkan dari versi asli tanggal 2012-02-04. Diakses tanggal 2012-03-29.\\n\\n^ \"ＡＫＢら総勢１５５人が「紅白対抗歌合戦」ファン２０００人熱狂！\". Sports Hochi. 2011-12-21. Diarsipkan dari versi asli tanggal 2012-01-10. Diakses tanggal 2012-03-29.\\n\\n^ \"AKB48紅白対抗歌合戦(2011年)取材レポート(2)\". Scramble Egg. 2011-12-27. Diarsipkan dari versi asli tanggal 2022-10-27. Diakses tanggal 2012-03-29.\\n\\n^ \"会いたかったDenganmu…」。JKT48が\"いいとも\"でテレビ番組に初登場。\". Techinsight. 2011-12-21. Diarsipkan dari versi asli tanggal 2022-10-27. Diakses tanggal 2012-03-29.\\n\\n^ \"JKT48が成田でイベント 会場から「かわいい！」\". J-Cast. 2011-12-24. Diarsipkan dari versi asli tanggal 2012-05-11. Diakses tanggal 2012-03-29.\\n\\n^ \"AKB48、SKE48、NMB48、SDN48、HKT48、JKT48、総勢210名で紅白に出場!!\". The Television. 2011-12-30. Diarsipkan dari versi asli tanggal 2012-01-13. Diakses tanggal 2012-03-29.\\n\\n^ \"AKB48 リクエストアワー セットリストベスト100 2012(2日目)\". Scramble Egg. 2012-01-21. Diarsipkan dari versi asli tanggal 2020-06-06. Diakses tanggal 2012-03-29.\\n\\n^ \"AKB48、新シングル\"GIVE ME FIVE!\"の収録内容と歌唱メンバー決定!\". Tower Records Online. 2012-01-13. Diarsipkan dari versi asli tanggal 2023-09-04. Diakses tanggal 2012-03-29.\\n\\n^ \"AKB48、さいたまSA最終日に前田卒業＆総選挙開催発表\". Natalie. 2012-3-26. Diarsipkan dari versi asli tanggal 2012-04-27. Diakses tanggal 2012-03-29. Periksa nilai tanggal di: |date= (bantuan)\\n\\n^ http://www.halojepang.com/berita-utama/4404-jkt48 Diarsipkan 2012-03-29 di Wayback Machine. JKT48 Jadi Kejutan Dalam Konser AKB48 di Saitama Super Arena.\\n\\n^ \"JKT48 ：日本のCM初登場 NG50回も「良くできた」と自画自賛 年内CDデビューに意欲\". Mantan Web. 2012-4-16. Diarsipkan dari versi asli tanggal 2016-03-04. Diakses tanggal 2012-04-18. Periksa nilai tanggal di: |date= (bantuan)\\n\\n^ a b \"AKB48ドーム最終日に前田敦子号泣「私の青春の全て」\". Natalie. 2012-8-27. Diarsipkan dari versi asli tanggal 2023-04-05. Diakses tanggal 2012-08-29. Periksa nilai tanggal di: |date= (bantuan)\\n\\n^ \"AKB48「夢のステージ」初ドーム公演初日に5万人熱狂\". Natalie. 2012-8-25. Diarsipkan dari versi asli tanggal 2022-12-27. Diakses tanggal 2012-08-29. Periksa nilai tanggal di: |date= (bantuan)\\n\\n^ \"AKB48小嶋陽菜:「あっちゃん、打ち上げにくる？」卒業に涙の天然ボケ\". Mantan Web. 2012-8-27. Diarsipkan dari versi asli tanggal 2012-08-29. Diakses tanggal 2012-08-29. Periksa nilai tanggal di: |date= (bantuan)\\n\\n^ \"\\'Duo Naturalisasi\\' Resmi Bergabung, JKT48 Gelar Temu Fans di Jepang\". LangitBerita.com. 2012-11-05. Diarsipkan dari versi asli tanggal 2014-03-27. Diakses tanggal 2012-11-06.\\n\\n^ \"「AKB版紅白」は紅組がリベンジ 紅組キャプテン篠田、涙の「とったどー！」\". Oricon Style. 2012-12-17. Diarsipkan dari versi asli tanggal 2013-05-26. Diakses tanggal 2013-01-11.\\n\\n^ \"第2回AKB48紅白対抗歌合戦 篠田麻里子の紅組が勝利\". The Real Live Web. 2012-12-18. Diarsipkan dari versi asli tanggal 2023-09-04. Diakses tanggal 2013-01-11.\\n\\n^ \"嵐・関ジャニ∞・AKB48・Perfumeが夢のコラボ！ 紅白でディズニー名曲を披露\". RBB Today. 2012-12-28. Diarsipkan dari versi asli tanggal 2023-09-04. Diakses tanggal 2013-01-11.\\n\\n^ \"紅白歌合戦 ： AKB48 \"史上最速の早着替え\"成功 総勢171人の人文字も\". Mantan Web. Mainichi Shimbun. 2012-12-31. Diarsipkan dari versi asli tanggal 2022-07-06. Diakses tanggal 2013-01-11.\\n\\n^ \"YouTubeで5日間完全ライブ配信！\". AKB48 Official Blog〜1830mから〜. Diarsipkan dari versi asli tanggal 2017-02-24. Diakses tanggal 2013-02-01.\\n\\n^ \"ヘビロテ４位…３連覇ならずもアニマルコスプレ\". 2013-1-27. Diarsipkan dari versi asli tanggal 2013-01-30. Diakses tanggal 2013-02-01. Periksa nilai tanggal di: |date= (bantuan)\\n\\n^ title name di Twitter. 2013-1-17. Retrieved 2013-2-1.\\n\\n^ \"JKT48 menghadiri acara pertukaran pelajar di Jepang\". Japanese Station. 2014-03-28. Diarsipkan dari versi asli tanggal 2016-03-05. Diakses tanggal 2014-04-03.\\n\\n^ \"JKT48 @JAM EXPO 2014: The Report\". JKT48Stuff. 2014-09-06. Diarsipkan dari versi asli tanggal 2023-09-04. Diakses tanggal 2014-10-04.\\n\\n^ \"JKT48 dan Yasushi Akimoto Tampil di Ulang Tahun Junior Chamber International Tokyo\". Today Idol. 2014-09-06. Diarsipkan dari versi asli tanggal 2015-01-25. Diakses tanggal 2014-10-04.\\n\\n^ \"ＡＫＢ大人事 宮沢→上海、高城→ＪＫＴ\". Nikkan Sports. 2012-8-25. Diarsipkan dari versi asli tanggal 2023-07-09. Diakses tanggal 2012-08-26. Periksa nilai tanggal di: |date= (bantuan)\\n\\n^ \"AKB48 27thシングル選抜総選挙 開票結果\". AKB48 TOKYO DOME までの軌跡. 2012-6-6. Diarsipkan dari versi asli tanggal 2014-02-09. Diakses tanggal 2012-08-25. Periksa nilai tanggal di: |date= (bantuan)\\n\\n^ \"JKT48:高城＆仲川がインドネシア語で初パフォーマンス 劇場デビューは26日\". Mainichi jp. 2012-12-10. Diarsipkan dari versi asli tanggal 2012-12-18. Diakses tanggal 2012-12-24.\\n\\n^ \"The results of AKB48 group\\'s big team shuffle!\". Tokyohive. 2014-02-24. Diarsipkan dari versi asli tanggal 2015-07-22. Diakses tanggal 2014-02-27.\\n\\n^ Riantrisnanto, Ruly, ed. (2013-4-23). \"River, Lagu Daur Ulang Baru JKT48\". Liputan6.com. Liputan6. Diarsipkan dari versi asli tanggal 2016-01-22. Diakses tanggal 2013-04-24. Periksa nilai tanggal di: |date= (bantuan)\\n\\n^ \"Rilis Singel \\'RIVER\\', JKT48 Siap Tembus Multi Platinum\". LangitBerita.com. 2013-5-12. Diarsipkan dari versi asli tanggal 2014-03-26. Diakses tanggal 2013-05-16. Periksa nilai tanggal di: |date= (bantuan)\\n\\n^ \"Perilisan \"Yuuhi wo Miteiruka? - Apakah Kau Melihat Mentari Senja?\" JKT48\". Hai Online. 2012-7-2. Diarsipkan dari versi asli tanggal 2014-03-07. Diakses tanggal 2013-07-08. Periksa nilai tanggal di: |date= (bantuan)\\n\\n^ \"JKT48 Discography - WAKUWAKU JAPAN MUSIC FESTIVAL\". JKT48 Discography. 2014-01-30. Diarsipkan dari versi asli tanggal 2023-09-04. Diakses tanggal 2014-02-28. .\\n\\n^ Hardian, Edi (2013-6-11). \"JKT48 Resmi Rilis \"Gingham Check\"\". Okezone.com. Okezone.com. Diarsipkan dari versi asli tanggal 2014-07-25. Diakses tanggal 2014-07-17. Periksa nilai tanggal di: |date= (bantuan)\\n\\n^ JKT48 Project. 16 Member Pemenang Janken Competition akan membawakan \"LOVE TRIP\". Retrieved from https://web.archive.org/web/20230904155950/https://www.youtube.com/watch?v=U4mmIwj3PVk&feature=youtu.be [Accessed on 19th August 2016]\\n\\n^ a b c \"ＪＫＴ４８:こけら落とし公演 高城＆仲川が現地語でサプライズ会見\". 2012-9-9. Diakses tanggal 2012-09-27. Periksa nilai tanggal di: |date= (bantuan)[pranala nonaktif permanen]\\n\\n^ \"Akhirnya, JKT48 Punya Teater Sendiri\". Surabaya Pagi.com. 2012-9-11. Diarsipkan dari versi asli tanggal 2012-11-11. Diakses tanggal 2012-09-27. Periksa nilai tanggal di: |date= (bantuan)\\n\\n^ Kapanlagi.com (2012-9-9). \"Teater Permanen JKT48: Panggung yang tak henti bergetar\". Merdeka.com. Diarsipkan dari versi asli tanggal 2015-09-12. Diakses tanggal 2012-09-27. Periksa nilai tanggal di: |date= (bantuan)\\n\\n^ JKT48 is nominated in HAI Reader’s Poll Music Awards 2012, JKT48Stuff. 29 Nov 2012. Diakses pada 1 Januari 2013.\\n\\nPranala luar\\n\\nWikimedia Commons memiliki media mengenai JKT48.\\n\\nPortal JKT48\\n\\n(Indonesia) Situs web resmi\\n\\n(Indonesia) Profil di KapanLagi.com\\n\\nJKT48 di Facebook\\n\\nJKT48 di Twitter\\n\\nJKT48 di Instagram\\n\\nJKT48 di YouTube\\n\\nJKT48 TV di YouTube\\n\\nJKT48 di TikTok\\n\\nJKT48 di Threads\\n\\nJKT48 di Spotify\\n\\nJKT48 di SHOWROOM\\n\\nJKT48 di Bilibili\\n\\nJKT48 di Sina Weibo (dalam bahasa Tionghoa)\\n\\nJKT48 di IDN App\\n\\nPengawasan otoritas MusicBrainz artist\\n\\nPranala ke artikel terkait l b s JKT48 Bagian dari IDN (sejak 2022) Anggota Anggota aktif Anggota tetap Amanda Christy Lia Callie Oniel Olla Feni Fiony Flora Freya Ella Gita Gracie Greesel Eli Indah Indira Jessi Lyn Kathrina Lulu Marsha Muthe Raisha Adel AG Gracia Cp-JKT Siswi pelatihan Generasi 11 Alya BJ-RM Anindya BJ-RM Cathy BJ-RM Elin BJ-RM Chelsea BJ-RM Cynthia BJ-RM Danella BJ-RM Daisy BJ-RM Gendis BJ-RM Michie BJ-RM Generasi 12 Aralie Delynn Lana Erine Fritzy Lily Trisha Moreen Levi Nayla Nachia Oline Regie Ribka Nala Kimmy Anggota virtual AKAV Kanaia AKAV Pia AKAV Tana AKAV Mantan anggota per tahun 2012 2013 2014 2015 2016 2017 2018 2019 2020 2021 2022 2023 2024 Perombakan 2016 2018 2020 Diskografi, filmografi, dan bibliografi ( lagu ) Album Studio 1. Heavy Rotation (2013) 2. Mahagita (2016) 3. B•E•L•I•E•V•E (2017) 4. JOY KICK! TEARS (2019) 5. Mahagita Vol. 2 (2023) Kompilasi Terbaik 1. JKT48 Festival Greatest Hits (2017) Col-KFC Mini 1. THIS IS JKT48 NEW ERA (2023) Single Adaptasi dari AKB48 Group Jepang (Bahasa Indonesia) 1. River (2013) 2. Apakah Kau Melihat Mentari Senja? (2013) 3. Fortune Cookie yang Mencinta (2013) 4. Musim Panas Sounds Good! (2013) 5. Flying Get (2014) 6. Gingham Check (2014) 7. Papan Penanda Isi Hati (2014) 8. Angin Sedang Berhembus (2014) 9. Pareo adalah Emerald (2015) 10. Refrain Penuh Harapan (2015) 11. Halloween Night (2015) 12. Beginner (2015/2016) 13. Hanya Lihat ke Depan (2016) 14. LOVE TRIP (2016) 15. Luar Biasa (2016) 16. So Long! (2017) 17. Indahnya Senyum Manismu dst. (2017) 18. Dirimu Melody (2018) 20. High Tension (2019) 22. Cara Ceroboh untuk Mencinta (2021) 24. Sayonara Crawl (2023) 26. #Sukinanda ( TBA ) Ganda 19. Everyday, Kachuusha / UZA (2018) Asli Bahasa Indonesia 21. Rapsodi (2020) 25. Magic Hour (sebagian lirik menggunakan bahasa Inggris, 2024) Bahasa Inggris 23. Flying High (2022) Digital/ Lainnya We Wish You a Merry Christmas–Jingle Bells (lagu Natal oleh anggota JKT48 yang beragama Kristen, 2016) JKT48 Circus (2018) JKT48 Circus Part 2 (2018) JKT48 Circus Part 3 (2019) JKT48 Sousenkyo 2018 Top 3 (2019) JKT48 Circus Part 4 (2019) JKT48 Acoustic (2021) Bukan PHO (De yang Gatal-gatal Sa) (Cover) (atas kerjasama dengan TikTok Indonesia, 2021) Berani Bersuara ᐸ3 ᐸ3 (berkolaborasi dengan Laleilmanino , atas kerjasama dengan Siberkreasi (bagian dari Kominfo ), 2022) Feel the Fire (atas kerjasama dengan Garena Free Fire Indonesia, 2022) Masa Depan yang Menyilaukan Mata (oleh siswi pelatihan generasi 10 dan 11, 2023) Ponytail dan Shu-shu (versi 2023) (lagu edisi musim panas oleh anggota tetap maksimal generasi 9, 2023) Punkish (versi JKT48V , 2023) Selamat Ulang Tahun (lagu spesial ulang tahun Shopee, atas kerjasama dengan Shopee Indonesia, 2023) Ini Ramadan Kita (lagu spesial Ramadan 1445 H oleh anggota JKT48 yang beragama Islam, berkolaborasi dengan Nasida Ria , atas kerjasama dengan Google Indonesia, 2024) Cinta, Persahabatan, dan Perjuangan (atas kerjasama dengan Garena Free Fire Indonesia, 2024) Belalang yang Membangkang (oleh siswi pelatihan generasi 11 dan 12, 2024) Virus Tipe Hati (versi JKT48V , 2024) Matsuri Penuh Ekspresi (atas kerjasama dengan Pokémon Indonesia, 2024) Saatnya Kesempatan (lagu tema Pemilihan Member Single ke-26 JKT48 , 2024) Lap Time Masa Remaja (versi 2024) (2024) CD Promo Kerjasama dengan Majalah Hai (2012) Heavy Rotation Kimi no Koto ga Suki Dakara (Karena Kusuka Dirimu) Ponytail to Chou-chou ( Ponytail dan Shu–shu ) Baby! Baby! Baby! Kontribusi untuk album/singel AKB48 Kamikyokutachi Give Me Five! Eien Pressure Sayonara Crawl Koisuru Fortune Cookie Heart Electric Kimi no Hohoemi wo Yume ni Miru Tsugi no Ashiato Mae Shika Mukanee Kokoro no Placard Kibōteki Refrain Halloween Night DVD Pajama Drive Senshuraku JKT48 in Concert: \"Perkenalkan, Nama Kami JKT48\" Renai Kinshi Jourei: Aturan Anti Cinta Boku no Taiyou: Matahari Milikku Video khusus After Rain Video Project (Mei 2020, YouTube JKT48) Only Today Video Project (Juni 2020, YouTube JKT48) JKT48 New Era Special Performance Video (sejak 2021) 109 (Marukyuu) & Virgin Love (NEW ERA Ver.) (Juni 2021, AKB48 Group Asia Festival 2021 ONLINE ) Only Today & Musim Panas yang Kacau (November 2021, YouTube JKT48) Dialog Dengan Kenari (Maret 2022, YouTube JKT48) Eureka Milik Kita (November 2022, YouTube JKT48) Benang Sari, Putik, dan Kupu-Kupu Malam (Maret 2023, YouTube JKT48) Kebun Binatang Saat Hujan (September 2023, YouTube JKT48) Langit Biru Cinta Searah (Maret 2024, YouTube JKT48) Filmografi Seri Televisi Bima Satria Garuda (2013, RCTI ) Satria Garuda BIMA-X (2014–2015, RCTI ) Tetangga Masa Gitu? (2014–2016, NET. ) Kesempurnaan Cinta (2017 (musim ketiga), NET. ) Seri Web/ Film Pendek Cinta Luar Biasa (2017, Kanal YouTube HITS Records ) JKT48 X RRQ Web Series \"Journey to Legendary\" (2019, Kanal YouTube JKT48 dan Team RRQ) 90 Hari Mencari Kerja (2021, Kanal YouTube Xiaomi Indonesia ) Film Pendek Profil Pendidikan Pancasila (2021, Kanal YouTube Cerdas Berkarakter Kemdikbud RI ) Serial Web Asli Vision+ (2021-2022) Twisted 2 \"Chapter 1: Karma Hantu Vlogger\" (2021) Cantik Ya Kamu (2021) Creepy Valentine \"Black Dinner\" (2022) A+ (2023, Prime Video ) Happy Birth-Die (2024, Vidio ) Magic Hour (2024, Kanal YouTube JKT48) Kostputri The Series (2024 (musim kedua), Kanal YouTube Kostputri The Series) Dia Angkasa (2024, MAXstream (asli) dan Viu ) Film Viva JKT48 (2014) Wewe (2015) Sunshine Becomes You (2015) Dilan 1990 (2018) Partikelir (2018) Keluarga Cemara (2018) Dilan 1991 (2019) Dua Garis Biru (2019) Koboy Kampus (2019) Ratu Ilmu Hitam (2019) Senior (2019) Sobat Ambyar (2021, Netflix ) Kalian Pantas Mati (2022) Ancika: Dia yang Bersamaku 1995 (2024) Melodate (2024, Prime Video ) Kuasa Gelap (2024) Bolehkah Sekali Saja Kumenangis (2024) 1 Kakak 7 Ponakan ( TBA ) Hidup Ini Terlalu Banyak Kamu ( TBA ) Bibliografi Buku The 1st Official Guide Book \"LOVE JKT48 2012\" (2012) The 2nd Official Guide Book \"LOVE JKT48 2013\" (2013) VIVA JKT48 ( VIVA JKT48 Comic Version ) (2014) LAPTIME JKT48\\xa0: Lima Tahun Penuh Cerita (2017) HEARTXBREAK (2017) Buku Foto Cetak Melody SUGAO – The Natural Face of Melody (oleh Melody ) (2013) Jessica Veranda \"J.V. ~OSHARE~\" (oleh Veranda ) (2013) Nabilah \"OTENBA 〜Cheerful Girl〜\" (oleh Nabilah ) (2013) JKT48 Senbatsu Photobook \"MERCI\" (oleh Senbatsu \" High Tension \" ) (2019) Cindy Yuvia \"Decisions\" (oleh Yupi ) (2019) C’est Moi SHANI (oleh Shani ) (2024) Digital Smile at Home (April dan Mei 2020) Sweet Dreams (Juni 2020) Seneng Ya, Ketemu Lagi! (Juli 2020) JKT48 Mask Collection (Agustus 2020) Peek-A-BOO! (November 2020) JKT48 9th Anniversary, Cheers! (Desember 2020) SOL/LUNA (Januari 2021) Be My Valentine (Februari 2021) Thank You for The Memories (Awal Maret 2021) Cara Ceroboh untuk Mencinta (Akhir Maret 2021) Cara Ceroboh untuk Mencinta MV Shooting Behind the Scene (April 2021) Cara Ceroboh untuk Mencinta - Seifuku Edition (Mei 2021) Aturan Anti Cinta (Juni 2021) Gadis-gadis Remaja (Juli 2021) Tunas di Balik Seragam (Agustus 2021) JKT48 Request Hour 2021 Setlist Best 30 (September 2021) JKT48 Theater 9th Anniversary Event (Oktober 2021) Only Today/Musim Panas yang Kacau (November 2021) New Era Project - Only Today & Musim Panas yang Kacau Performance Shot (Desember 2021) JKT48 10th Anniversary Kick-Off Conference (Januari 2022) Handmade, with Love (Februari 2022) Banzai JKT48 (Maret 2022) Kemilau Karya Kartini (April 2022) Cita-Cita Masa Kecilku (Mei 2022) FLYING high - Japan Trip (Juni 2022) JKT48 10th Anniversary Tour (Juli 2022) Anteraja Presents: JKT48 10th Anniversary Concert HEAVEN and Gaby Graduation Ceremony (Agustus 2022) Party (September 2022) Sinistrous Memoirs (Oktober 2022) Airport Fashion (November 2022) JKT48 AlterUniverse (Desember 2022) JKT48 11th Anniversary Concert: Flying High (Januari 2023) Kuchi Utsushi no Chocolate (Februari 2023) WRKOUT (Maret 2023) The Librarians (April 2023) JKT48 RAMADHAN SPECIAL SHOW (Mei 2023) Sushi Day (Juni 2023) JKT48 Summer Festival Diary (Juli 2023) The Journey of JKT48 Summer Tour 2023 (Agustus 2023) I Love JKT48 Theater (September 2023) The Black Bride (Oktober 2023) Sayonara Crawl (November 2023) FLOWERFUL (Desember 2023) JKT48 12th Anniversary Concert (Januari 2024) JKT48 Love Letter (Februari 2024) Season of Warmth (Maret 2024) JKT48 Ramadhan Special Show 2024 (April 2024) JKT48 Last Voyage (Mei 2024) THINK DONUT (Juni 2024) JKT48 Theater Sementara 2024 & Pajama Drive Shonichi (Juli 2024) Djakarta Tahoen ‘48 (Agustus 2024) ONE NIGHT OF J.K.T (September 2024) Personal Meet & Greet Festival: Road to Sousenkyo 2024 (Oktober 2024) TBA (November 2024) Penampilan teater, konser, acara, dan media Pertunjukan teater Tim J 1 \"Aturan Anti Cinta\" 2 \"Demi Seseorang\" Surprise Stage \"Matahari Milikku\" 3 \"Dewi Theater\" Special Stage Team J \"B•E•L•I•E•V•E\" Show 4 \"Sekarang Sedang Jatuh Cinta\" 5 \"Fajar Sang Idola\" Tim KIII 1 \"Matahari Milikku\" Special Tribute Show \"Aturan Anti Cinta\" 2 \"Gadis-gadis Remaja\" Waiting Stage \"Pajama Drive\" 3 \"Bel Terakhir Berbunyi\" Special Stage Team KIII \"B•E•L•I•E•V•E\" Show 4 \"Back Hip Circle\" 5 \"Cara Meminum Ramune\" Tim T Waiting Stage \"Pajama Drive\" 1 \"Sambil Menggandeng Erat Tanganku\" 2 \"Aturan Anti Cinta\" 3 \"Matahari Milikku\" 4 \"Demi Seseorang\" 5 \"Gadis-gadis Remaja\" 6 \"Dewi Theater\" 7 \"Tunas di Balik Seragam\" Waiting Stage \"Fly! Team T\" Tim Bunga Matahari (Himawarigumi) \"Bunga Matahari\" Siswi pelatihan/ Akademi 1 \"Pajama Drive\" (Generasi 1, Generasi 2, Generasi 3 (Tim Merah vs Tim Putih lalu Gabungan), Gabungan antara Generasi 4 dan 5, Akademi Kelas A maksimal Generasi 9, Generasi 10, serta Gabungan antara Generasi 11 dan 12 (masih berlangsung)) 2 \"Matahari Miliku\" (Generasi 2 dan Akademi Kelas A maksimal Generasi 8) 3 \"Ingin Bertemu\" (Generasi 11, serta Gabungan antara Generasi 11 dan 12 (masih berlangsung)) Era Baru JKT48 1 \"Aturan Anti Cinta\" (masih berlangsung) 2 \"Gadis-gadis Remaja\" 3 \"Tunas di Balik Seragam\" (akan berakhir) Spesial 10 tahun JKT48 \"Banzai JKT48\" 4 \"Cara Meminum Ramune\" (masih berlangsung) Special Stage \"Pajama Drive\" (khusus Generasi 10) 5 \"Sambil Menggandeng Erat Tanganku\" (Segera) 6. Panggung Asli pertama JKT48 (Segera) Acara khusus JKT48 Ramadhan (selama Ramadan tahun Hijriyah , streaming sejak tahun 2021) Siswi Pelatihan Generasi ke-3 bagian 1 Siswi Pelatihan Generasi ke-3 bagian 2 Tim J Tim KIII HUT JKT48 ke-4 Natal 2015 Surabaya 2016 HUT Teater JKT48 ke-4 Teater AKB48 1 Teater AKB48 2 Kelulusan Ghaida Senshuuraku Week B•E•L•I•E•V•E Show (Tim J dan KIII) Natal 2016 Kelulusan Jeje Tim T Kelulusan Veranda JKT48 Acoustic Ulang tahun yang pertama (2018) Pembubaran (2021) ( streaming berbayar) Back to the Theater 2020 ( streaming di RCTI+ ) Variety Show ( streaming berbayar, sejak tahun 2021) Reuni Generasi Pertama 2022 ( streaming berbayar) Surabaya dan Yogyakarta 2024 Ulang tahun JKT48V AKAV Pertama (2024) Pertunjukan Ulang Tahun Teater Pertama (2013) Ke-2 (2014) ( streaming di KapanLagi.com ) Ke-3 (2015) Ke-4 (2016) Ke-5 (2017) Ke-6 (2018) Ke-7 (2019) Ke-8 (2020) ( streaming berbayar di RCTI+ ) Ke-9 (2021) ( streaming berbayar) Ke-10 (2022) ( streaming berbayar) Ke-11 (2023) ( streaming berbayar) Ke-12 (2024) ( streaming berbayar) Pertunjukan per tahun 2012 2013 2014 2015 2016 2017 2018 2019 2020 ( streaming , di RCTI+ pada Maret dan Juni - September, berbayar sejak Agustus, serta menjadi independen sejak Oktober) 2021 ( streaming berbayar) 2022 ( streaming berbayar) 2023 ( streaming berbayar) 2024 ( streaming berbayar) Konser dan acara Konser dan acara spesial Perkenalkan, Nama Kami JKT48 (2013) JKT48 Sparkling Concert Tour (2013–2014) JKT48 Live in Concert, Mengarungi Samudra Nusantara Mengetuk Pintu Hatimu (2014–2015) JKT48 B•E•L•I•E•V•E Concert (2017) Tim KIII \" Jangan Kasih K3ndor \" (2017) JKT48 Circus (2018–2019) (termasuk konser mini) Tim J \" J Paradise \" (2019) Tim KIII \" KIII vs KIII \" (2020) JKT48 10th Anniversary Tour (2022) (termasuk konser mini) JKT48 Nice to See You (Mei 2023) (termasuk konser mini, secara streaming di Kanal YouTube JKT48) JKT48 Summer Festival 2023 ( streaming berbayar, 2023) JKT48 Summer Tour 2023 (2023) (termasuk konser mini) Sisca JKT48 Mini Concert: The Beginning (2023) (sebagai konser mini) JKT48 Spring Has Come (Mei 2024) (termasuk konser mini, secara streaming di Kanal YouTube JKT48) JKT48 Road to Sousenkyo 2024 (September 2024) (termasuk konser mini, secara streaming di Kanal YouTube JKT48) Konser Ulang Tahun Pertama (2012) Ke-2 (2013) ( Antv ) Ke-3 (2014) ( Indosiar ) Ke-4 (2015/2016) Ke-5 (2016) ( RTV ) Ke-6 (2017) Ke-7 (2018) ( Jelang Konser ) Ke-8 (2019) Ke-9 (2020) ( streaming berbayar di RCTI+ ) Ke-10 (melalui pengumuman) (2021) ( streaming berbayar) ( Ke-10 (melalui Konser) (Pertengahan 2022) ( streaming berbayar) ) Ke-11 (Akhir 2022) ( streaming berbayar) Ke-12 (2023) ( streaming berbayar) Ke-13 (2024) ( TBA ) Konser Kelulusan Haruka (2016, RTV ) Veranda (2017) Melody (2018, MNCTV ) Kinal (2018) Devi , Ikha , dan Naomi (2018) Shania (2019) Yupi (2019) Ayana , Sonia , Rachel , Vanka , Vienny , Yona , Angel , Michelle , dan Zara (2019, streaming tunda di RCTI+ ) Beby , Frieska , Nadila , Rona , dan Desy (2020, streaming berbayar di RCTI+ ) Lisa , Fia , Aya , Diani , Julie , Amel , Indy , Nanda , Tasya , Bri , Brielle , Febi , Lala , Vivi , Yori , Afiqah , Keisya , Nunu , Ume , Vany , Abel , Caithlyn , Chalista , Nabila , Shinta , dan Zahra (2021, streaming berbayar) Gaby (2022, streaming berbayar) Sisca (2023) Shani (2024, streaming berbayar) Pemilihan Senbatsu 2014 ( antv ) 2015 ( NET. ) 2016 ( RTV ) 2017 ( RTV ) 2018 ( streaming di Upme) 2019 ( streaming di RCTI+ ) 2024 ( TBA ) Request Hour 2016 ( streaming berbayar) 2017 ( streaming di YouTube) 2019 2021 ( streaming berbayar) Turnamen Janken 2016 2020 (Dibatalkan) Olahraga 2018 Media Acara televisi JKT48 School (2012, Global TV ) JKT48 Missions (2013, Trans7 ) JKT48 Story (2013, RCTI ) iClub48 (2014–2015, NET. ) Yokoso JKT48 (2014–2015, antv dan RTV ) The Ichiban (2015–2016, RTV ) Tokyo Trip: Luxury or Ordinary (2016, RTV ) JapanTry! (2017, Jak TV ) Acara radio JKT48 di OZ Radio (2014, 90.8 FM OZ Radio Jakarta ) Yuhu! Sore Rabu (2017, Yuhu! Radio Network ) Kopaja48 (2019–2021, 98.7 Gen FM Jakarta ) DJ Sore 48 (sepanjang Mei 2024, 98.7 Gen FM Jakarta ) GEN48: Senbatsu Sousenkyo Single ke-26 JKT48 (mulai September 2024, 98.7 Gen FM Jakarta ) Acara web Kanal YouTube HITS Records Uniknya JKT48 (2013–2016) JKT48 @ Obrolan Luar Biasa (bersama StarHits ) (2017) RCTI+ Live Chat Plus JKT48 (2019–2020) JKT48 with Love - Live from Home (2020) Ngabuburitz bareng JKT48 (Ramadan 1441 H / 2020 M) Back to the Theater (2020) Audisi Generasi 10 JKT48 (2020) JKT48 Battle Night (2020–2021) JKT48 Taklukan Tantangan (2020–2021) GoPlay (produksi Paragon Pictures ) GEMESH! (2021–2023) Mabar! (2021–2023) Bucin (2021–2023) IDN Live di aplikasi IDN App Temen Main (sejak 2022) Temen Makan (sejak 2022) Temen Masak (sejak 2022) Temen Ngobrol (sejak 2022) Nunggu Bedug Bareng JKT48 (selama Ramadan tahun Hijriyah , sejak 1444 H / 2023 M) Konten digital JKT48 TV (Kanal YouTube khusus konten-konten menarik, sejak 2018) Rumah Uma (dipandu oleh Uma) (Kanal YouTube JKT48, 2020–2021) Rumah Uma Live (dipandu oleh Uma) ( streaming berbayar, 2020–2021) Live House Rumah Uma SHOWROOM (dipandu oleh Uma) ( streaming di SHOWROOM , 2021) JKT48 X-Files ( streaming berbayar, 2020) JKT48 The Mind Game (dipandu oleh Uma) ( streaming berbayar, 2021) Kamar Shani with JKT48 11th Generation (dipandu oleh Shani ) (Kanal YouTube JKT48 TV, 2024) Wartak (Warunng Batak) (dipandu oleh Olla ) (Kanal YouTube JKT48 TV, 2024) Grup & manajemen Subgrup Musik 4 Gulali UO-Disb JKT48 Dangdut UO-Disb JKT48 Band UO-Disb JKT48 Acoustic Disb Tarian JKT48 Dance Project (Tarian Hip Hop) UO-Disb Tim Olahraga Elektronik Valkyrie48 Apsara48 (sementara) Amazons48 (sementara) Idola Virtual JKT48V AKAV Unit Internasional AKB48 Group Quadlips (Asia) Ls-Sb Solo Kosong Grup saudari AKB48 Group Mantan anggota senior JKT48 (melalui D Talent Management) Haruka Nakagawa Melody Nurramdhani Laksani Man/TGM Yessica Tamara Shani Indira Natio Man/TVGM Manajemen Yasushi Akimoto T-Pro AKS (2011–2020) Ls-Sb Vernalossom (sejak 2022) Ls-Sb Superball (sejak 2023) Dentsu Inter Admark Media Group Indonesia (2011–2022) Ag (V-Dentsu) JKT48 Project (2011–2018) DentsuX Entertainment (2018–2022) Media Nusantara Citra (2011–2022) Mansup-MNC IDN (sejak 2022) Ag (Sb-IDN) Indonesia Musik Nusantara / JKT48 (sejak 2022) Indonesia Creators Economy (sejak 2022) Ryo Kenjo (sejak 2011) H Fritz Fernandez (sejak 2018) GM Ghopta Chandra (2011–2014) Man/TGM Jiro Inao (2011–2017) Man † Melody Nurramdhani Laksani (sejak 2015) Man/TGM Shani Indira Natio (sejak 2024) Man/TVGM Winston Utomo (sejak 2022) B-IDN William Utomo (sejak 2022) B-IDN Label rekaman Dentsu Inter Admark Media Group Indonesia (2011–2022) Ag (V-Dentsu) JKT48 Project (2011–2018) dentsuXentertainment (2018–2022) HITS Records ( MNC Group ) (2012–2020) Mansup-MNC Sony Music Entertainment Indonesia (2013–2018) Dist-X Universal Music Indonesia (2015–2020) Dist-X Massive Music Entertainment (2019–2021) Dist-X INSIDE (2016-2022) Digi-Dist Believe Music (sejak pertengahan 2010an) Digi-Dist Jagonya Music & Sport Indonesia (2017) Distsus-KFC Indonesia Musik Nusantara / JKT48 (sejak 2022) Ag (Sb-IDN) Galeri • Portal Keterangan\\xa0: Cp-JKT : Kapten JKT48 \\xa0• BJ-RM : Sebelum bergabung sebagai anggota tetap JKT48, setelah dipromosikan dari status siswi pelatihan \\xa0• AG : Mengumumkan kelulusannya \\xa0• Col-KFC : Bekerjasama dengan KFC Indonesia \\xa0• TBA / (Segera) : Akan ditentukan \\xa0• Disb : Bubar \\xa0• UO-Disb : Bubar (secara tidak resmi) \\xa0• T-Pro : Total Producer • H : Kepala JKT48 \\xa0• GM : Manajer Umum JKT48 \\xa0• Man : Manajer JKT48 \\xa0• B-IDN : Pendiri IDN (termasuk JKT48) \\xa0• TGM : Manajer Umum Teater JKT48 • TVGM : Wakil Manajer Umum Teater JKT48 • † : Meninggal \\xa0• Ls-Sb : Di bawah lisensi dari Superball Inc. (bagian dari Vernalossom Co. Ltd.) (Jepang) \\xa0• Ag (V-Dentsu) : Agensi, di bawah lisensi dari Vernalossom Co. Ltd. (Jepang) dan di bawah kepemilikan dari Dentsu Inter Admark Media Group Indonesia (Indonesia) (2011–2022) \\xa0• Ag (Sb-IDN) : Agensi, di bawah lisensi dari Superball Inc. (bagian dari Vernalossom Co. Ltd.) (Jepang) dan di bawah kepemilikan dari IDN (Indonesia) (sejak 2022) \\xa0• Mansup-MNC : Dukungan Manajemen, atas kerjasama dengan MNC (secara tidak langsung) \\xa0• Dist-X : Distributor (tidak dicantumkan)\\xa0• Digi-Dist : Distributor digital \\xa0• Distsus-KFC : Distributor khusus milik KFC Indonesia • AKAV : Atas kerjasama dengan AKA Virtual (agensi YouTuber virtual dari Jepang dan Indonesia) l b s AKB48 Anggota Tim A Anna Iriyama Shizuka Oya Natsuki Kojima Yukari Sasaki Miru Shiroma Kayoko Takita Megu Taniguchi Chiyori Nakanishi Mariko Nakamura (vc) Yui Hiwatashi Miho Miyazaki Sakura Miyawaki Nanami Yamada Yui Yokoyama (c, general director) Logo AKB48 Tim K Maria Abe Manami Ichikawa Haruka Kodama Ayana Shinozaki Haruka Shimada (vc) Hinana Shimoguchi Mariya Suzuki Yūka Tano Chisato Nakata Ikumi Nakano Nana Fujita Minami Minegishi (c) Mion Mukaichi Tomu Mutō Shinobu Mogi Ami Yumoto Tim B Aina Wada Ayano Umeta Ryōka Ōshima (vc) Yuki Kashiwagi Rena Katō Yuria Kizaki (c) Honoka Aikawa Kaho Sato Miku Okada Moe Gotō Nagisa Sakaguchi Miyu Takeuchi Makiho Tatsuya Ruka Inoue Seina Fukuoka Ma Chia-ling Nako Yabuki Aeri Yokoshima Mayu Watanabe Tim 4 Miyabi Iino Rina Izuta Saho Iwatate Rio Ōkawa Miyu Ōmori Ayaka Okada Nana Okada (vc) Saya Kawamoto Ryoha Kitagawa Saki Kitazawa Mako Kojima Haruka Komiyama Kiara Satō Nagisa Shibuya Juri Takahashi (c) Mio Tomonaga Rena Nozawa Yuiri Murayama Kohaku Shirazuki Tim 8 Nagisa Sakaguchi Yui Yokoyama Hijiri Tanikawa Nanami Satō Tsumugi Hayasaka Akari Satō Kasumi Mougi Rin Okabe Hitomi Honda Maria Shimizu Ayane Takahashi Nanase Yoshikawa Yui Oguri Erina Oda Shiori Satō Ayaka Hidaritomo Hatsuka Utada Yuri Yokomichi Yūna Hattori Hinano Noda Haruna Hashimoto Reina Kita Kurena Chō Moeri Kondō Serika Nagano Nao Ōta Nanami Yamada Ruka Yamamoto Momoka Ōnishi Sayuna Hama Ikumi Nakano Mei Abe Kotone Hitomi Yuri Tani Miu Shitao Riona Hamamatsu Yurina Gyōten Kaoru Takaoka Natsuki Hirose Karen Yoshida Rena Fukuchi Misaki Terada Narumi Kuranoo Miyu Yoshino Moka Yaguchi Karin Shimoaoki Rira Miyazato Kenkyuusei Nanami Asai Kaori Inagaki Izumi Umemoto Haruka Kurosu Minami Sato Nagisa Shoji Kurumi Suzuki Manaka Taguchi Misaki Taya Ayami Nagatomo Nanami Noguchi Nanami Harima Mai Honma Ayaka Maeda Saki Michieda Orin Mutou Kana Yasuda Mizuki Yamauchi Suzuha Yamane Mantan Rina Nakanishi Mai Oshima Erena Ono Rino Sashihara (pindah ke HKT48) Atsuko Maeda Natsuki Satō Yuka Masuda Kaoru Hayano Yu Imai Ayana Takada Haruka Nakagawa (pindah ke JKT48) Sae Miyazawa (pindah ke SNH48/SKE48) Sayaka Nakaya Tomomi Kasai Mariko Shinoda Tomomi Itano Sayaka Akimoto Amina Sato Ayaka Kikuchi Misato Nonaka Yuko Oshima Haruka Katayama Yurina Takashima Rina Ikoma Aika Ota (pindah ke HKT48) Mina Oba (pindah ke SKE48) Suzuran Yamauchi (pindah ke SKE48) Sumire Sato (pindah ke SKE48) Ayaka Umeda (pindah ke NMB48) Riho Kotani Nao Furuhata Fūko Yagura Ayaka Morikawa Shihori Suzuki Rina Kawaei Sakiko Matsui Hikari Hashimoto Marina Kobayashi Mizuki Tsuchiyasu Mitsuki Maeda Asuka Kuramochi Rie Kitahara (pindah ke NGT48 [kapten]) Mayumi Uchida Aki Takajō Rena Nishiyama Yui Moriwaki Jurina Matsui Natsuki Uchiyama Moeka Iwasaki Chinatsu Okubora Misaki Iwasa Karen Iwata Natsuki Fujimura Mariya Nagao Kana Kobayashi Minami Takahashi (mantan general director ) Sayaka Yamamoto Haruka Ishida Ai Yamamoto Miyuki Watanabe Wakana Natori Mayu Ogasawara Ami Maeda Rina Hirata Haruka Shimazaki Moe Aigasa Nana Owada Miki Nishino Haruna Kojima AKB48 Subgrup/unit Honegumi from AKB48 • Crayon Friends from AKB48 • Chocolove from AKB48 • Okashina Sisters • No3b • Watarirouka Hashiritai • Queen & Elizabeth • Tim Dragon from AKB48 • French Kiss • Not Yet • Diva Grup saudari(a) SKE48 • SDN48 (bubar)\\xa0• NMB48 • OJS48 (bubar)\\xa0• HKT48 • JKT48 • SNH48 (memisahkan diri)\\xa0• NGT48 • BNK48 • STU48 • TPE48 (dialihkan)\\xa0• MNL48 • AKB48 Team SH • AKB48 Team TP • IZ*ONE (bubar)\\xa0• SGO48 (bubar)\\xa0• MUM48 (batal terbentuk) \\xa0• MUB48 (batal terbentuk)\\xa0• DEL48 (bubar)\\xa0• CGM48 Diskografi Album Set List: Greatest Songs 2006–2007 Kamikyokutachi Koko ni Ita Koto 1830m Tsugi no Ashiato Koko ga Rhodes da, Koko de Tobe! 0 to 1 no Aida Thumbnail Singel \" Sakura no Hanabiratachi \" \" Skirt, Hirari \" \" Aitakatta \" \" Seifuku ga Jama o Suru \" \" Keibetsu Shiteita Aijō \" \" Bingo! \" \" Boku no Taiyō \" \" Yūhi o Miteiru ka? \" \" Romance, Irane \" \" Sakura no Hanabiratachi 2008 \" \" Baby! Baby! Baby! \" \" Ōgoe Diamond \" \" 10nen Zakura \" \" Namida Surprise! \" \" Iiwake Maybe \" \" River \" \" Sakura no Shiori \" \" Ponytail to Shushu \" \" Heavy Rotation \" \" Beginner \" \" Chance no Junban \" \" Sakura no Ki ni Narō \" \" Everyday, Katyusha \" \" Flying Get \" \" Kaze wa Fuiteiru \" \" Ue kara Mariko \" \" Give Me Five! \" \" Manatsu no Sounds Good! \" \" Gingham Check \" \" Uza \" \" Eien Pressure \" \" So Long! \" \" Sayonara Crawl \" \" Koi Suru Fortune Cookie \" \" Heart Electric \" \" Suzukake no Ki no Michi de...Yaya Kihazukashii Ketsuron no Yō na Mono \" \" Mae Shika Mukanee \" \" Labrador Retriever \" \" Kokoro no Placard \" \" Kibōteki Refrain \" \" Green Flash \" \" Bokutachi wa Tatakawanai \" \" Halloween Night \" \" Kuchibiru ni Be My Baby \" \" Kimi wa Melody \" \" Tsubasa wa Iranai \" \" Love Trip / Shiawase o Wakenasai \" \" High Tension \" \" Shoot Sign \" \" Negaigoto no Mochigusare \" Singel digital \" Baby! Baby! Baby! \"\\xa0• \" Dareka no Tame ni: What Can I Do For Someone? \"\\xa0• \" Tenohira ga Kataru Koto \" Acara seleksi Pemilihan umum 2009 • 2010 • 2011 • 2012 • 2013 • 2014 • 2015 • 2016 Batu-gunting-kertas 2010 • 2011 • 2012 • 2013 • 2014 • 2015 Penampilan Acara televisi AKBingo! • AKB to Chome Chome! • AKB48 Nemousu Terebi • Shukan AKB • AKB0048 • AKB48 no Anta, Dare? • AKB Kousagi Dojo • AKB48 Show! Filmografi Densen Uta • Documentary of AKB48 To Be Continued • Moshidora • Documentary of AKB48 Show Must Go On • Majisuka Gakuen • Documentary of AKB48 No Flower Without Rain • Documentary of AKB48 The Time Has Come Artikel terkait AKB49: Renai Kinshi Jourei • AKB1/149 Ren\\'ai Sōsenkyo • Yasushi Akimoto • Teater AKB48 • AKS • office48 • Nogizaka46 • Keyakizaka46 • Yoshimotozaka46 • Hinatazaka46 • Tomonobu Togasaki • Wotagei l b s Pertunjukan teater AKB48 AKB48 Tim A 1. \"Party ga Hajimaru yo\" 2. \"Aitakatta\" 3. \"Dareka no Tame ni\" 4. \"Tadaima Renaichuu\" 5. \"Renai Kinshi Jourei\" 6. \"Mokugekisha\" Team A Waiting Stage 1st Setlist Team A Waiting Stage 2nd Setlist (Tadaima Renaichuu Modified) 7. \"M.T. ni Sasagu\" Tim K 1. \"Party ga Hajimaru yo\" 2. \"Seishun Girls\" 3. \"Nounai Paradise\" 4. \"Saishuu Bell ga Naru\" 5. \"Saka Agari\" 6. \"RESET\" Team K Waiting Stage 1st Setlist Team K Waiting Stage 2nd Setlist Tim B 1. \"Seishun Girls\" 2. \"Aitakatta\" 3. \"Pajama Drive\" 4. \"Idol no Yoake\" 5.\"Theater no Megami\" Team B Waiting Stage 6. \"Tadaima Renaichuu\" Tim 4 1. \"Boku no Taiyou\" 2. \"Te wo Tsunaginagara\" 3. \"Idol no Yoake\" 4. \"Yume wo Shinaseru Wake ni Ikanai\" Tim 8 1. \"Party ga Hajimaru yo\" 2. \"Aitakatta\" 3. \"Kimi mo 8 (Eito) de Nakou janai ka\" 4. \"Sono Shizuku wa, Mirai e to Tsunagaru Niji ni Naru.\" Siswi pelatihan 1. \"Tadaima Renaichuu\" 2. \"Idol no Yoake\" 3. \"Renai Kinshi Jourei\" 4. \"Theater no Megami\" 5. \"RESET\" 6. \"Boku no Taiyou\" 7. \"Pajama Drive\" 8. \"16th Generation Kenkyuusei Stage\" 9. \"Let\\'s Go Kenkyuusei!\" Himawarigumi 1. \"Boku no Taiyou\" 2. \"Yume wo Shinaseru Wake ni Ikanai\" Special Stage 1. \"Eve wa Adam no Abarabone\" 2. \"Seishun wa mada owaranai\" 3. \"Dounaru?! Dousuru?! AKB48 \" 4. \"Boku ga Koko ni Iru Riyuu \" 5. \"Koukando Bakuage\" 6. \"Minerva yo, Kaze wo Okose\" 7. \"Thumbnail\" 8. \"Kamikyoku Shibari\" 9. \"Sekai wa Yume ni Michite Iru\" 10. \"Yabai yo! Tsuite koren no ka?!\" 11. \"Idol Shuugyouchuu♡\" 12. \"Boku no Natsu ga Hajimaru\" Team Surprise by Pachinko 1. \"Juuryoku Symphaty\" 2. \"Bara no Gishiki\" 3. \"Hokori no Oka\" SKE48 Tim S 1. \"Party ga Hajimaru yo\" 2. \"Te wo Tsunaginagara\" 3. \"Seifuku no Me\" 4. \"RESET\" 5 \"Kasaneta Ashiato\" Tim KII 1. \"Aitakatta\" 2. \"Te wo Tsunaginagara\" 3. \"Ramune no Nomikata\" 4. \"Theater no Megami\" 5. \"Ostart\" (RESET Modified) 6. \"Saishuu Bell ga Naru\" Tim E 1. \"Pajama Drive\" 2. \"Saka Agari\" 3. \"Boku no Taiyou\" 4. \"Te wo Tsunaginagara\" 5 \"SKE Festival\" Siswi pelatihan 1. \"Party ga Hajimaru yo\" 2. \"Aitakatta\" 3. \"Seifuku no Me\" 4. \"Upcoming Stage\" 5. \"Seishun Girls\" Lintas Tim 1. \"Te wo Tsunaginagara\" SDN48 Semua anggota 1. \"Yuuwaku no Garter\" NMB48 Tim N 1. \"Dareka no Tame ni\" 2. \"Seishun Girls\" 3. \"Koko ni Datte Tenshi wa Iru\" 4. \"Mokugekisha\" (Mokugekisha Modified) 5. \"N Pride\" Tim M 1. \"Idol no Yoake\" 2. \"RESET\" 3. \"Dareka no Tame ni\" Tim BII 1. \"Aitakatta\" 2. \"Tadaima Renaichuu\" 3. \"Saka Agari\" 4. \"Renai Kinshi Jourei\" 5. \"2 ban-me no Door\" Cattleyagumi 1. \"Koko ni Datte Tenshi wa Iru\" Siswi pelatihan 1. \"Dareka no Tame ni\" 2. \"Party ga Hajimaru yo\" 3. \"Aitakatta\" 4. \"Seishun Girls\" 5. \"Souzou no Shijin\" 6. \"Todokanasoude Todokumono\" 7 \"Yume wa Nigenai\" HKT48 Tim H 1. \"Te wo Tsunaginagara\" Waiting Stage \"Hakata Legend\" 2. \"Seishun Girls\" 3. \"Saishuu Bell ga Naru\" 4. \"Theater no Megami\" 5. \"RESET\" Tim KIV 1. \"Theater no Megami\" 2. \"Saishuu Bell ga Naru\" 3. \"Seifuku no Me\" Tim TII 1. \"Te wo Tsunaginagara\" (With Kenkyuusei) Siswi pelatihan 1. \"Te wo Tsunaginagara\" (1st Gen) 2. \"Party ga Hajimaru yo\" 3. \"Nounai Paradise\" \"Te wo Tsunaginagara\" (With Team TII) Himawarigumi 1. \"Pajama Drive\" 2. \"Tadaima Renaichuu\" 3. \"Yuuwaku no Garter\" R24 / Generasi Kedua Hakata Refresh NGT48 Tim NIII 1. \"Party ga Hajimaru yo\" 2. \"Pajama Drive\" 3. \"Hokori no Oka\" Tim G 1. \"Saka Agari\" Siswi pelatihan \"Natsu no Nijikai PARTY\" (Party ga Hajimaru yo Modified) \"Party ga Hajimaru yo・Galveston Dori \" (Party ga Hajimaru yo Modified) \"Party ga Hajimaru yo・Echigo Yuki Tsubaki \" (Party ga Hajimaru yo Modified) \"Party ga Hajimaru yo ~ Kenkyuusei no Ibuki wo Kanjite! ~\" (Party ga Hajimaru yo Modified) Generasi Pertama (yang telah dipromosikan, tanpa tim) 1. \"Yume wo Shinaseru Wake ni Ikanai\" STU48 Generasi Pertama 1. GO!GO! little SEABIRDS!! 2. Bokutachi no Koi no Yokan Generasi Kedua 1. \"Boku no Taiyou\" JKT48 Tim J 1. \"Renai Kinshi Jourei\" 2. \"Dareka no Tame ni\" Surprise Stage \"Boku no Taiyou\" 3. \"Theater no Megami\" Special Stage Team J \"B•E•L•I•E•V•E\" Show 4. \"Tadaima Renaichuu\" 5. \"Idol no Yoake\" Tim KIII 1. \"Boku no Taiyou\" 2. \"Seishun Girls\" Waiting Stage \"Pajama Drive\" 3. \"Saishuu Bell ga Naru\" Special Stage Team KIII \"B•E•L•I•E•V•E\" Show 4. \"Saka Agari\" Produce Stage \"Romansa Sang Gadis\" 5. \"Ramune no Nomikata\" Tim T Waiting Stage \"Pajama Drive\" 1. \"Te wo Tsunaginagara\" 2. \"Renai Kinshi Jourei\" 3. \"Boku no Taiyou\" 4. \"Dareka no Tame ni\" 5. \"Seishun Girls\" 6. \"Theater no Megami\" 7. \"Seifuku no Me\" Siswi pelatihan 1. \"Pajama Drive\" (Semua Gen.) 2. \"Boku no Taiyou\" (Gen. 2 dan Akademi Kelas A) Himawarigumi \"Bunga Matahari\" BNK48 Tim BIII 1. \"Party ga Hajimaru yo\" Team BIII Waiting Stage 2. \"Saishuu Bell ga Naru\" Tim NV 1. \"Theater no Megami\" Siswi pelatihan 1. \"Party ga Hajimaru yo\" MNL48 Semua Tim dan Semua Generasi 1. \"Party ga Hajimaru yo\" AKB48 Team SH Semua anggota 1. \"Thumbnail\" l b s IDN Didirikan oleh Winston Utomo dan William Utomo Live Streaming IDN App Saweria Ekonomi Kreator ICE (Indonesia Creator Economy) MORF 1 Hiburan IDN Pictures (rumah produksi perfilman) JKT48 2 (grup idola) Boss Creator (musik dan festival) Media Digital IDN Times Popbela.com Popmama.com GGWP Duniaku.com FORTUNE Indonesia Yummy IDN Creative IDN Event Biro daerah IDN Times IDN Times Jatim (Jawa Timur) IDN Times Bali (Bali) IDN Times Sulsel (Sulawesi Selatan) IDN Times Sumut (Sumatera Utara) IDN Times Jabar (Jawa Barat) IDN Times Kaltim (Kalimantan Timur) IDN Times Jogja (Yogyakarta) IDN Times Jateng (Jawa Tengah) IDN Times Banten (Banten) IDN Times Sumsel (Sumatera Selatan) IDN Times Lampung (Lampung) IDN Times NTB (Nusa Tenggara Barat) Lainnya IDN Research Institute IDN Foundation Berhenti beroperasi Bluebird IDN OOH Keterangan\\xa0: 1 : Milik Deddy Corbuzier • 2 : Dibawah lisensi dari Vernalossom Co. Ltd. (melalui Superball Inc.) dari Jepang\\n\\nDiperoleh dari \"https://id.wikipedia.org/w/index.php?title=JKT48&oldid=26391891\"\\n\\nKategori:\\n\\nNama pengguna Twitter berbeda dengan Wikidata\\n\\nJKT48\\n\\nGrup musik Indonesia\\n\\nGrup musik yang didirikan tahun 2011\\n\\nGrup musik tahun 2010-an\\n\\nPenyanyi berbahasa Indonesia\\n\\nPenyanyi berbahasa Inggris\\n\\nAKB48 Group\\n\\nGrup vokal perempuan Indonesia\\n\\nGrup musik pop remaja\\n\\nPemenang Anugerah Musik Indonesia\\n\\nSelebritas YouTube Indonesia\\n\\nIDN (perusahaan)\\n\\nKategori tersembunyi:\\n\\nCS1 sumber berbahasa Inggris (en)\\n\\nGalat CS1: tanggal\\n\\nArtikel dengan pranala luar nonaktif\\n\\nArtikel dengan pranala luar nonaktif permanen\\n\\nCS1 sumber berbahasa Jepang (ja)\\n\\nTemplat webarchive tautan wayback\\n\\nHalaman dengan argumen ganda di pemanggilan templat\\n\\nArticles with hCards\\n\\nArtikel biografi dengan tabel penghargaan\\n\\nArtikel mengandung teks Jepang\\n\\nLang and lang-xx using deprecated ISO 639 codes\\n\\nPranala kategori Commons ada di Wikidata\\n\\nSitus web resmi berbeda dengan Wikidata dan Wikipedia\\n\\nArtikel Wikipedia dengan penanda MusicBrainz\\n\\nArtikel bagus\\n\\nArtikel bagus biasa\\n\\nSemua artikel bagus')]"
            ]
          },
          "execution_count": 7,
          "metadata": {},
          "output_type": "execute_result"
        }
      ],
      "source": [
        "data"
      ]
    },
    {
      "cell_type": "code",
      "execution_count": 8,
      "metadata": {
        "colab": {
          "base_uri": "https://localhost:8080/"
        },
        "id": "VQp4MaDzeC3g",
        "outputId": "99e0d7d4-fb1e-441a-d5e9-b179da25bc9b"
      },
      "outputs": [
        {
          "data": {
            "text/plain": [
              "1"
            ]
          },
          "execution_count": 8,
          "metadata": {},
          "output_type": "execute_result"
        }
      ],
      "source": [
        "len(data)"
      ]
    },
    {
      "cell_type": "markdown",
      "metadata": {
        "id": "0hZXVlFqdwRv"
      },
      "source": [
        "#**4: Split the Text into Chunks**"
      ]
    },
    {
      "cell_type": "code",
      "execution_count": 9,
      "metadata": {
        "id": "3DihTE_ob_zL"
      },
      "outputs": [],
      "source": [
        "text_splitter=CharacterTextSplitter(separator='\\n',\n",
        "                                    chunk_size=1000,\n",
        "                                    chunk_overlap=200)"
      ]
    },
    {
      "cell_type": "code",
      "execution_count": 10,
      "metadata": {
        "colab": {
          "base_uri": "https://localhost:8080/"
        },
        "id": "Fpk8mrzjeH17",
        "outputId": "a8c11aa8-5160-42c9-fef4-d39fa5cc4361"
      },
      "outputs": [
        {
          "name": "stderr",
          "output_type": "stream",
          "text": [
            "WARNING:langchain_text_splitters.base:Created a chunk of size 1121, which is longer than the specified 1000\n",
            "WARNING:langchain_text_splitters.base:Created a chunk of size 2145, which is longer than the specified 1000\n",
            "WARNING:langchain_text_splitters.base:Created a chunk of size 1066, which is longer than the specified 1000\n",
            "WARNING:langchain_text_splitters.base:Created a chunk of size 1051, which is longer than the specified 1000\n",
            "WARNING:langchain_text_splitters.base:Created a chunk of size 1069, which is longer than the specified 1000\n",
            "WARNING:langchain_text_splitters.base:Created a chunk of size 6686, which is longer than the specified 1000\n",
            "WARNING:langchain_text_splitters.base:Created a chunk of size 4348, which is longer than the specified 1000\n",
            "WARNING:langchain_text_splitters.base:Created a chunk of size 1235, which is longer than the specified 1000\n",
            "WARNING:langchain_text_splitters.base:Created a chunk of size 30079, which is longer than the specified 1000\n"
          ]
        }
      ],
      "source": [
        "text_chunks=text_splitter.split_documents(data)"
      ]
    },
    {
      "cell_type": "code",
      "execution_count": 11,
      "metadata": {
        "colab": {
          "base_uri": "https://localhost:8080/"
        },
        "id": "R-l41qDAeNSf",
        "outputId": "5e9605c4-00a2-425a-d8e4-3b52bbe4e7c5"
      },
      "outputs": [
        {
          "data": {
            "text/plain": [
              "104"
            ]
          },
          "execution_count": 11,
          "metadata": {},
          "output_type": "execute_result"
        }
      ],
      "source": [
        "len(text_chunks)"
      ]
    },
    {
      "cell_type": "code",
      "execution_count": 12,
      "metadata": {
        "colab": {
          "base_uri": "https://localhost:8080/"
        },
        "id": "NZjRHBnoeQ2R",
        "outputId": "db57be58-e4bf-45f1-c4f6-360a20297d5c"
      },
      "outputs": [
        {
          "data": {
            "text/plain": [
              "Document(metadata={'source': 'https://id.wikipedia.org/wiki/JKT48'}, page_content='JKT48\\nBasa Bali\\nBanjar\\nCebuano\\nEnglish\\nEspañol\\nFrançais\\nItaliano\\n日本語\\nJawa\\n한국어\\nBahasa Melayu\\nPolski\\nPortuguês\\nRomână\\nไทย\\nTagalog\\nTiếng Việt\\nWinaray\\n中文\\n文言\\nSunting pranala\\nDari Wikipedia bahasa Indonesia, ensiklopedia bebas')"
            ]
          },
          "execution_count": 12,
          "metadata": {},
          "output_type": "execute_result"
        }
      ],
      "source": [
        "text_chunks[0]"
      ]
    },
    {
      "cell_type": "code",
      "execution_count": 13,
      "metadata": {
        "colab": {
          "base_uri": "https://localhost:8080/"
        },
        "id": "BSSE72OYeqCi",
        "outputId": "1f6734c2-5c39-424a-dab4-9b0dae3e541a"
      },
      "outputs": [
        {
          "data": {
            "text/plain": [
              "Document(metadata={'source': 'https://id.wikipedia.org/wiki/JKT48'}, page_content='JKT48 Logo JKT48 (sejak 2011) Informasi latar belakang Asal Jakarta , Indonesia Genre Indo pop J-pop pop pop remaja bubblegum pop pop rock dangdut jazz ska Tahun aktif ( 2011-12-17 ) 17 Desember 2011 – sekarang (12 tahun) Label Studio rekaman Dentsu Inter Admark (2011–2022) HITS Records (label fisik, 2012–2020) [ a ] Indonesia Musik Nusantara (2022–) AKA Virtual (khusus JKT48V , 2023–) Lisensi Vernalossom (2011–) Superball (2023–) Distributor (Publisher) Sony Music Entertainment Indonesia (2013–2018, uncredited ) Universal Music Indonesia (2015–2020, uncredited ) Massive Music Entertainment (2019-2021, uncredited ) INSIDE (distributor digital, 2016-2022) Believe Music (distributor digital, sejak pertengahan 2010an) Jagonya Musik & Sport Indonesia (distributor khusus milik KFC , 2017) Artis terkait AKB48 Group Sub-Grup (bubar) 4 Gulali JKT48 Dangdut JKT48 Band JKT48 Dance Project JKT48 Acoustic Tim Olahraga Elektronik Valkyrie48 Idola Virtual JKT48V (bersama AKA Virtual) Unit Internasional Quadlips (bersama Superball Situs web jkt48 .com  Anggota lihat anggota saat ini  Mantan anggota lihat mantan anggota')"
            ]
          },
          "execution_count": 13,
          "metadata": {},
          "output_type": "execute_result"
        }
      ],
      "source": [
        "text_chunks[1]"
      ]
    },
    {
      "cell_type": "code",
      "execution_count": 14,
      "metadata": {
        "colab": {
          "base_uri": "https://localhost:8080/"
        },
        "id": "-zb9LQ20e4Qs",
        "outputId": "8147b254-a478-4833-8a0a-8cb2d91c86f8"
      },
      "outputs": [
        {
          "data": {
            "text/plain": [
              "Document(metadata={'source': 'https://id.wikipedia.org/wiki/JKT48'}, page_content='Logo JKT48 NEW ERA (sejak Juni 2022) Nama dagang JKT48 Sebelumnya PT Dentsu Inter Admark Media Group Indonesia (2011–2022) (melalui JKT48 Project (2011–2018) dan DentsuX Entertainment (2018–2022) ) Jenis Perseroan terbatas Industri musik dan hiburan Genre musik , tari , dan hiburan Didirikan 11 September 2011 ; 13 tahun lalu ( 2011-09-11 ) (pertama kali diumumkan) 2 November 2011 ; 12 tahun lalu ( 2011-11-02 ) (generasi pertama diumumkan) 17 Desember 2011 ; 12 tahun lalu ( 2011-12-17 ) (debut secara perdana) 8 September 2012 ; 12 tahun lalu ( 2012-09-08 ) ( Teater JKT48 ) Pendiri Yasushi Akimoto Harris Thajeb Reino Barack [ a ] Kantor pusat JKT48 Office @ IDN HQ Lantai 3 Menara Global , Jl. Jenderal Gatot Subroto Kav. 27, Kuningan Timur , Setiabudi , Jakarta Selatan 12950, Jakarta , Indonesia Cabang JKT48 Theater Lantai 4 fX Sudirman , Jl. Jenderal Sudirman No. 1, RT .1/ RW .3, Gelora , Tanah Abang , Jakarta Pusat , DKI Jakarta , Indonesia Wilayah operasi Indonesia dan Global Tokoh kunci Nariaki Terada ( CEO Superball ) Winston Utomo (CEO IDN) William Utomo ( COO IDN) Ryo Kenjo (Kepala JKT48) Fritz Fernandez (Manajer Umum JKT48) Melody Nurramdhani Laksani (Manajer Umum Teater JKT48 ) Shani Indira Natio (Wakil Manajer Umum Teater JKT48) Toshiaki Gomi (Direktur Kreatif JKT48) Aokuri (Produser Kreatif JKT48) Shania Gracia (Kapten JKT48) Produk JKT48 Official Merchandise Pemilik Dentsu Inter Admark Media Group Indonesia ( Dentsu International ) (2011-2022) Global Mediacom ( MNC Asia Holding ) (2011-2021, secara tidak langsung) [ a ] IDN (2022-sekarang) Anggota 52 anggota JKT48 (26 Agustus 2024) Induk Dentsu Inter Admark Media Group Indonesia ( Dentsu International ) (2011-2022) Global Mediacom ( MNC Asia Holding ) (2011-2021, secara tidak langsung) [ a ] IDN (2022-sekarang) (melalui Indonesia Creators Economy (2022-sekarang) ) Lisensi: Vernalossom (2011-sekarang) (melalui Superball (2023-sekarang) ) Divisi Teater JKT48 (2012-sekarang) JKT48 Tim J (2012-2021) JKT48 Tim KIII (2013-2021) JKT48 Tim T (2015-2019, 2020-2021) D Talent Management (2016-sekarang) [ b ] JKT48 Akademi (2018-2021) [ c ] Situs web jkt48 .com')"
            ]
          },
          "execution_count": 14,
          "metadata": {},
          "output_type": "execute_result"
        }
      ],
      "source": [
        "text_chunks[2]"
      ]
    },
    {
      "cell_type": "markdown",
      "metadata": {
        "id": "oRzFp91Wfb5d"
      },
      "source": [
        "#**5: Download the OpenAI Embeddings or Hugging Face Embeddings**"
      ]
    },
    {
      "cell_type": "code",
      "execution_count": 15,
      "metadata": {
        "colab": {
          "base_uri": "https://localhost:8080/"
        },
        "id": "GbpaRosM8Oud",
        "outputId": "81ab7c2f-977f-4ba7-823a-09fac87ec744"
      },
      "outputs": [
        {
          "name": "stderr",
          "output_type": "stream",
          "text": [
            "<ipython-input-15-73ad2f8e367a>:1: LangChainDeprecationWarning: The class `OpenAIEmbeddings` was deprecated in LangChain 0.0.9 and will be removed in 1.0. An updated version of the class exists in the :class:`~langchain-openai package and should be used instead. To use it run `pip install -U :class:`~langchain-openai` and import as `from :class:`~langchain_openai import OpenAIEmbeddings``.\n",
            "  embeddings = OpenAIEmbeddings()\n"
          ]
        }
      ],
      "source": [
        "embeddings = OpenAIEmbeddings()"
      ]
    },
    {
      "cell_type": "code",
      "execution_count": null,
      "metadata": {
        "colab": {
          "base_uri": "https://localhost:8080/"
        },
        "id": "sHNvev2k-V4D",
        "outputId": "9b2afdff-9b58-41d2-ab33-f1e2291e665b"
      },
      "outputs": [],
      "source": [
        "embeddings"
      ]
    },
    {
      "cell_type": "code",
      "execution_count": 17,
      "metadata": {
        "colab": {
          "base_uri": "https://localhost:8080/"
        },
        "id": "-JTIYLHPUMtN",
        "outputId": "e4e39076-a46f-4478-d93d-c4b07c0b24d9"
      },
      "outputs": [
        {
          "data": {
            "text/plain": [
              "1536"
            ]
          },
          "execution_count": 17,
          "metadata": {},
          "output_type": "execute_result"
        }
      ],
      "source": [
        "query_result = embeddings.embed_query(\"Hello world\")\n",
        "len(query_result)"
      ]
    },
    {
      "cell_type": "markdown",
      "metadata": {
        "id": "e7UG7kM0hrtg"
      },
      "source": [
        "#**06: Convert the Text Chunks into Embeddings and Create a Knowledge Base**"
      ]
    },
    {
      "cell_type": "code",
      "execution_count": 18,
      "metadata": {
        "id": "3iG2iA-4hzIX"
      },
      "outputs": [],
      "source": [
        "vectorstore=FAISS.from_documents(text_chunks, embeddings)"
      ]
    },
    {
      "cell_type": "markdown",
      "metadata": {
        "id": "s7V8N04XjAdT"
      },
      "source": [
        "#**07: Create a Large Language Model (LLM) Wrapper**"
      ]
    },
    {
      "cell_type": "code",
      "execution_count": 19,
      "metadata": {
        "colab": {
          "base_uri": "https://localhost:8080/"
        },
        "id": "WmbUqPijjG3C",
        "outputId": "ef587a42-472f-4947-a22d-12416a1987c6"
      },
      "outputs": [
        {
          "name": "stderr",
          "output_type": "stream",
          "text": [
            "<ipython-input-19-bd12acb39de2>:1: LangChainDeprecationWarning: The class `ChatOpenAI` was deprecated in LangChain 0.0.10 and will be removed in 1.0. An updated version of the class exists in the :class:`~langchain-openai package and should be used instead. To use it run `pip install -U :class:`~langchain-openai` and import as `from :class:`~langchain_openai import ChatOpenAI``.\n",
            "  llm=ChatOpenAI()\n"
          ]
        }
      ],
      "source": [
        "llm=ChatOpenAI()"
      ]
    },
    {
      "cell_type": "code",
      "execution_count": null,
      "metadata": {
        "colab": {
          "base_uri": "https://localhost:8080/"
        },
        "id": "TSKa8emUsmhW",
        "outputId": "2d226228-726a-4488-8cd3-ef377b926050"
      },
      "outputs": [],
      "source": [
        "llm"
      ]
    },
    {
      "cell_type": "code",
      "execution_count": 22,
      "metadata": {
        "colab": {
          "base_uri": "https://localhost:8080/",
          "height": 70
        },
        "id": "yDmBlmEDCG62",
        "outputId": "bb1f3ae9-ce66-4dfe-d8f0-74ea9b94ec65"
      },
      "outputs": [
        {
          "data": {
            "application/vnd.google.colaboratory.intrinsic+json": {
              "type": "string"
            },
            "text/plain": [
              "'Pythagoras adalah seorang filsuf dan matematikawan kuno dari Yunani yang terkenal dengan teorema Pythagoras, yang menyatakan bahwa dalam segitiga siku-siku, kuadrat panjang sisi miring sama dengan jumlah kuadrat panjang sisi yang lain. Pythagoras juga dikenal karena kontribusinya dalam bidang musik, astronomi, dan filosofi. Ia juga mendirikan sekolah filsafat dan matematika di Kroton, Italia, yang dikenal sebagai sekolah Pythagoras.'"
            ]
          },
          "execution_count": 22,
          "metadata": {},
          "output_type": "execute_result"
        }
      ],
      "source": [
        "llm.predict(\"apa itu pytagoras\")"
      ]
    },
    {
      "cell_type": "markdown",
      "metadata": {
        "id": "qzgC6Z6wjpXC"
      },
      "source": [
        "#**08: Initialize the Retrieval QA with Source Chain**"
      ]
    },
    {
      "cell_type": "code",
      "execution_count": 23,
      "metadata": {
        "id": "8OITqbQgjvAj"
      },
      "outputs": [],
      "source": [
        "chain = RetrievalQAWithSourcesChain.from_llm(llm=llm, retriever=vectorstore.as_retriever())"
      ]
    },
    {
      "cell_type": "code",
      "execution_count": 24,
      "metadata": {
        "colab": {
          "base_uri": "https://localhost:8080/"
        },
        "id": "YhTOLCIGl3Os",
        "outputId": "e4dae7a4-a45f-4e50-8e95-fe72a953f40f"
      },
      "outputs": [
        {
          "name": "stderr",
          "output_type": "stream",
          "text": [
            "<ipython-input-24-5614aaa15836>:1: LangChainDeprecationWarning: The method `Chain.__call__` was deprecated in langchain 0.1.0 and will be removed in 1.0. Use :meth:`~invoke` instead.\n",
            "  result=chain({\"question\": \"Kapan JKT48 berdiri?\"}, return_only_outputs=True)\n",
            "/usr/local/lib/python3.10/dist-packages/langchain_community/chat_models/openai.py:173: UserWarning: Unexpected type for token usage: <class 'NoneType'>\n",
            "  warnings.warn(f\"Unexpected type for token usage: {type(new_usage)}\")\n"
          ]
        }
      ],
      "source": [
        "result=chain({\"question\": \"Kapan JKT48 berdiri?\"}, return_only_outputs=True)"
      ]
    },
    {
      "cell_type": "code",
      "execution_count": 25,
      "metadata": {
        "colab": {
          "base_uri": "https://localhost:8080/",
          "height": 35
        },
        "id": "0ioHtqtBY7Ec",
        "outputId": "23871a92-568b-4098-c6c6-fd29bae151e9"
      },
      "outputs": [
        {
          "data": {
            "application/vnd.google.colaboratory.intrinsic+json": {
              "type": "string"
            },
            "text/plain": [
              "'JKT48 didirikan pada tanggal 3 Desember 2011.\\n'"
            ]
          },
          "execution_count": 25,
          "metadata": {},
          "output_type": "execute_result"
        }
      ],
      "source": [
        "result['answer']"
      ]
    },
    {
      "cell_type": "code",
      "execution_count": 26,
      "metadata": {
        "id": "meUipuOuGPff"
      },
      "outputs": [],
      "source": [
        "wrapped_text = textwrap.fill(result['answer'], width=500)"
      ]
    },
    {
      "cell_type": "code",
      "execution_count": 27,
      "metadata": {
        "colab": {
          "base_uri": "https://localhost:8080/",
          "height": 35
        },
        "id": "gy0zm_HDpxSg",
        "outputId": "25c576a2-304c-4fe0-dfd6-c6fa52550c11"
      },
      "outputs": [
        {
          "data": {
            "application/vnd.google.colaboratory.intrinsic+json": {
              "type": "string"
            },
            "text/plain": [
              "'JKT48 didirikan pada tanggal 3 Desember 2011.'"
            ]
          },
          "execution_count": 27,
          "metadata": {},
          "output_type": "execute_result"
        }
      ],
      "source": [
        "wrapped_text"
      ]
    },
    {
      "cell_type": "code",
      "execution_count": 32,
      "metadata": {
        "colab": {
          "base_uri": "https://localhost:8080/"
        },
        "id": "rFOT5g9TE7ws",
        "outputId": "1c1cb58a-21bc-4f03-b941-69462ee7062a"
      },
      "outputs": [
        {
          "name": "stderr",
          "output_type": "stream",
          "text": [
            "/usr/local/lib/python3.10/dist-packages/langchain_community/chat_models/openai.py:173: UserWarning: Unexpected type for token usage: <class 'NoneType'>\n",
            "  warnings.warn(f\"Unexpected type for token usage: {type(new_usage)}\")\n"
          ]
        }
      ],
      "source": [
        "result=chain({\"question\": \"Apa konsep yang dibawa jkt48?\"}, return_only_outputs=True)"
      ]
    },
    {
      "cell_type": "code",
      "execution_count": 33,
      "metadata": {
        "colab": {
          "base_uri": "https://localhost:8080/",
          "height": 53
        },
        "id": "mH-s6NSuZcfr",
        "outputId": "e375c2de-f728-434a-aac0-8e1788e01fae"
      },
      "outputs": [
        {
          "data": {
            "application/vnd.google.colaboratory.intrinsic+json": {
              "type": "string"
            },
            "text/plain": [
              "'Konsep yang dibawa oleh JKT48 adalah sebagai grup idola yang dipromosikan oleh perusahaan-perusahaan Jepang di Indonesia untuk menjadi bintang iklan produk dan layanan mereka. Mereka tampil dalam berbagai acara promosi dan konser bersama dengan AKB48.\\n'"
            ]
          },
          "execution_count": 33,
          "metadata": {},
          "output_type": "execute_result"
        }
      ],
      "source": [
        "result['answer']"
      ]
    },
    {
      "cell_type": "code",
      "execution_count": 34,
      "metadata": {
        "id": "WwngqtcCDu9k"
      },
      "outputs": [],
      "source": [
        "wrapped_text = textwrap.fill(result['answer'], width=100)"
      ]
    },
    {
      "cell_type": "code",
      "execution_count": 35,
      "metadata": {
        "colab": {
          "base_uri": "https://localhost:8080/",
          "height": 53
        },
        "id": "WtC9OJDHefg2",
        "outputId": "8320a0d9-b7a4-438e-fc5c-948ccbf0684f"
      },
      "outputs": [
        {
          "data": {
            "application/vnd.google.colaboratory.intrinsic+json": {
              "type": "string"
            },
            "text/plain": [
              "'Konsep yang dibawa oleh JKT48 adalah sebagai grup idola yang dipromosikan oleh perusahaan-perusahaan\\nJepang di Indonesia untuk menjadi bintang iklan produk dan layanan mereka. Mereka tampil dalam\\nberbagai acara promosi dan konser bersama dengan AKB48.'"
            ]
          },
          "execution_count": 35,
          "metadata": {},
          "output_type": "execute_result"
        }
      ],
      "source": [
        "wrapped_text"
      ]
    },
    {
      "cell_type": "code",
      "execution_count": 37,
      "metadata": {
        "colab": {
          "base_uri": "https://localhost:8080/",
          "height": 245
        },
        "id": "ffPUXfwKkLvH",
        "outputId": "a9642e67-a212-4435-e9fb-9e2f39a1c515"
      },
      "outputs": [
        {
          "name": "stdout",
          "output_type": "stream",
          "text": [
            "Prompt: berapa total member jkt?\n"
          ]
        },
        {
          "name": "stderr",
          "output_type": "stream",
          "text": [
            "/usr/local/lib/python3.10/dist-packages/langchain_community/chat_models/openai.py:173: UserWarning: Unexpected type for token usage: <class 'NoneType'>\n",
            "  warnings.warn(f\"Unexpected type for token usage: {type(new_usage)}\")\n"
          ]
        },
        {
          "name": "stdout",
          "output_type": "stream",
          "text": [
            "Answer: JKT48 memiliki total 52 anggota.\n",
            "\n",
            "Prompt: exit\n",
            "Exiting\n"
          ]
        },
        {
          "ename": "SystemExit",
          "evalue": "",
          "output_type": "error",
          "traceback": [
            "An exception has occurred, use %tb to see the full traceback.\n",
            "\u001b[0;31mSystemExit\u001b[0m\n"
          ]
        },
        {
          "name": "stderr",
          "output_type": "stream",
          "text": [
            "/usr/local/lib/python3.10/dist-packages/IPython/core/interactiveshell.py:3561: UserWarning: To exit: use 'exit', 'quit', or Ctrl-D.\n",
            "  warn(\"To exit: use 'exit', 'quit', or Ctrl-D.\", stacklevel=1)\n"
          ]
        }
      ],
      "source": [
        "while True:\n",
        "  query=input(f\"Prompt: \")\n",
        "  if query == 'exit':\n",
        "    print('Exiting')\n",
        "    sys.exit()\n",
        "  if query =='':\n",
        "    continue\n",
        "  result=chain({'question':query})\n",
        "  print(f\"Answer: \" +result[\"answer\"])\n"
      ]
    },
    {
      "cell_type": "code",
      "execution_count": null,
      "metadata": {
        "id": "ab1lxX5WwXsJ"
      },
      "outputs": [],
      "source": []
    }
  ],
  "metadata": {
    "colab": {
      "provenance": []
    },
    "kernelspec": {
      "display_name": "Python 3",
      "name": "python3"
    },
    "language_info": {
      "name": "python"
    }
  },
  "nbformat": 4,
  "nbformat_minor": 0
}
